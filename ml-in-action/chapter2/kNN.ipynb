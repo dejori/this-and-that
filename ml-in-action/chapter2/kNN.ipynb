{
 "metadata": {
  "name": "",
  "signature": "sha256:b86c4c64f706b918cf9775b419f1a54ee9bf45ffcc43dce4b92619641a96af7b"
 },
 "nbformat": 3,
 "nbformat_minor": 0,
 "worksheets": [
  {
   "cells": [
    {
     "cell_type": "code",
     "collapsed": false,
     "input": [
      "from numpy import *\n",
      "import operator"
     ],
     "language": "python",
     "metadata": {},
     "outputs": [],
     "prompt_number": 1
    },
    {
     "cell_type": "code",
     "collapsed": false,
     "input": [
      "def createDataset():\n",
      "    group = array([[1.0,1.1],[1.0,1.0],[0,0],[0,0.1]])\n",
      "    labels = ['A','A','B','B']\n",
      "    return group, labels\n",
      "\n",
      "group,labels = createDataset()\n",
      "print group\n",
      "print labels"
     ],
     "language": "python",
     "metadata": {},
     "outputs": [
      {
       "output_type": "stream",
       "stream": "stdout",
       "text": [
        "[[ 1.   1.1]\n",
        " [ 1.   1. ]\n",
        " [ 0.   0. ]\n",
        " [ 0.   0.1]]\n",
        "['A', 'A', 'B', 'B']\n"
       ]
      }
     ],
     "prompt_number": 2
    },
    {
     "cell_type": "code",
     "collapsed": false,
     "input": [
      "def classify0(inX, dataSet,labels,k):\n",
      "    dataSetSize = dataSet.shape[0]\n",
      "    diffMat = tile(inX, (dataSetSize,1)) - dataSet # (a_i - b_i) \n",
      "    sqDiffMat = diffMat**2 # (a_i - b_i)^2\n",
      "    sqDistances = sqDiffMat.sum(axis = 1) # (a_0 - b_0)^2 + ... + (a_n - b_n)^2\n",
      "    distances = sqDistances**0.5\n",
      "    sortedDistIndices = distances.argsort()\n",
      "    classCount = {}\n",
      "    for i in range(k):\n",
      "        voteIlabel = labels[sortedDistIndices[i]]\n",
      "        classCount[voteIlabel] = classCount.get(voteIlabel,0) + 1\n",
      "    sortedClassCount = sorted(classCount.iteritems(),key=operator.itemgetter(1),reverse=True)\n",
      "    return sortedClassCount[0][0]"
     ],
     "language": "python",
     "metadata": {},
     "outputs": [],
     "prompt_number": 3
    },
    {
     "cell_type": "code",
     "collapsed": false,
     "input": [
      "testCase = [0,0]\n",
      "classify0(testCase,group, labels,2)"
     ],
     "language": "python",
     "metadata": {},
     "outputs": [
      {
       "metadata": {},
       "output_type": "pyout",
       "prompt_number": 4,
       "text": [
        "'B'"
       ]
      }
     ],
     "prompt_number": 4
    },
    {
     "cell_type": "code",
     "collapsed": false,
     "input": [],
     "language": "python",
     "metadata": {},
     "outputs": [],
     "prompt_number": 4
    }
   ],
   "metadata": {}
  }
 ]
}