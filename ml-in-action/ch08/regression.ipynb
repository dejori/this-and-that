{
 "metadata": {
  "name": "",
  "signature": "sha256:85bdf5f953a2db73cf8b1a121f9b892f10102d918c0f57533f55d329b2d41423"
 },
 "nbformat": 3,
 "nbformat_minor": 0,
 "worksheets": [
  {
   "cells": [
    {
     "cell_type": "code",
     "collapsed": false,
     "input": [
      "from numpy import *\n",
      "import matplotlib.pyplot as plt\n",
      "def loadDataSet(fileName):\n",
      "    numFeat = len(open(fileName).readline().split('\\t')) - 1\n",
      "    dataMat = []; labelMat = []\n",
      "    fr = open(fileName)\n",
      "    for line in fr.readlines():\n",
      "        lineArr =[]\n",
      "        curLine = line.strip().split('\\t')\n",
      "        for i in range(numFeat):\n",
      "            lineArr.append(float(curLine[i]))\n",
      "        dataMat.append(lineArr)\n",
      "        labelMat.append(float(curLine[-1]))\n",
      "    return dataMat,labelMat\n",
      "\n",
      "# w = (X^T * X)^-1 * X^T * y\n",
      "def standRegres(xArr,yArr):\n",
      "    xMat = mat(xArr); yMat = mat(yArr).T\n",
      "    xTx = xMat.T*xMat\n",
      "    if linalg.det(xTx) == 0.0:\n",
      "        print \"This matrix is singular, cannot do inverse\"\n",
      "        return\n",
      "    ws = xTx.I * (xMat.T*yMat)\n",
      "    return ws\n",
      "\n",
      "xArr,yArr=loadDataSet('data/ex0.txt')"
     ],
     "language": "python",
     "metadata": {},
     "outputs": [],
     "prompt_number": 7
    },
    {
     "cell_type": "code",
     "collapsed": false,
     "input": [
      "xArr[0:2]"
     ],
     "language": "python",
     "metadata": {},
     "outputs": [
      {
       "metadata": {},
       "output_type": "pyout",
       "prompt_number": 3,
       "text": [
        "[[1.0, 0.067732], [1.0, 0.42781]]"
       ]
      }
     ],
     "prompt_number": 3
    },
    {
     "cell_type": "code",
     "collapsed": false,
     "input": [
      "ws = standRegres(xArr,yArr)\n",
      "xMat=mat(xArr)\n",
      "yMat=mat(yArr)"
     ],
     "language": "python",
     "metadata": {},
     "outputs": [],
     "prompt_number": 4
    },
    {
     "cell_type": "code",
     "collapsed": false,
     "input": [
      "fig = plt.figure()\n",
      "ax = fig.add_subplot(111)\n",
      "ax.scatter(xMat[:,1].flatten().A[0], yMat.T[:,0].flatten().A[0])\n",
      "\n",
      "xCopy=xMat.copy()\n",
      "xCopy.sort(0)\n",
      "yHat=xCopy*ws\n",
      "\n",
      "ax.plot(xCopy[:,1].flatten().A[0],yHat.flatten().A[0],'r')\n",
      "plt.show()"
     ],
     "language": "python",
     "metadata": {},
     "outputs": [
      {
       "metadata": {},
       "output_type": "display_data",
       "png": "[encoded data removed]",
       "text": [
        "<matplotlib.figure.Figure at 0x1116ab290>"
       ]
      }
     ],
     "prompt_number": 5
    },
    {
     "cell_type": "code",
     "collapsed": false,
     "input": [
      "yHat = xMat*ws\n",
      "corrcoef(yHat.T, yMat)"
     ],
     "language": "python",
     "metadata": {},
     "outputs": [
      {
       "metadata": {},
       "output_type": "pyout",
       "prompt_number": 6,
       "text": [
        "array([[ 1.        ,  0.98647356],\n",
        "       [ 0.98647356,  1.        ]])"
       ]
      }
     ],
     "prompt_number": 6
    },
    {
     "cell_type": "heading",
     "level": 3,
     "metadata": {},
     "source": [
      "Locally Weighted Linear Regression"
     ]
    },
    {
     "cell_type": "code",
     "collapsed": false,
     "input": [
      "def lwlr(testPoint,xArr,yArr,k=1.0):\n",
      "    xMat = mat(xArr); yMat = mat(yArr).T\n",
      "    m = shape(xMat)[0]\n",
      "    weights = mat(eye((m)))\n",
      "    for j in range(m):\n",
      "        diffMat = testPoint - xMat[j,:]\n",
      "        weights[j,j] = exp(diffMat*diffMat.T/(-2.0*k**2))\n",
      "    xTx = xMat.T * (weights * xMat)\n",
      "    if linalg.det(xTx) == 0.0:\n",
      "        print \"This matrix is singular, cannot do inverse\"\n",
      "        return\n",
      "    ws = xTx.I * (xMat.T * (weights * yMat))\n",
      "    return testPoint * ws\n",
      "\n",
      "def lwlrTest(testArr,xArr,yArr,k=1.0):\n",
      "    m = shape(testArr)[0]\n",
      "    yHat = zeros(m)\n",
      "    for i in range(m):\n",
      "        yHat[i] = lwlr(testArr[i],xArr,yArr,k)\n",
      "    return yHat"
     ],
     "language": "python",
     "metadata": {},
     "outputs": [],
     "prompt_number": 7
    },
    {
     "cell_type": "heading",
     "level": 5,
     "metadata": {},
     "source": [
      "test different smoothing parameters"
     ]
    },
    {
     "cell_type": "code",
     "collapsed": false,
     "input": [
      "ks = [1,0.01,0.003]\n",
      "f, ax = plt.subplots(3, sharex=True)\n",
      "\n",
      "for idx, k in enumerate(ks):\n",
      "    ax[idx].scatter(xMat[:,1].flatten().A[0], mat(yArr).T.flatten().A[0] , s=2)\n",
      "    yHat = lwlrTest(xArr, xArr, yArr,k)\n",
      "    xMat=mat(xArr)\n",
      "    srtInd = xMat[:,1].argsort(0)\n",
      "    xSort=xMat[srtInd][:,0,:]\n",
      "    ax[idx].plot(xSort[:,1].flatten().A[0],yHat[srtInd],'r')\n",
      "    ax[idx].set_title('k = %0.3f' % k)\n",
      "plt.show()"
     ],
     "language": "python",
     "metadata": {},
     "outputs": [
      {
       "metadata": {},
       "output_type": "display_data",
       "png": "[encoded data removed]",
       "text": [
        "<matplotlib.figure.Figure at 0x111750d90>"
       ]
      }
     ],
     "prompt_number": 16
    },
    {
     "cell_type": "heading",
     "level": 2,
     "metadata": {},
     "source": [
      "Predicting the age of an abalone"
     ]
    },
    {
     "cell_type": "code",
     "collapsed": false,
     "input": [
      "def rssError(yArr,yHatArr):\n",
      "    return ((yArr-yHatArr)**2).sum()"
     ],
     "language": "python",
     "metadata": {},
     "outputs": [],
     "prompt_number": 9
    },
    {
     "cell_type": "heading",
     "level": 4,
     "metadata": {},
     "source": [
      "Train/test on same split"
     ]
    },
    {
     "cell_type": "code",
     "collapsed": false,
     "input": [
      "abX,abY=loadDataSet('data/abalone.txt')\n",
      "\n",
      "yHat01=lwlrTest(abX[0:99],abX[0:99],abY[0:99],0.1)\n",
      "yHat1=lwlrTest(abX[0:99],abX[0:99],abY[0:99],1)\n",
      "yHat10=lwlrTest(abX[0:99],abX[0:99],abY[0:99],10)"
     ],
     "language": "python",
     "metadata": {},
     "outputs": [],
     "prompt_number": 10
    },
    {
     "cell_type": "code",
     "collapsed": false,
     "input": [
      "print \"k=0.1 error = %0.3f\" % rssError(abY[0:99],yHat01.T)\n",
      "print \"k=1   error = %0.3f\" % rssError(abY[0:99],yHat1.T)\n",
      "print \"k=10  error = %0.3f\" % rssError(abY[0:99],yHat10.T)"
     ],
     "language": "python",
     "metadata": {},
     "outputs": [
      {
       "output_type": "stream",
       "stream": "stdout",
       "text": [
        "k=0.1 error = 56.788\n",
        "k=1   error = 429.891\n",
        "k=10  error = 549.118\n"
       ]
      }
     ],
     "prompt_number": 11
    },
    {
     "cell_type": "heading",
     "level": 4,
     "metadata": {},
     "source": [
      "Train/test on different splits"
     ]
    },
    {
     "cell_type": "code",
     "collapsed": false,
     "input": [
      "yHat01 = lwlrTest(abX[100:199],abX[0:99],abY[0:99],0.1)\n",
      "yHat1  = lwlrTest(abX[100:199],abX[0:99],abY[0:99],1)\n",
      "yHat10 = lwlrTest(abX[100:199],abX[0:99],abY[0:99],10)\n",
      "\n",
      "print \"k=0.1 error = %0.3f\" % rssError(abY[100:199],yHat01.T)\n",
      "print \"k=1   error = %0.3f\" % rssError(abY[100:199],yHat1.T)\n",
      "print \"k=10  error = %0.3f\" % rssError(abY[100:199],yHat10.T)"
     ],
     "language": "python",
     "metadata": {},
     "outputs": [
      {
       "output_type": "stream",
       "stream": "stdout",
       "text": [
        "k=0.1 error = 63738.809\n",
        "k=1   error = 573.526\n",
        "k=10  error = 517.571\n"
       ]
      }
     ],
     "prompt_number": 12
    },
    {
     "cell_type": "heading",
     "level": 3,
     "metadata": {},
     "source": [
      "Ridge Regression"
     ]
    },
    {
     "cell_type": "code",
     "collapsed": false,
     "input": [
      "def ridgeRegres(xMat,yMat,lam=0.2):\n",
      "    xTx = xMat.T*xMat\n",
      "    denom = xTx + eye(shape(xMat)[1])*lam\n",
      "    if linalg.det(denom) == 0.0:\n",
      "        print \"This matrix is singular, cannot do inverse\"\n",
      "        return\n",
      "    ws = denom.I * (xMat.T*yMat)\n",
      "    return ws"
     ],
     "language": "python",
     "metadata": {},
     "outputs": [],
     "prompt_number": 1
    },
    {
     "cell_type": "code",
     "collapsed": false,
     "input": [
      "def ridgeTest(xArr,yArr):\n",
      "    xMat = mat(xArr); yMat=mat(yArr).T\n",
      "    yMean = mean(yMat,0)\n",
      "    yMat = yMat - yMean\n",
      "    xMeans = mean(xMat,0)\n",
      "    xVar = var(xMat,0)\n",
      "    xMat = (xMat - xMeans)/xVar\n",
      "    numTestPts = 30\n",
      "    wMat = zeros((numTestPts,shape(xMat)[1]))\n",
      "    for i in range(numTestPts):\n",
      "        ws = ridgeRegres(xMat,yMat,exp(i-10))\n",
      "        wMat[i,:]=ws.T\n",
      "    return wMat"
     ],
     "language": "python",
     "metadata": {},
     "outputs": [],
     "prompt_number": 2
    },
    {
     "cell_type": "code",
     "collapsed": false,
     "input": [
      "abX,abY=loadDataSet('data/abalone.txt')"
     ],
     "language": "python",
     "metadata": {},
     "outputs": [],
     "prompt_number": 5
    },
    {
     "cell_type": "code",
     "collapsed": false,
     "input": [
      "ridgeWeights=ridgeTest(abX,abY)"
     ],
     "language": "python",
     "metadata": {},
     "outputs": [],
     "prompt_number": 6
    },
    {
     "cell_type": "code",
     "collapsed": false,
     "input": [
      "fig = plt.figure()\n",
      "ax = fig.add_subplot(111)\n",
      "ax.plot(ridgeWeights)\n",
      "plt.show()\n"
     ],
     "language": "python",
     "metadata": {},
     "outputs": [
      {
       "metadata": {},
       "output_type": "display_data",
       "png": "[encoded data removed]",
       "text": [
        "<matplotlib.figure.Figure at 0x10c7962d0>"
       ]
      }
     ],
     "prompt_number": 8
    },
    {
     "cell_type": "code",
     "collapsed": false,
     "input": [],
     "language": "python",
     "metadata": {},
     "outputs": []
    }
   ],
   "metadata": {}
  }
 ]
}