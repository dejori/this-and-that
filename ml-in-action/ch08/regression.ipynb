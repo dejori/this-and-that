{
 "metadata": {
  "name": "",
  "signature": "sha256:6edecc43ade2f4f26a88ab1b5b1e09235d113eb4140aa31221b298a686c23e78"
 },
 "nbformat": 3,
 "nbformat_minor": 0,
 "worksheets": [
  {
   "cells": [
    {
     "cell_type": "code",
     "collapsed": false,
     "input": [
      "from numpy import *\n",
      "def loadDataSet(fileName):\n",
      "    numFeat = len(open(fileName).readline().split('\\t')) - 1\n",
      "    dataMat = []; labelMat = []\n",
      "    fr = open(fileName)\n",
      "    for line in fr.readlines():\n",
      "        lineArr =[]\n",
      "        curLine = line.strip().split('\\t')\n",
      "        for i in range(numFeat):\n",
      "            lineArr.append(float(curLine[i]))\n",
      "        dataMat.append(lineArr)\n",
      "        labelMat.append(float(curLine[-1]))\n",
      "    return dataMat,labelMat\n",
      "\n",
      "\n",
      "def standRegres(xArr,yArr):\n",
      "    xMat = mat(xArr); yMat = mat(yArr).T\n",
      "    xTx = xMat.T*xMat\n",
      "    if linalg.det(xTx) == 0.0:\n",
      "        print \"This matrix is singular, cannot do inverse\"\n",
      "        return\n",
      "    ws = xTx.I * (xMat.T*yMat)\n",
      "    return ws\n",
      "\n",
      "xArr,yArr=loadDataSet('data/ex0.txt')"
     ],
     "language": "python",
     "metadata": {},
     "outputs": [],
     "prompt_number": 8
    },
    {
     "cell_type": "code",
     "collapsed": false,
     "input": [
      "xArr[0:2]"
     ],
     "language": "python",
     "metadata": {},
     "outputs": [
      {
       "metadata": {},
       "output_type": "pyout",
       "prompt_number": 9,
       "text": [
        "[[1.0, 0.067732], [1.0, 0.42781]]"
       ]
      }
     ],
     "prompt_number": 9
    },
    {
     "cell_type": "code",
     "collapsed": false,
     "input": [
      "ws = standRegres(xArr,yArr)\n",
      "xMat=mat(xArr)\n",
      "yMat=mat(yArr)"
     ],
     "language": "python",
     "metadata": {},
     "outputs": [],
     "prompt_number": 31
    },
    {
     "cell_type": "code",
     "collapsed": false,
     "input": [
      "import matplotlib.pyplot as plt\n",
      "fig = plt.figure()\n",
      "ax = fig.add_subplot(111)\n",
      "ax.scatter(xMat[:,1].flatten().A[0], yMat.T[:,0].flatten().A[0])\n",
      "\n",
      "xCopy=xMat.copy()\n",
      "xCopy.sort(0)\n",
      "yHat=xCopy*ws\n",
      "\n",
      "ax.plot(xCopy[:,1].flatten().A[0],yHat.flatten().A[0])\n",
      "plt.show()"
     ],
     "language": "python",
     "metadata": {},
     "outputs": [
      {
       "metadata": {},
       "output_type": "display_data",
       "png": "[encoded data removed]",
       "text": [
        "<matplotlib.figure.Figure at 0x10d6d1590>"
       ]
      }
     ],
     "prompt_number": 32
    },
    {
     "cell_type": "code",
     "collapsed": false,
     "input": [],
     "language": "python",
     "metadata": {},
     "outputs": []
    },
    {
     "cell_type": "code",
     "collapsed": false,
     "input": [],
     "language": "python",
     "metadata": {},
     "outputs": []
    }
   ],
   "metadata": {}
  }
 ]
}