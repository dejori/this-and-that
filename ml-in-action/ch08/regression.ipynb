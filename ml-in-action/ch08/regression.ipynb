{
 "metadata": {
  "name": "",
  "signature": "sha256:4679611a81363767868b86764f003ae92fbdd81cdb3e2d723be944524430873e"
 },
 "nbformat": 3,
 "nbformat_minor": 0,
 "worksheets": [
  {
   "cells": [
    {
     "cell_type": "code",
     "collapsed": false,
     "input": [
      "from numpy import *\n",
      "def loadDataSet(fileName):\n",
      "    numFeat = len(open(fileName).readline().split('\\t')) - 1\n",
      "    dataMat = []; labelMat = []\n",
      "    fr = open(fileName)\n",
      "    for line in fr.readlines():\n",
      "        lineArr =[]\n",
      "        curLine = line.strip().split('\\t')\n",
      "        for i in range(numFeat):\n",
      "            lineArr.append(float(curLine[i]))\n",
      "        dataMat.append(lineArr)\n",
      "        labelMat.append(float(curLine[-1]))\n",
      "    return dataMat,labelMat\n",
      "\n",
      "# w = (X^T * X)^-1 * X^T * y\n",
      "def standRegres(xArr,yArr):\n",
      "    xMat = mat(xArr); yMat = mat(yArr).T\n",
      "    xTx = xMat.T*xMat\n",
      "    if linalg.det(xTx) == 0.0:\n",
      "        print \"This matrix is singular, cannot do inverse\"\n",
      "        return\n",
      "    ws = xTx.I * (xMat.T*yMat)\n",
      "    return ws\n",
      "\n",
      "xArr,yArr=loadDataSet('data/ex0.txt')"
     ],
     "language": "python",
     "metadata": {},
     "outputs": [],
     "prompt_number": 8
    },
    {
     "cell_type": "code",
     "collapsed": false,
     "input": [
      "xArr[0:2]"
     ],
     "language": "python",
     "metadata": {},
     "outputs": [
      {
       "metadata": {},
       "output_type": "pyout",
       "prompt_number": 9,
       "text": [
        "[[1.0, 0.067732], [1.0, 0.42781]]"
       ]
      }
     ],
     "prompt_number": 9
    },
    {
     "cell_type": "code",
     "collapsed": false,
     "input": [
      "ws = standRegres(xArr,yArr)\n",
      "xMat=mat(xArr)\n",
      "yMat=mat(yArr)"
     ],
     "language": "python",
     "metadata": {},
     "outputs": [],
     "prompt_number": 31
    },
    {
     "cell_type": "code",
     "collapsed": false,
     "input": [
      "import matplotlib.pyplot as plt\n",
      "fig = plt.figure()\n",
      "ax = fig.add_subplot(111)\n",
      "ax.scatter(xMat[:,1].flatten().A[0], yMat.T[:,0].flatten().A[0])\n",
      "\n",
      "xCopy=xMat.copy()\n",
      "xCopy.sort(0)\n",
      "yHat=xCopy*ws\n",
      "\n",
      "ax.plot(xCopy[:,1].flatten().A[0],yHat.flatten().A[0],'r')\n",
      "plt.show()"
     ],
     "language": "python",
     "metadata": {},
     "outputs": [
      {
       "metadata": {},
       "output_type": "display_data",
       "png": "[encoded data removed]",
       "text": [
        "<matplotlib.figure.Figure at 0x10d542610>"
       ]
      }
     ],
     "prompt_number": 47
    },
    {
     "cell_type": "code",
     "collapsed": false,
     "input": [
      "yHat = xMat*ws\n",
      "corrcoef(yHat.T, yMat)"
     ],
     "language": "python",
     "metadata": {},
     "outputs": [
      {
       "metadata": {},
       "output_type": "pyout",
       "prompt_number": 46,
       "text": [
        "array([[ 1.        ,  0.98647356],\n",
        "       [ 0.98647356,  1.        ]])"
       ]
      }
     ],
     "prompt_number": 46
    },
    {
     "cell_type": "heading",
     "level": 3,
     "metadata": {},
     "source": [
      "Locally Weighted Linear Regression"
     ]
    },
    {
     "cell_type": "code",
     "collapsed": false,
     "input": [
      "def lwlr(testPoint,xArr,yArr,k=1.0):\n",
      "    xMat = mat(xArr); yMat = mat(yArr).T\n",
      "    m = shape(xMat)[0]\n",
      "    weights = mat(eye((m)))\n",
      "    for j in range(m):\n",
      "        diffMat = testPoint - xMat[j,:]\n",
      "        weights[j,j] = exp(diffMat*diffMat.T/(-2.0*k**2))\n",
      "    xTx = xMat.T * (weights * xMat)\n",
      "    if linalg.det(xTx) == 0.0:\n",
      "        print \"This matrix is singular, cannot do inverse\"\n",
      "        return\n",
      "    ws = xTx.I * (xMat.T * (weights * yMat))\n",
      "    return testPoint * ws\n",
      "\n",
      "def lwlrTest(testArr,xArr,yArr,k=1.0):\n",
      "    m = shape(testArr)[0]\n",
      "    yHat = zeros(m)\n",
      "    for i in range(m):\n",
      "        yHat[i] = lwlr(testArr[i],xArr,yArr,k)\n",
      "    return yHat"
     ],
     "language": "python",
     "metadata": {},
     "outputs": [],
     "prompt_number": 48
    },
    {
     "cell_type": "heading",
     "level": 5,
     "metadata": {},
     "source": [
      "test different smoothing parameters"
     ]
    },
    {
     "cell_type": "code",
     "collapsed": false,
     "input": [
      "ks = [1,0.1,0.03]\n",
      "f, ax = plt.subplots(3, sharex=True)\n",
      "\n",
      "for idx, k in enumerate(ks):\n",
      "    ax[idx].scatter(xMat[:,1].flatten().A[0], mat(yArr).T.flatten().A[0] , s=2)\n",
      "    yHat = lwlrTest(xArr, xArr, yArr,k)\n",
      "    xMat=mat(xArr)\n",
      "    srtInd = xMat[:,1].argsort(0)\n",
      "    xSort=xMat[srtInd][:,0,:]\n",
      "    ax[idx].plot(xSort[:,1].flatten().A[0],yHat[srtInd],'r')\n",
      "    ax[idx].set_title('k = %0.2f' % k)\n",
      "plt.show()"
     ],
     "language": "python",
     "metadata": {},
     "outputs": [
      {
       "metadata": {},
       "output_type": "display_data",
       "png": "[encoded data removed]",
       "text": [
        "<matplotlib.figure.Figure at 0x10d51ea10>"
       ]
      }
     ],
     "prompt_number": 80
    },
    {
     "cell_type": "heading",
     "level": 2,
     "metadata": {},
     "source": [
      "Predicting the age of an abalone"
     ]
    },
    {
     "cell_type": "code",
     "collapsed": false,
     "input": [
      "def rssError(yArr,yHatArr):\n",
      "    return ((yArr-yHatArr)**2).sum()"
     ],
     "language": "python",
     "metadata": {},
     "outputs": [],
     "prompt_number": 84
    },
    {
     "cell_type": "code",
     "collapsed": false,
     "input": [
      "abX,abY=loadDataSet('data/abalone.txt')\n",
      "yHat01=lwlrTest(abX[0:99],abX[0:99],abY[0:99],0.1)\n",
      "yHat1=lwlrTest(abX[0:99],abX[0:99],abY[0:99],1)\n",
      "yHat10=lwlrTest(abX[0:99],abX[0:99],abY[0:99],10)"
     ],
     "language": "python",
     "metadata": {},
     "outputs": [],
     "prompt_number": 101
    },
    {
     "cell_type": "code",
     "collapsed": false,
     "input": [
      "print rssError(abY[0:99],yHat01.T)\n",
      "print rssError(abY[0:99],yHat1.T)\n",
      "print rssError(abY[0:99],yHat10.T)"
     ],
     "language": "python",
     "metadata": {},
     "outputs": [
      {
       "output_type": "stream",
       "stream": "stdout",
       "text": [
        "56.7877600652\n",
        "429.89056187\n",
        "549.118170883\n"
       ]
      }
     ],
     "prompt_number": 102
    },
    {
     "cell_type": "heading",
     "level": 4,
     "metadata": {},
     "source": [
      "Train test on different splits"
     ]
    },
    {
     "cell_type": "code",
     "collapsed": false,
     "input": [
      "yHat01 = lwlrTest(abX[100:199],abX[0:99],abY[0:99],0.1)\n",
      "yHat1  = lwlrTest(abX[100:199],abX[0:99],abY[0:99],1)\n",
      "yHat10 = lwlrTest(abX[100:199],abX[0:99],abY[0:99],10)\n",
      "\n",
      "print rssError(abY[100:199],yHat01.T)\n",
      "print rssError(abY[100:199],yHat1.T)\n",
      "print rssError(abY[100:199],yHat10.T)"
     ],
     "language": "python",
     "metadata": {},
     "outputs": [
      {
       "output_type": "stream",
       "stream": "stdout",
       "text": [
        "35203.7691561\n",
        "573.52614419\n",
        "517.571190539\n"
       ]
      }
     ],
     "prompt_number": 103
    },
    {
     "cell_type": "code",
     "collapsed": false,
     "input": [],
     "language": "python",
     "metadata": {},
     "outputs": [],
     "prompt_number": 96
    },
    {
     "cell_type": "code",
     "collapsed": false,
     "input": [],
     "language": "python",
     "metadata": {},
     "outputs": []
    }
   ],
   "metadata": {}
  }
 ]
}