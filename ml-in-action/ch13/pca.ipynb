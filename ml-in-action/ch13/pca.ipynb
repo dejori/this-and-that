{
 "metadata": {
  "name": "",
  "signature": "sha256:b79b310e94efac391aa2d77ddca94bfabe74bdf009939bda90c33865b03fdf6c"
 },
 "nbformat": 3,
 "nbformat_minor": 0,
 "worksheets": [
  {
   "cells": [
    {
     "cell_type": "heading",
     "level": 1,
     "metadata": {},
     "source": [
      "Principal component analysis"
     ]
    },
    {
     "cell_type": "code",
     "collapsed": false,
     "input": [
      "from numpy import *\n",
      "\n",
      "def loadDataSet(fileName, delim='\\t'):\n",
      "    fr = open(fileName)\n",
      "    stringArr = [line.strip().split(delim) for line in fr.readlines()]\n",
      "    datArr = [map(float,line) for line in stringArr]\n",
      "    return mat(datArr)\n",
      "\n",
      "loadDataSet('data/testSet.txt')"
     ],
     "language": "python",
     "metadata": {},
     "outputs": []
    }
   ],
   "metadata": {}
  }
 ]
}