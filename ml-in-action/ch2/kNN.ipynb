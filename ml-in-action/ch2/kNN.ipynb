{
 "metadata": {
  "name": "",
  "signature": "sha256:b86c4c64f706b918cf9775b419f1a54ee9bf45ffcc43dce4b92619641a96af7b"
 },
 "nbformat": 3,
 "nbformat_minor": 0,
 "worksheets": [
  {
   "cells": [
    {
     "cell_type": "code",
     "collapsed": false,
     "input": [
      "from numpy import *\n",
      "import operator"
     ],
     "language": "python",
     "metadata": {},
     "outputs": [],
     "prompt_number": "*"
    },
    {
     "cell_type": "code",
     "collapsed": false,
     "input": [
      "def createDataset():\n",
      "    group = array([[1.0,1.1],[1.0,1.0],[0,0],[0,0.1]])\n",
      "    labels = ['A','A','B','B']\n",
      "    return group, labels\n",
      "\n",
      "group,labels = createDataset()\n",
      "print group\n",
      "print labels"
     ],
     "language": "python",
     "metadata": {},
     "outputs": [],
     "prompt_number": "*"
    },
    {
     "cell_type": "code",
     "collapsed": false,
     "input": [
      "def classify0(inX, dataSet,labels,k):\n",
      "    dataSetSize = dataSet.shape[0]\n",
      "    diffMat = tile(inX, (dataSetSize,1)) - dataSet # (a_i - b_i) \n",
      "    sqDiffMat = diffMat**2 # (a_i - b_i)^2\n",
      "    sqDistances = sqDiffMat.sum(axis = 1) # (a_0 - b_0)^2 + ... + (a_n - b_n)^2\n",
      "    distances = sqDistances**0.5\n",
      "    sortedDistIndices = distances.argsort()\n",
      "    classCount = {}\n",
      "    for i in range(k):\n",
      "        voteIlabel = labels[sortedDistIndices[i]]\n",
      "        classCount[voteIlabel] = classCount.get(voteIlabel,0) + 1\n",
      "    sortedClassCount = sorted(classCount.iteritems(),key=operator.itemgetter(1),reverse=True)\n",
      "    return sortedClassCount[0][0]"
     ],
     "language": "python",
     "metadata": {},
     "outputs": [],
     "prompt_number": "*"
    },
    {
     "cell_type": "code",
     "collapsed": false,
     "input": [
      "testCase = [0,0]\n",
      "classify0(testCase,group, labels,2)"
     ],
     "language": "python",
     "metadata": {},
     "outputs": [],
     "prompt_number": "*"
    },
    {
     "cell_type": "code",
     "collapsed": false,
     "input": [
      "def file2matrix(filename):\n",
      "    fr = open(filename)\n",
      "    numberOfLines = len(fr.readlines())\n",
      "    returnMat = zeros((numberOfLines, 3))\n",
      "    classLabelVector = []\n",
      "    fr = open(filename)\n",
      "    index = 0\n",
      "    for line in fr.readlines():\n",
      "        line = line.strip()\n",
      "        listFromLine = line.split('\\t')\n",
      "        returnMat[index,:] = listFromLine[0:3]\n",
      "        classLabelVector.append(int(listFromLine[-1]))\n",
      "        index += 1\n",
      "    return returnMat,classLabelVector\n",
      "    \n",
      "    "
     ],
     "language": "python",
     "metadata": {},
     "outputs": [],
     "prompt_number": "*"
    },
    {
     "cell_type": "code",
     "collapsed": false,
     "input": [
      "datingDataMat,datingLabels = file2matrix('data/datingTestSet2.txt')\n",
      "print datingDataMat\n",
      "print datingLabels[0:20]\n",
      "\n",
      "\n",
      "import matplotlib\n",
      "import matplotlib.pyplot as plt\n",
      "fig = plt.figure()\n",
      "ax = fig.add_subplot(111)\n",
      "ax.scatter(datingDataMat[:,1], datingDataMat[:,2],15.0*array(datingLabels), 15.0*array(datingLabels))\n",
      "plt.xlabel('Percentage of time spent playing video games')\n",
      "plt.ylabel('Liters of Ice cream consumed per week')\n",
      "plt.show()\n",
      "\n",
      "fig = plt.figure()\n",
      "ax = fig.add_subplot(111)\n",
      "ax.scatter(datingDataMat[:,1], datingDataMat[:,0],15.0*array(datingLabels), 15.0*array(datingLabels))\n",
      "plt.xlabel('Percentage of time spent playing video games')\n",
      "plt.ylabel('Frequent Flyer Miles earned per year')\n",
      "plt.show()\n",
      "\n"
     ],
     "language": "python",
     "metadata": {},
     "outputs": [],
     "prompt_number": "*"
    },
    {
     "cell_type": "code",
     "collapsed": false,
     "input": [
      "# newValue = (oldValue-min)/(max-min)\n",
      "def autoNorm(dataSet):\n",
      "    minVals = dataSet.min(0) #mins per column\n",
      "    maxVals = dataSet.max(0) #maxs per column\n",
      "    ranges = maxVals - minVals\n",
      "    normDataSet = zeros(shape(dataSet))\n",
      "    m = dataSet.shape[0]\n",
      "    normDataSet = dataSet - tile(minVals, (m,1))\n",
      "    normDataSet = normDataSet/tile(ranges, (m,1))\n",
      "    return normDataSet, ranges, minVals\n",
      "\n",
      "normMat, ranges, minVals = autoNorm(datingDataMat)\n",
      "print minVals"
     ],
     "language": "python",
     "metadata": {},
     "outputs": [],
     "prompt_number": "*"
    },
    {
     "cell_type": "code",
     "collapsed": false,
     "input": [
      "def datingClassTest():\n",
      "    hoRatio = 0.1\n",
      "    datingDataMat,datingLabels = file2matrix('data/datingTestSet2.txt')\n",
      "    normMat, ranges, minVals = autoNorm(datingDataMat)\n",
      "    m = normMat.shape[0]\n",
      "    numTestVecs = int(m*hoRatio)\n",
      "    errorCount = 0.0\n",
      "    for i in range(numTestVecs):\n",
      "        classifierResult = classify0(normMat[i,:],normMat[numTestVecs:m,:], datingLabels[numTestVecs:m],3)\n",
      "        print \"case %d: the classifier came back with: %d, the real answer is: %d\" % (i, classifierResult, datingLabels[i])\n",
      "        if (classifierResult != datingLabels[i]): errorCount += 1.0\n",
      "        \n",
      "    print \"the total error rate is: %f\" % (errorCount/float(numTestVecs))\n",
      "datingClassTest()"
     ],
     "language": "python",
     "metadata": {},
     "outputs": [],
     "prompt_number": "*"
    },
    {
     "cell_type": "code",
     "collapsed": false,
     "input": [
      "def classifyPerson():\n",
      "    resultList = ['not at all','in small doses', 'in large doses']\n",
      "    percentTats = float(raw_input(\"percentage of time spent playing video games?\"))\n",
      "    ffMiles = float(raw_input(\"frequent flier miles earned per year?\"))\n",
      "    iceCream = float(raw_input(\"liters of ice cream consumed per year?\"))\n",
      "    datingDataMat,datingLabels = file2matrix('datingTestSet2.txt')\n",
      "    normMat, ranges, minVals = autoNorm(datingDataMat)\n",
      "    inArr = array([ffMiles, percentTats, iceCream])\n",
      "    classifierResult = classify0((inArr-minVals)/ranges,normMat,datingLabels,3)\n",
      "    print \"You will probably like this person: \",resultList[classifierResult - 1]\n",
      "\n",
      "classifyPerson()"
     ],
     "language": "python",
     "metadata": {},
     "outputs": [],
     "prompt_number": "*"
    },
    {
     "cell_type": "code",
     "collapsed": false,
     "input": [
      "def img2vector(filename):\n",
      "    returnVect = zeros((1,1024))\n",
      "    fr = open(filename)\n",
      "    for i in range(32):\n",
      "        lineStr = fr.readline()\n",
      "        for j in range(32):\n",
      "            returnVect[0,32*i+j] = int(lineStr[j])\n",
      "    return returnVect\n",
      "\n",
      "testVector= img2vector('data/testDigits/0_13.txt')\n",
      "print testVector[0,0:31]\n",
      "print testVector[0,32:63]"
     ],
     "language": "python",
     "metadata": {},
     "outputs": [],
     "prompt_number": "*"
    },
    {
     "cell_type": "code",
     "collapsed": false,
     "input": [
      "from os import listdir\n",
      "\n",
      "def handwritingClassTest():\n",
      "    hwLabels = []\n",
      "    trainingFileList = listdir('data/trainingDigits')\n",
      "    m = len(trainingFileList)\n",
      "    trainingMat = zeros((m,1024))\n",
      "    for i in range(m):\n",
      "        fileNameStr = trainingFileList[i]\n",
      "        fileStr = fileNameStr.split('.')[0]\n",
      "        classNumStr = int(fileStr.split('_')[0])\n",
      "        hwLabels.append(classNumStr)\n",
      "        trainingMat[i,:] = img2vector('data/trainingDigits/%s' % fileNameStr)\n",
      "        \n",
      "    testFileList = listdir('data/testDigits')\n",
      "    errorCount = 0.0\n",
      "    mTest = len(testFileList)\n",
      "    for i in range(mTest):\n",
      "        fileNameStr = testFileList[i]\n",
      "        fileStr = fileNameStr.split('.')[0]\n",
      "        classNumStr = int(fileStr.split('_')[0])\n",
      "        vectorUnderTest = img2vector('data/testDigits/%s' % fileNameStr)\n",
      "        classifierResult = classify0(vectorUnderTest, \\\n",
      "                                trainingMat, hwLabels, 3)\n",
      "        print \"the classifier came back with: %d, the real answer is: %d\"\\\n",
      "                                % (classifierResult, classNumStr)\n",
      "        if (classifierResult != classNumStr): errorCount += 1.0\n",
      "    print \"\\nthe total number of errors is: %d\" % errorCount\n",
      "    print \"\\nthe total error rate is: %f\" % (errorCount/float(mTest))\n",
      "    \n",
      "    \n",
      "handwritingClassTest()"
     ],
     "language": "python",
     "metadata": {},
     "outputs": [],
     "prompt_number": "*"
    },
    {
     "cell_type": "code",
     "collapsed": false,
     "input": [],
     "language": "python",
     "metadata": {},
     "outputs": [],
     "prompt_number": "*"
    }
   ],
   "metadata": {}
  }
 ]
}