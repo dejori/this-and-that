{
 "metadata": {
  "name": "",
  "signature": "sha256:b86c4c64f706b918cf9775b419f1a54ee9bf45ffcc43dce4b92619641a96af7b"
 },
 "nbformat": 3,
 "nbformat_minor": 0,
 "worksheets": [
  {
   "cells": [
    {
     "cell_type": "code",
     "collapsed": false,
     "input": [
      "from numpy import *\n",
      "import operator"
     ],
     "language": "python",
     "metadata": {},
     "outputs": [],
     "prompt_number": 19
    },
    {
     "cell_type": "code",
     "collapsed": false,
     "input": [
      "def createDataset():\n",
      "    group = array([[1.0,1.1],[1.0,1.0],[0,0],[0,0.1]])\n",
      "    labels = ['A','A','B','B']\n",
      "    return group, labels\n",
      "\n",
      "group,labels = createDataset()\n",
      "print group\n",
      "print labels"
     ],
     "language": "python",
     "metadata": {},
     "outputs": [
      {
       "output_type": "stream",
       "stream": "stdout",
       "text": [
        "[[ 1.   1.1]\n",
        " [ 1.   1. ]\n",
        " [ 0.   0. ]\n",
        " [ 0.   0.1]]\n",
        "['A', 'A', 'B', 'B']\n"
       ]
      }
     ],
     "prompt_number": 20
    },
    {
     "cell_type": "code",
     "collapsed": false,
     "input": [
      "def classify0(inX, dataSet,labels,k):\n",
      "    dataSetSize = dataSet.shape[0]\n",
      "    diffMat = tile(inX, (dataSetSize,1)) - dataSet # (a_i - b_i) \n",
      "    sqDiffMat = diffMat**2 # (a_i - b_i)^2\n",
      "    sqDistances = sqDiffMat.sum(axis = 1) # (a_0 - b_0)^2 + ... + (a_n - b_n)^2\n",
      "    distances = sqDistances**0.5\n",
      "    sortedDistIndices = distances.argsort()\n",
      "    classCount = {}\n",
      "    for i in range(k):\n",
      "        voteIlabel = labels[sortedDistIndices[i]]\n",
      "        classCount[voteIlabel] = classCount.get(voteIlabel,0) + 1\n",
      "    sortedClassCount = sorted(classCount.iteritems(),key=operator.itemgetter(1),reverse=True)\n",
      "    return sortedClassCount[0][0]"
     ],
     "language": "python",
     "metadata": {},
     "outputs": [],
     "prompt_number": 21
    },
    {
     "cell_type": "code",
     "collapsed": false,
     "input": [
      "testCase = [0,0]\n",
      "classify0(testCase,group, labels,2)"
     ],
     "language": "python",
     "metadata": {},
     "outputs": [
      {
       "metadata": {},
       "output_type": "pyout",
       "prompt_number": 22,
       "text": [
        "'B'"
       ]
      }
     ],
     "prompt_number": 22
    },
    {
     "cell_type": "code",
     "collapsed": false,
     "input": [
      "def file2matrix(filename):\n",
      "    fr = open(filename)\n",
      "    numberOfLines = len(fr.readlines())\n",
      "    returnMat = zeros((numberOfLines, 3))\n",
      "    classLabelVector = []\n",
      "    fr = open(filename)\n",
      "    index = 0\n",
      "    for line in fr.readlines():\n",
      "        line = line.strip()\n",
      "        listFromLine = line.split('\\t')\n",
      "        returnMat[index,:] = listFromLine[0:3]\n",
      "        classLabelVector.append(int(listFromLine[-1]))\n",
      "        index += 1\n",
      "    return returnMat,classLabelVector\n",
      "    \n",
      "    "
     ],
     "language": "python",
     "metadata": {},
     "outputs": [],
     "prompt_number": 23
    },
    {
     "cell_type": "code",
     "collapsed": false,
     "input": [
      "datingDataMat,datingLabels = file2matrix('datingTestSet2.txt')\n",
      "print datingDataMat\n",
      "print datingLabels[0:20]\n",
      "\n",
      "\n",
      "import matplotlib\n",
      "import matplotlib.pyplot as plt\n",
      "fig = plt.figure()\n",
      "ax = fig.add_subplot(111)\n",
      "ax.scatter(datingDataMat[:,1], datingDataMat[:,2],15.0*array(datingLabels), 15.0*array(datingLabels))\n",
      "plt.xlabel('Percentage of time spent playing video games')\n",
      "plt.ylabel('Liters of Ice cream consumed per week')\n",
      "plt.show()\n",
      "\n",
      "fig = plt.figure()\n",
      "ax = fig.add_subplot(111)\n",
      "ax.scatter(datingDataMat[:,1], datingDataMat[:,0],15.0*array(datingLabels), 15.0*array(datingLabels))\n",
      "plt.xlabel('Percentage of time spent playing video games')\n",
      "plt.ylabel('Frequent Flyer Miles earned per year')\n",
      "plt.show()\n",
      "\n"
     ],
     "language": "python",
     "metadata": {},
     "outputs": [
      {
       "output_type": "stream",
       "stream": "stdout",
       "text": [
        "[[  4.09200000e+04   8.32697600e+00   9.53952000e-01]\n",
        " [  1.44880000e+04   7.15346900e+00   1.67390400e+00]\n",
        " [  2.60520000e+04   1.44187100e+00   8.05124000e-01]\n",
        " ..., \n",
        " [  2.65750000e+04   1.06501020e+01   8.66627000e-01]\n",
        " [  4.81110000e+04   9.13452800e+00   7.28045000e-01]\n",
        " [  4.37570000e+04   7.88260100e+00   1.33244600e+00]]\n",
        "[3, 2, 1, 1, 1, 1, 3, 3, 1, 3, 1, 1, 2, 1, 1, 1, 1, 1, 2, 3]\n"
       ]
      },
      {
       "metadata": {},
       "output_type": "display_data",
       "png": "[encoded data removed]",
       "text": [
        "<matplotlib.figure.Figure at 0x4647390>"
       ]
      },
      {
       "metadata": {},
       "output_type": "display_data",
       "png": "[encoded data removed]",
       "text": [
        "<matplotlib.figure.Figure at 0x4631290>"
       ]
      }
     ],
     "prompt_number": 29
    },
    {
     "cell_type": "code",
     "collapsed": false,
     "input": [
      "# newValue = (oldValue-min)/(max-min)\n",
      "def autoNorm(dataSet):\n",
      "    minVals = dataSet.min(0) #mins per column\n",
      "    maxVals = dataSet.max(0) #maxs per column\n",
      "    ranges = maxVals - minVals\n",
      "    normDataSet = zeros(shape(dataSet))\n",
      "    m = dataSet.shape[0]\n",
      "    normDataSet = dataSet - tile(minVals, (m,1))\n",
      "    normDataSet = normDataSet/tile(ranges, (m,1))\n",
      "    return normDataSet, ranges, minVals\n",
      "\n",
      "normMat, ranges, minVals = autoNorm(datingDataMat)\n",
      "print minVals"
     ],
     "language": "python",
     "metadata": {},
     "outputs": [
      {
       "output_type": "stream",
       "stream": "stdout",
       "text": [
        "[ 0.        0.        0.001156]\n"
       ]
      }
     ],
     "prompt_number": 33
    },
    {
     "cell_type": "code",
     "collapsed": false,
     "input": [
      "def datingClassTest():\n",
      "    hoRatio = 0.1\n",
      "    datingDataMat,datingLabels = file2matrix('datingTestSet2.txt')\n",
      "    normMat, ranges, minVals = autoNorm(datingDataMat)\n",
      "    m = normMat.shape[0]\n",
      "    numTestVecs = int(m*hoRatio)\n",
      "    errorCount = 0.0\n",
      "    for i in range(numTestVecs):\n",
      "        classifierResult = classify0(normMat[i,:],normMat[numTestVecs:m,:], datingLabels[numTestVecs:m],3)\n",
      "        print \"case %d: the classifier came back with: %d, the real answer is: %d\" % (i, classifierResult, datingLabels[i])\n",
      "        if (classifierResult != datingLabels[i]): errorCount += 1.0\n",
      "        \n",
      "    print \"the total error rate is: %f\" % (errorCount/float(numTestVecs))\n",
      "datingClassTest()"
     ],
     "language": "python",
     "metadata": {},
     "outputs": [
      {
       "output_type": "stream",
       "stream": "stdout",
       "text": [
        "case 0: the classifier came back with: 3, the real answer is: 3\n",
        "case 1: the classifier came back with: 2, the real answer is: 2\n",
        "case 2: the classifier came back with: 1, the real answer is: 1\n",
        "case 3: the classifier came back with: 1, the real answer is: 1\n",
        "case 4: the classifier came back with: 1, the real answer is: 1\n",
        "case 5: the classifier came back with: 1, the real answer is: 1\n",
        "case 6: the classifier came back with: 3, the real answer is: 3\n",
        "case 7: the classifier came back with: 3, the real answer is: 3\n",
        "case 8: the classifier came back with: 1, the real answer is: 1\n",
        "case 9: the classifier came back with: 3, the real answer is: 3\n",
        "case 10: the classifier came back with: 1, the real answer is: 1\n",
        "case 11: the classifier came back with: 1, the real answer is: 1\n",
        "case 12: the classifier came back with: 2, the real answer is: 2\n",
        "case 13: the classifier came back with: 1, the real answer is: 1\n",
        "case 14: the classifier came back with: 1, the real answer is: 1\n",
        "case 15: the classifier came back with: 1, the real answer is: 1\n",
        "case 16: the classifier came back with: 1, the real answer is: 1\n",
        "case 17: the classifier came back with: 1, the real answer is: 1\n",
        "case 18: the classifier came back with: 2, the real answer is: 2\n",
        "case 19: the classifier came back with: 3, the real answer is: 3\n",
        "case 20: the classifier came back with: 2, the real answer is: 2\n",
        "case 21: the classifier came back with: 1, the real answer is: 1\n",
        "case 22: the classifier came back with: 1, the real answer is: 2\n",
        "case 23: the classifier came back with: 3, the real answer is: 3\n",
        "case 24: the classifier came back with: 2, the real answer is: 2\n",
        "case 25: the classifier came back with: 3, the real answer is: 3\n",
        "case 26: the classifier came back with: 2, the real answer is: 2\n",
        "case 27: the classifier came back with: 3, the real answer is: 3\n",
        "case 28: the classifier came back with: 2, the real answer is: 2\n",
        "case 29: the classifier came back with: 1, the real answer is: 1\n",
        "case 30: the classifier came back with: 3, the real answer is: 3\n",
        "case 31: the classifier came back with: 1, the real answer is: 1\n",
        "case 32: the classifier came back with: 3, the real answer is: 3\n",
        "case 33: the classifier came back with: 1, the real answer is: 1\n",
        "case 34: the classifier came back with: 2, the real answer is: 2\n",
        "case 35: the classifier came back with: 1, the real answer is: 1\n",
        "case 36: the classifier came back with: 1, the real answer is: 1\n",
        "case 37: the classifier came back with: 2, the real answer is: 2\n",
        "case 38: the classifier came back with: 3, the real answer is: 3\n",
        "case 39: the classifier came back with: 3, the real answer is: 3\n",
        "case 40: the classifier came back with: 1, the real answer is: 1\n",
        "case 41: the classifier came back with: 2, the real answer is: 2\n",
        "case 42: the classifier came back with: 3, the real answer is: 3\n",
        "case 43: the classifier came back with: 3, the real answer is: 3\n",
        "case 44: the classifier came back with: 3, the real answer is: 3\n",
        "case 45: the classifier came back with: 1, the real answer is: 1\n",
        "case 46: the classifier came back with: 1, the real answer is: 1\n",
        "case 47: the classifier came back with: 1, the real answer is: 1\n",
        "case 48: the classifier came back with: 1, the real answer is: 1\n",
        "case 49: the classifier came back with: 2, the real answer is: 2\n",
        "case 50: the classifier came back with: 2, the real answer is: 2\n",
        "case 51: the classifier came back with: 1, the real answer is: 1\n",
        "case 52: the classifier came back with: 3, the real answer is: 3\n",
        "case 53: the classifier came back with: 2, the real answer is: 2\n",
        "case 54: the classifier came back with: 2, the real answer is: 2\n",
        "case 55: the classifier came back with: 2, the real answer is: 2\n",
        "case 56: the classifier came back with: 2, the real answer is: 2\n",
        "case 57: the classifier came back with: 3, the real answer is: 3\n",
        "case 58: the classifier came back with: 1, the real answer is: 1\n",
        "case 59: the classifier came back with: 2, the real answer is: 2\n",
        "case 60: the classifier came back with: 1, the real answer is: 1\n",
        "case 61: the classifier came back with: 2, the real answer is: 2\n",
        "case 62: the classifier came back with: 2, the real answer is: 2\n",
        "case 63: the classifier came back with: 2, the real answer is: 2\n",
        "case 64: the classifier came back with: 2, the real answer is: 2\n",
        "case 65: the classifier came back with: 2, the real answer is: 2\n",
        "case 66: the classifier came back with: 3, the real answer is: 3\n",
        "case 67: the classifier came back with: 2, the real answer is: 2\n",
        "case 68: the classifier came back with: 3, the real answer is: 3\n",
        "case 69: the classifier came back with: 1, the real answer is: 1\n",
        "case 70: the classifier came back with: 2, the real answer is: 2\n",
        "case 71: the classifier came back with: 3, the real answer is: 3\n",
        "case 72: the classifier came back with: 2, the real answer is: 2\n",
        "case 73: the classifier came back with: 2, the real answer is: 2\n",
        "case 74: the classifier came back with: 3, the real answer is: 1\n",
        "case 75: the classifier came back with: 3, the real answer is: 3\n",
        "case 76: the classifier came back with: 1, the real answer is: 1\n",
        "case 77: the classifier came back with: 1, the real answer is: 1\n",
        "case 78: the classifier came back with: 3, the real answer is: 3\n",
        "case 79: the classifier came back with: 3, the real answer is: 3\n",
        "case 80: the classifier came back with: 1, the real answer is: 1\n",
        "case 81: the classifier came back with: 2, the real answer is: 2\n",
        "case 82: the classifier came back with: 3, the real answer is: 3\n",
        "case 83: the classifier came back with: 3, the real answer is: 1\n",
        "case 84: the classifier came back with: 3, the real answer is: 3\n",
        "case 85: the classifier came back with: 1, the real answer is: 1\n",
        "case 86: the classifier came back with: 2, the real answer is: 2\n",
        "case 87: the classifier came back with: 2, the real answer is: 2\n",
        "case 88: the classifier came back with: 1, the real answer is: 1\n",
        "case 89: the classifier came back with: 1, the real answer is: 1\n",
        "case 90: the classifier came back with: 3, the real answer is: 3\n",
        "case 91: the classifier came back with: 2, the real answer is: 3\n",
        "case 92: the classifier came back with: 1, the real answer is: 1\n",
        "case 93: the classifier came back with: 2, the real answer is: 2\n",
        "case 94: the classifier came back with: 1, the real answer is: 1\n",
        "case 95: the classifier came back with: 3, the real answer is: 3\n",
        "case 96: the classifier came back with: 3, the real answer is: 3\n",
        "case 97: the classifier came back with: 2, the real answer is: 2\n",
        "case 98: the classifier came back with: 1, the real answer is: 1\n",
        "case 99: the classifier came back with: 3, the real answer is: 1\n",
        "the total error rate is: 0.050000\n"
       ]
      }
     ],
     "prompt_number": 39
    },
    {
     "cell_type": "code",
     "collapsed": false,
     "input": [
      "def classifyPerson():\n",
      "    resultList = ['not at all','in small doses', 'in large doses']\n",
      "    percentTats = float(raw_input(\"percentage of time spent playing video games?\"))\n",
      "    ffMiles = float(raw_input(\"frequent flier miles earned per year?\"))\n",
      "    iceCream = float(raw_input(\"liters of ice cream consumed per year?\"))\n",
      "    datingDataMat,datingLabels = file2matrix('datingTestSet2.txt')\n",
      "    normMat, ranges, minVals = autoNorm(datingDataMat)\n",
      "    inArr = array([ffMiles, percentTats, iceCream])\n",
      "    classifierResult = classify0((inArr-minVals)/ranges,normMat,datingLabels,3)\n",
      "    print \"You will probably like this person: \",resultList[classifierResult - 1]\n",
      "\n",
      "classifyPerson()"
     ],
     "language": "python",
     "metadata": {},
     "outputs": [
      {
       "name": "stdout",
       "output_type": "stream",
       "stream": "stdout",
       "text": [
        "percentage of time spent playing video games?4\n"
       ]
      },
      {
       "name": "stdout",
       "output_type": "stream",
       "stream": "stdout",
       "text": [
        "frequent flier miles earned per year?5\n"
       ]
      },
      {
       "name": "stdout",
       "output_type": "stream",
       "stream": "stdout",
       "text": [
        "liters of ice cream consumed per year?6\n"
       ]
      },
      {
       "output_type": "stream",
       "stream": "stdout",
       "text": [
        "2\n",
        "You will probably like this person:  in small doses\n"
       ]
      }
     ],
     "prompt_number": 44
    },
    {
     "cell_type": "code",
     "collapsed": false,
     "input": [
      "def img2vector(filename):\n",
      "    returnVect = zeros((1,1024))\n",
      "    fr = open(filename)\n",
      "    for i in range(32):\n",
      "        lineStr = fr.readline()\n",
      "        for j in range(32):\n",
      "            returnVect[0,32*i+j] = int(lineStr[j])\n",
      "    return returnVect\n",
      "\n",
      "testVector= img2vector('testDigits/0_13.txt')\n",
      "print testVector[0,0:31]\n",
      "print testVector[0,32:63]"
     ],
     "language": "python",
     "metadata": {},
     "outputs": [
      {
       "output_type": "stream",
       "stream": "stdout",
       "text": [
        "[ 0.  0.  0.  0.  0.  0.  0.  0.  0.  0.  0.  0.  0.  0.  1.  1.  1.  1.\n",
        "  0.  0.  0.  0.  0.  0.  0.  0.  0.  0.  0.  0.  0.]\n",
        "[ 0.  0.  0.  0.  0.  0.  0.  0.  0.  0.  0.  0.  1.  1.  1.  1.  1.  1.\n",
        "  1.  0.  0.  0.  0.  0.  0.  0.  0.  0.  0.  0.  0.]\n"
       ]
      }
     ],
     "prompt_number": 48
    },
    {
     "cell_type": "code",
     "collapsed": false,
     "input": [
      "from os import listdir\n",
      "\n",
      "def handwritingClassTest():\n",
      "    hwLabels = []\n",
      "    trainingFileList = listdir('trainingDigits')\n",
      "    m = len(trainingFileList)\n",
      "    trainingMat = zeros((m,1024))\n",
      "    for i in range(m):\n",
      "        fileNameStr = trainingFileList[i]\n",
      "        fileStr = fileNameStr.split('.')[0]\n",
      "        classNumStr = int(fileStr.split('_')[0])\n",
      "        hwLabels.append(classNumStr)\n",
      "        trainingMat[i,:] = img2vector('trainingDigits/%s' % fileNameStr)\n",
      "    testFileList = listdir('testDigits')\n",
      "    errorCount = 0.0\n",
      "    mTest = len(testFileList)\n",
      "    for i in range(mTest):\n",
      "        fileNameStr = testFileList[i]\n",
      "        fileStr = fileNameStr.split('.')[0]\n",
      "        classNumStr = int(fileStr.split('_')[0])\n",
      "        vectorUnderTest = img2vector('testDigits/%s' % fileNameStr)\n",
      "        classifierResult = classify0(vectorUnderTest, \\\n",
      "                                trainingMat, hwLabels, 3)\n",
      "        print \"the classifier came back with: %d, the real answer is: %d\"\\\n",
      "                                % (classifierResult, classNumStr)\n",
      "        if (classifierResult != classNumStr): errorCount += 1.0\n",
      "    print \"\\nthe total number of errors is: %d\" % errorCount\n",
      "    print \"\\nthe total error rate is: %f\" % (errorCount/float(mTest))\n",
      "    \n",
      "    \n",
      "handwritingClassTest()"
     ],
     "language": "python",
     "metadata": {},
     "outputs": [
      {
       "output_type": "stream",
       "stream": "stdout",
       "text": [
        "the classifier came back with: 8, the real answer is: 8\n",
        "the classifier came back with: 0, the real answer is: 0\n",
        "the classifier came back with: 3, the real answer is: 3\n",
        "the classifier came back with: 3, the real answer is: 3\n",
        "the classifier came back with: 4, the real answer is: 4\n",
        "the classifier came back with: 2, the real answer is: 2"
       ]
      },
      {
       "output_type": "stream",
       "stream": "stdout",
       "text": [
        "\n",
        "the classifier came back with: 4, the real answer is: 4\n",
        "the classifier came back with: 1, the real answer is: 1\n",
        "the classifier came back with: 4, the real answer is: 4\n",
        "the classifier came back with: 6, the real answer is: 5\n",
        "the classifier came back with: 5, the real answer is: 5"
       ]
      },
      {
       "output_type": "stream",
       "stream": "stdout",
       "text": [
        "\n",
        "the classifier came back with: 6, the real answer is: 6\n",
        "the classifier came back with: 8, the real answer is: 8\n",
        "the classifier came back with: 3, the real answer is: 3\n",
        "the classifier came back with: 4, the real answer is: 4\n",
        "the classifier came back with: 6, the real answer is: 6"
       ]
      },
      {
       "output_type": "stream",
       "stream": "stdout",
       "text": [
        "\n",
        "the classifier came back with: 4, the real answer is: 4\n",
        "the classifier came back with: 9, the real answer is: 9\n",
        "the classifier came back with: 1, the real answer is: 1\n",
        "the classifier came back with: 6, the real answer is: 6\n",
        "the classifier came back with: 1, the real answer is: 1"
       ]
      },
      {
       "output_type": "stream",
       "stream": "stdout",
       "text": [
        "\n",
        "the classifier came back with: 1, the real answer is: 1\n",
        "the classifier came back with: 5, the real answer is: 5\n",
        "the classifier came back with: 2, the real answer is: 2\n",
        "the classifier came back with: 0, the real answer is: 0\n",
        "the classifier came back with: 1, the real answer is: 1"
       ]
      },
      {
       "output_type": "stream",
       "stream": "stdout",
       "text": [
        "\n",
        "the classifier came back with: 0, the real answer is: 0\n",
        "the classifier came back with: 9, the real answer is: 9\n",
        "the classifier came back with: 3, the real answer is: 3\n",
        "the classifier came back with: 2, the real answer is: 2\n",
        "the classifier came back with: 7, the real answer is: 7"
       ]
      },
      {
       "output_type": "stream",
       "stream": "stdout",
       "text": [
        "\n",
        "the classifier came back with: 9, the real answer is: 9\n",
        "the classifier came back with: 0, the real answer is: 0\n",
        "the classifier came back with: 9, the real answer is: 9\n",
        "the classifier came back with: 0, the real answer is: 0\n",
        "the classifier came back with: 8, the real answer is: 8"
       ]
      },
      {
       "output_type": "stream",
       "stream": "stdout",
       "text": [
        "\n",
        "the classifier came back with: 9, the real answer is: 9\n",
        "the classifier came back with: 1, the real answer is: 1\n",
        "the classifier came back with: 5, the real answer is: 5\n",
        "the classifier came back with: 8, the real answer is: 8\n",
        "the classifier came back with: 2, the real answer is: 2"
       ]
      },
      {
       "output_type": "stream",
       "stream": "stdout",
       "text": [
        "\n",
        "the classifier came back with: 1, the real answer is: 1\n",
        "the classifier came back with: 7, the real answer is: 7\n",
        "the classifier came back with: 5, the real answer is: 5\n",
        "the classifier came back with: 1, the real answer is: 1\n",
        "the classifier came back with: 2, the real answer is: 2"
       ]
      },
      {
       "output_type": "stream",
       "stream": "stdout",
       "text": [
        "\n",
        "the classifier came back with: 5, the real answer is: 5\n",
        "the classifier came back with: 5, the real answer is: 5\n",
        "the classifier came back with: 6, the real answer is: 6\n",
        "the classifier came back with: 9, the real answer is: 9\n",
        "the classifier came back with: 4, the real answer is: 4"
       ]
      },
      {
       "output_type": "stream",
       "stream": "stdout",
       "text": [
        "\n",
        "the classifier came back with: 5, the real answer is: 5\n",
        "the classifier came back with: 4, the real answer is: 4\n",
        "the classifier came back with: 3, the real answer is: 3\n",
        "the classifier came back with: 9, the real answer is: 9"
       ]
      },
      {
       "output_type": "stream",
       "stream": "stdout",
       "text": [
        "\n",
        "the classifier came back with: 5, the real answer is: 5\n",
        "the classifier came back with: 2, the real answer is: 2\n",
        "the classifier came back with: 7, the real answer is: 7\n",
        "the classifier came back with: 4, the real answer is: 4\n",
        "the classifier came back with: 7, the real answer is: 7"
       ]
      },
      {
       "output_type": "stream",
       "stream": "stdout",
       "text": [
        "\n",
        "the classifier came back with: 8, the real answer is: 8\n",
        "the classifier came back with: 7, the real answer is: 7\n",
        "the classifier came back with: 5, the real answer is: 5\n",
        "the classifier came back with: 3, the real answer is: 3\n",
        "the classifier came back with: 4, the real answer is: 4"
       ]
      },
      {
       "output_type": "stream",
       "stream": "stdout",
       "text": [
        "\n",
        "the classifier came back with: 0, the real answer is: 0\n",
        "the classifier came back with: 1, the real answer is: 8\n",
        "the classifier came back with: 6, the real answer is: 6\n",
        "the classifier came back with: 0, the real answer is: 0\n",
        "the classifier came back with: 1, the real answer is: 1"
       ]
      },
      {
       "output_type": "stream",
       "stream": "stdout",
       "text": [
        "\n",
        "the classifier came back with: 8, the real answer is: 8\n",
        "the classifier came back with: 4, the real answer is: 4\n",
        "the classifier came back with: 0, the real answer is: 0\n",
        "the classifier came back with: 0, the real answer is: 0\n",
        "the classifier came back with: 7, the real answer is: 7"
       ]
      },
      {
       "output_type": "stream",
       "stream": "stdout",
       "text": [
        "\n",
        "the classifier came back with: 7, the real answer is: 7\n",
        "the classifier came back with: 2, the real answer is: 2\n",
        "the classifier came back with: 4, the real answer is: 4\n",
        "the classifier came back with: 0, the real answer is: 0\n",
        "the classifier came back with: 6, the real answer is: 6"
       ]
      },
      {
       "output_type": "stream",
       "stream": "stdout",
       "text": [
        "\n",
        "the classifier came back with: 7, the real answer is: 7\n",
        "the classifier came back with: 3, the real answer is: 3\n",
        "the classifier came back with: 7, the real answer is: 9\n",
        "the classifier came back with: 5, the real answer is: 5\n",
        "the classifier came back with: 1, the real answer is: 1"
       ]
      },
      {
       "output_type": "stream",
       "stream": "stdout",
       "text": [
        "\n",
        "the classifier came back with: 5, the real answer is: 5\n",
        "the classifier came back with: 5, the real answer is: 5\n",
        "the classifier came back with: 4, the real answer is: 4\n",
        "the classifier came back with: 1, the real answer is: 1\n",
        "the classifier came back with: 1, the real answer is: 1"
       ]
      },
      {
       "output_type": "stream",
       "stream": "stdout",
       "text": [
        "\n",
        "the classifier came back with: 5, the real answer is: 5\n",
        "the classifier came back with: 5, the real answer is: 5\n",
        "the classifier came back with: 9, the real answer is: 9\n",
        "the classifier came back with: 4, the real answer is: 4\n",
        "the classifier came back with: 0, the real answer is: 0"
       ]
      },
      {
       "output_type": "stream",
       "stream": "stdout",
       "text": [
        "\n",
        "the classifier came back with: 4, the real answer is: 4\n",
        "the classifier came back with: 0, the real answer is: 0\n",
        "the classifier came back with: 3, the real answer is: 3\n",
        "the classifier came back with: 2, the real answer is: 2\n",
        "the classifier came back with: 2, the real answer is: 2"
       ]
      },
      {
       "output_type": "stream",
       "stream": "stdout",
       "text": [
        "\n",
        "the classifier came back with: 6, the real answer is: 6\n",
        "the classifier came back with: 5, the real answer is: 5\n",
        "the classifier came back with: 5, the real answer is: 5\n",
        "the classifier came back with: 7, the real answer is: 7\n",
        "the classifier came back with: 6, the real answer is: 6"
       ]
      },
      {
       "output_type": "stream",
       "stream": "stdout",
       "text": [
        "\n",
        "the classifier came back with: 1, the real answer is: 1\n",
        "the classifier came back with: 4, the real answer is: 4\n",
        "the classifier came back with: 8, the real answer is: 8\n",
        "the classifier came back with: 0, the real answer is: 0\n",
        "the classifier came back with: 3, the real answer is: 3"
       ]
      },
      {
       "output_type": "stream",
       "stream": "stdout",
       "text": [
        "\n",
        "the classifier came back with: 6, the real answer is: 6\n",
        "the classifier came back with: 9, the real answer is: 9\n",
        "the classifier came back with: 8, the real answer is: 8\n",
        "the classifier came back with: 1, the real answer is: 1\n",
        "the classifier came back with: 5, the real answer is: 5"
       ]
      },
      {
       "output_type": "stream",
       "stream": "stdout",
       "text": [
        "\n",
        "the classifier came back with: 9, the real answer is: 9\n",
        "the classifier came back with: 9, the real answer is: 9\n",
        "the classifier came back with: 7, the real answer is: 7\n",
        "the classifier came back with: 6, the real answer is: 6\n",
        "the classifier came back with: 1, the real answer is: 1"
       ]
      },
      {
       "output_type": "stream",
       "stream": "stdout",
       "text": [
        "\n",
        "the classifier came back with: 1, the real answer is: 1\n",
        "the classifier came back with: 5, the real answer is: 5\n",
        "the classifier came back with: 2, the real answer is: 2\n",
        "the classifier came back with: 1, the real answer is: 1\n",
        "the classifier came back with: 0, the real answer is: 0"
       ]
      },
      {
       "output_type": "stream",
       "stream": "stdout",
       "text": [
        "\n",
        "the classifier came back with: 2, the real answer is: 2\n",
        "the classifier came back with: 1, the real answer is: 1\n",
        "the classifier came back with: 5, the real answer is: 5\n",
        "the classifier came back with: 7, the real answer is: 7\n",
        "the classifier came back with: 6, the real answer is: 6"
       ]
      },
      {
       "output_type": "stream",
       "stream": "stdout",
       "text": [
        "\n",
        "the classifier came back with: 5, the real answer is: 5\n",
        "the classifier came back with: 2, the real answer is: 2\n",
        "the classifier came back with: 4, the real answer is: 4\n",
        "the classifier came back with: 1, the real answer is: 1\n",
        "the classifier came back with: 0, the real answer is: 0"
       ]
      },
      {
       "output_type": "stream",
       "stream": "stdout",
       "text": [
        "\n",
        "the classifier came back with: 0, the real answer is: 0\n",
        "the classifier came back with: 5, the real answer is: 5\n",
        "the classifier came back with: 7, the real answer is: 7\n",
        "the classifier came back with: 9, the real answer is: 9\n",
        "the classifier came back with: 1, the real answer is: 1"
       ]
      },
      {
       "output_type": "stream",
       "stream": "stdout",
       "text": [
        "\n",
        "the classifier came back with: 5, the real answer is: 5\n",
        "the classifier came back with: 2, the real answer is: 2\n",
        "the classifier came back with: 3, the real answer is: 3\n",
        "the classifier came back with: 1, the real answer is: 1\n",
        "the classifier came back with: 5, the real answer is: 5"
       ]
      },
      {
       "output_type": "stream",
       "stream": "stdout",
       "text": [
        "\n",
        "the classifier came back with: 3, the real answer is: 3\n",
        "the classifier came back with: 9, the real answer is: 9\n",
        "the classifier came back with: 9, the real answer is: 9\n",
        "the classifier came back with: 3, the real answer is: 3\n",
        "the classifier came back with: 7, the real answer is: 7"
       ]
      },
      {
       "output_type": "stream",
       "stream": "stdout",
       "text": [
        "\n",
        "the classifier came back with: 5, the real answer is: 5\n",
        "the classifier came back with: 9, the real answer is: 9\n",
        "the classifier came back with: 3, the real answer is: 3\n",
        "the classifier came back with: 2, the real answer is: 2\n",
        "the classifier came back with: 7, the real answer is: 7"
       ]
      },
      {
       "output_type": "stream",
       "stream": "stdout",
       "text": [
        "\n",
        "the classifier came back with: 5, the real answer is: 5\n",
        "the classifier came back with: 6, the real answer is: 6\n",
        "the classifier came back with: 9, the real answer is: 9\n",
        "the classifier came back with: 8, the real answer is: 8\n",
        "the classifier came back with: 0, the real answer is: 0"
       ]
      },
      {
       "output_type": "stream",
       "stream": "stdout",
       "text": [
        "\n",
        "the classifier came back with: 0, the real answer is: 0\n",
        "the classifier came back with: 1, the real answer is: 1\n",
        "the classifier came back with: 1, the real answer is: 1\n",
        "the classifier came back with: 5, the real answer is: 5\n",
        "the classifier came back with: 0, the real answer is: 0"
       ]
      },
      {
       "output_type": "stream",
       "stream": "stdout",
       "text": [
        "\n",
        "the classifier came back with: 8, the real answer is: 8\n",
        "the classifier came back with: 2, the real answer is: 2\n",
        "the classifier came back with: 4, the real answer is: 4\n",
        "the classifier came back with: 1, the real answer is: 1\n",
        "the classifier came back with: 1, the real answer is: 1"
       ]
      },
      {
       "output_type": "stream",
       "stream": "stdout",
       "text": [
        "\n",
        "the classifier came back with: 4, the real answer is: 4\n",
        "the classifier came back with: 8, the real answer is: 8\n",
        "the classifier came back with: 8, the real answer is: 8\n",
        "the classifier came back with: 3, the real answer is: 3\n",
        "the classifier came back with: 7, the real answer is: 7"
       ]
      },
      {
       "output_type": "stream",
       "stream": "stdout",
       "text": [
        "\n",
        "the classifier came back with: 2, the real answer is: 2\n",
        "the classifier came back with: 2, the real answer is: 2\n",
        "the classifier came back with: 6, the real answer is: 6\n",
        "the classifier came back with: 0, the real answer is: 0\n",
        "the classifier came back with: 8, the real answer is: 8"
       ]
      },
      {
       "output_type": "stream",
       "stream": "stdout",
       "text": [
        "\n",
        "the classifier came back with: 7, the real answer is: 7\n",
        "the classifier came back with: 4, the real answer is: 4\n",
        "the classifier came back with: 4, the real answer is: 4\n",
        "the classifier came back with: 4, the real answer is: 4\n",
        "the classifier came back with: 3, the real answer is: 3"
       ]
      },
      {
       "output_type": "stream",
       "stream": "stdout",
       "text": [
        "\n",
        "the classifier came back with: 6, the real answer is: 6\n",
        "the classifier came back with: 1, the real answer is: 1\n",
        "the classifier came back with: 1, the real answer is: 1\n",
        "the classifier came back with: 9, the real answer is: 9\n",
        "the classifier came back with: 8, the real answer is: 8"
       ]
      },
      {
       "output_type": "stream",
       "stream": "stdout",
       "text": [
        "\n",
        "the classifier came back with: 5, the real answer is: 5\n",
        "the classifier came back with: 1, the real answer is: 1\n",
        "the classifier came back with: 0, the real answer is: 0\n",
        "the classifier came back with: 4, the real answer is: 4\n",
        "the classifier came back with: 0, the real answer is: 0"
       ]
      },
      {
       "output_type": "stream",
       "stream": "stdout",
       "text": [
        "\n",
        "the classifier came back with: 9, the real answer is: 9\n",
        "the classifier came back with: 5, the real answer is: 5\n",
        "the classifier came back with: 9, the real answer is: 9\n",
        "the classifier came back with: 2, the real answer is: 2\n",
        "the classifier came back with: 5, the real answer is: 5"
       ]
      },
      {
       "output_type": "stream",
       "stream": "stdout",
       "text": [
        "\n",
        "the classifier came back with: 8, the real answer is: 8\n",
        "the classifier came back with: 9, the real answer is: 9\n",
        "the classifier came back with: 1, the real answer is: 1\n",
        "the classifier came back with: 8, the real answer is: 8\n",
        "the classifier came back with: 7, the real answer is: 7"
       ]
      },
      {
       "output_type": "stream",
       "stream": "stdout",
       "text": [
        "\n",
        "the classifier came back with: 8, the real answer is: 8\n",
        "the classifier came back with: 7, the real answer is: 7\n",
        "the classifier came back with: 7, the real answer is: 7\n",
        "the classifier came back with: 7, the real answer is: 7\n",
        "the classifier came back with: 8, the real answer is: 8"
       ]
      },
      {
       "output_type": "stream",
       "stream": "stdout",
       "text": [
        "\n",
        "the classifier came back with: 2, the real answer is: 2\n",
        "the classifier came back with: 3, the real answer is: 3\n",
        "the classifier came back with: 2, the real answer is: 2\n",
        "the classifier came back with: 8, the real answer is: 8\n",
        "the classifier came back with: 0, the real answer is: 0"
       ]
      },
      {
       "output_type": "stream",
       "stream": "stdout",
       "text": [
        "\n",
        "the classifier came back with: 8, the real answer is: 8\n",
        "the classifier came back with: 7, the real answer is: 7\n",
        "the classifier came back with: 7, the real answer is: 7\n",
        "the classifier came back with: 5, the real answer is: 5\n",
        "the classifier came back with: 9, the real answer is: 9"
       ]
      },
      {
       "output_type": "stream",
       "stream": "stdout",
       "text": [
        "\n",
        "the classifier came back with: 5, the real answer is: 5\n",
        "the classifier came back with: 8, the real answer is: 8\n",
        "the classifier came back with: 7, the real answer is: 7\n",
        "the classifier came back with: 3, the real answer is: 3\n",
        "the classifier came back with: 7, the real answer is: 7"
       ]
      },
      {
       "output_type": "stream",
       "stream": "stdout",
       "text": [
        "\n",
        "the classifier came back with: 7, the real answer is: 7\n",
        "the classifier came back with: 1, the real answer is: 1\n",
        "the classifier came back with: 1, the real answer is: 1\n",
        "the classifier came back with: 4, the real answer is: 4\n",
        "the classifier came back with: 3, the real answer is: 3"
       ]
      },
      {
       "output_type": "stream",
       "stream": "stdout",
       "text": [
        "\n",
        "the classifier came back with: 4, the real answer is: 4\n",
        "the classifier came back with: 6, the real answer is: 6\n",
        "the classifier came back with: 9, the real answer is: 9\n",
        "the classifier came back with: 4, the real answer is: 4\n",
        "the classifier came back with: 0, the real answer is: 0"
       ]
      },
      {
       "output_type": "stream",
       "stream": "stdout",
       "text": [
        "\n",
        "the classifier came back with: 0, the real answer is: 0\n",
        "the classifier came back with: 5, the real answer is: 5\n",
        "the classifier came back with: 9, the real answer is: 9\n",
        "the classifier came back with: 7, the real answer is: 7\n",
        "the classifier came back with: 1, the real answer is: 1"
       ]
      },
      {
       "output_type": "stream",
       "stream": "stdout",
       "text": [
        "\n",
        "the classifier came back with: 0, the real answer is: 0\n",
        "the classifier came back with: 2, the real answer is: 2\n",
        "the classifier came back with: 5, the real answer is: 5\n",
        "the classifier came back with: 2, the real answer is: 2\n",
        "the classifier came back with: 4, the real answer is: 4"
       ]
      },
      {
       "output_type": "stream",
       "stream": "stdout",
       "text": [
        "\n",
        "the classifier came back with: 2, the real answer is: 2\n",
        "the classifier came back with: 9, the real answer is: 9\n",
        "the classifier came back with: 3, the real answer is: 3\n",
        "the classifier came back with: 0, the real answer is: 0\n",
        "the classifier came back with: 6, the real answer is: 6"
       ]
      },
      {
       "output_type": "stream",
       "stream": "stdout",
       "text": [
        "\n",
        "the classifier came back with: 2, the real answer is: 2\n",
        "the classifier came back with: 9, the real answer is: 9\n",
        "the classifier came back with: 8, the real answer is: 8\n",
        "the classifier came back with: 3, the real answer is: 3\n",
        "the classifier came back with: 4, the real answer is: 4"
       ]
      },
      {
       "output_type": "stream",
       "stream": "stdout",
       "text": [
        "\n",
        "the classifier came back with: 4, the real answer is: 4\n",
        "the classifier came back with: 4, the real answer is: 4\n",
        "the classifier came back with: 3, the real answer is: 3\n",
        "the classifier came back with: 2, the real answer is: 2\n",
        "the classifier came back with: 3, the real answer is: 3"
       ]
      },
      {
       "output_type": "stream",
       "stream": "stdout",
       "text": [
        "\n",
        "the classifier came back with: 5, the real answer is: 5\n",
        "the classifier came back with: 4, the real answer is: 4\n",
        "the classifier came back with: 2, the real answer is: 2\n",
        "the classifier came back with: 3, the real answer is: 3\n",
        "the classifier came back with: 8, the real answer is: 8"
       ]
      },
      {
       "output_type": "stream",
       "stream": "stdout",
       "text": [
        "\n",
        "the classifier came back with: 7, the real answer is: 7\n",
        "the classifier came back with: 4, the real answer is: 4\n",
        "the classifier came back with: 8, the real answer is: 8\n",
        "the classifier came back with: 2, the real answer is: 2\n",
        "the classifier came back with: 5, the real answer is: 5"
       ]
      },
      {
       "output_type": "stream",
       "stream": "stdout",
       "text": [
        "\n",
        "the classifier came back with: 6, the real answer is: 6\n",
        "the classifier came back with: 5, the real answer is: 5\n",
        "the classifier came back with: 0, the real answer is: 0\n",
        "the classifier came back with: 0, the real answer is: 0\n",
        "the classifier came back with: 1, the real answer is: 1"
       ]
      },
      {
       "output_type": "stream",
       "stream": "stdout",
       "text": [
        "\n",
        "the classifier came back with: 8, the real answer is: 8\n",
        "the classifier came back with: 8, the real answer is: 8\n",
        "the classifier came back with: 3, the real answer is: 3\n",
        "the classifier came back with: 1, the real answer is: 1\n",
        "the classifier came back with: 6, the real answer is: 6"
       ]
      },
      {
       "output_type": "stream",
       "stream": "stdout",
       "text": [
        "\n",
        "the classifier came back with: 9, the real answer is: 9\n",
        "the classifier came back with: 6, the real answer is: 6\n",
        "the classifier came back with: 9, the real answer is: 9\n",
        "the classifier came back with: 4, the real answer is: 4\n",
        "the classifier came back with: 6, the real answer is: 6"
       ]
      },
      {
       "output_type": "stream",
       "stream": "stdout",
       "text": [
        "\n",
        "the classifier came back with: 3, the real answer is: 3\n",
        "the classifier came back with: 6, the real answer is: 6\n",
        "the classifier came back with: 4, the real answer is: 4\n",
        "the classifier came back with: 8, the real answer is: 8\n",
        "the classifier came back with: 1, the real answer is: 1"
       ]
      },
      {
       "output_type": "stream",
       "stream": "stdout",
       "text": [
        "\n",
        "the classifier came back with: 9, the real answer is: 9\n",
        "the classifier came back with: 3, the real answer is: 8\n",
        "the classifier came back with: 8, the real answer is: 8\n",
        "the classifier came back with: 7, the real answer is: 7\n",
        "the classifier came back with: 4, the real answer is: 4"
       ]
      },
      {
       "output_type": "stream",
       "stream": "stdout",
       "text": [
        "\n",
        "the classifier came back with: 3, the real answer is: 3\n",
        "the classifier came back with: 9, the real answer is: 9\n",
        "the classifier came back with: 6, the real answer is: 6\n",
        "the classifier came back with: 8, the real answer is: 8\n",
        "the classifier came back with: 2, the real answer is: 2"
       ]
      },
      {
       "output_type": "stream",
       "stream": "stdout",
       "text": [
        "\n",
        "the classifier came back with: 1, the real answer is: 1\n",
        "the classifier came back with: 2, the real answer is: 2\n",
        "the classifier came back with: 4, the real answer is: 4\n",
        "the classifier came back with: 8, the real answer is: 8\n",
        "the classifier came back with: 8, the real answer is: 8"
       ]
      },
      {
       "output_type": "stream",
       "stream": "stdout",
       "text": [
        "\n",
        "the classifier came back with: 3, the real answer is: 3\n",
        "the classifier came back with: 5, the real answer is: 5\n",
        "the classifier came back with: 1, the real answer is: 1\n",
        "the classifier came back with: 4, the real answer is: 4\n",
        "the classifier came back with: 9, the real answer is: 9"
       ]
      },
      {
       "output_type": "stream",
       "stream": "stdout",
       "text": [
        "\n",
        "the classifier came back with: 5, the real answer is: 5\n",
        "the classifier came back with: 9, the real answer is: 9\n",
        "the classifier came back with: 4, the real answer is: 4\n",
        "the classifier came back with: 8, the real answer is: 8\n",
        "the classifier came back with: 4, the real answer is: 4"
       ]
      },
      {
       "output_type": "stream",
       "stream": "stdout",
       "text": [
        "\n",
        "the classifier came back with: 3, the real answer is: 3\n",
        "the classifier came back with: 6, the real answer is: 6\n",
        "the classifier came back with: 2, the real answer is: 2\n",
        "the classifier came back with: 0, the real answer is: 0\n",
        "the classifier came back with: 8, the real answer is: 8"
       ]
      },
      {
       "output_type": "stream",
       "stream": "stdout",
       "text": [
        "\n",
        "the classifier came back with: 5, the real answer is: 5\n",
        "the classifier came back with: 7, the real answer is: 7\n",
        "the classifier came back with: 2, the real answer is: 2\n",
        "the classifier came back with: 4, the real answer is: 4\n",
        "the classifier came back with: 7, the real answer is: 7"
       ]
      },
      {
       "output_type": "stream",
       "stream": "stdout",
       "text": [
        "\n",
        "the classifier came back with: 2, the real answer is: 2\n",
        "the classifier came back with: 0, the real answer is: 0\n",
        "the classifier came back with: 6, the real answer is: 6\n",
        "the classifier came back with: 6, the real answer is: 6\n",
        "the classifier came back with: 4, the real answer is: 4"
       ]
      },
      {
       "output_type": "stream",
       "stream": "stdout",
       "text": [
        "\n",
        "the classifier came back with: 0, the real answer is: 0\n",
        "the classifier came back with: 9, the real answer is: 9\n",
        "the classifier came back with: 3, the real answer is: 3\n",
        "the classifier came back with: 6, the real answer is: 6\n",
        "the classifier came back with: 6, the real answer is: 6"
       ]
      },
      {
       "output_type": "stream",
       "stream": "stdout",
       "text": [
        "\n",
        "the classifier came back with: 3, the real answer is: 3\n",
        "the classifier came back with: 7, the real answer is: 7\n",
        "the classifier came back with: 2, the real answer is: 2\n",
        "the classifier came back with: 0, the real answer is: 0\n",
        "the classifier came back with: 1, the real answer is: 1"
       ]
      },
      {
       "output_type": "stream",
       "stream": "stdout",
       "text": [
        "\n",
        "the classifier came back with: 4, the real answer is: 4\n",
        "the classifier came back with: 5, the real answer is: 5\n",
        "the classifier came back with: 3, the real answer is: 3\n",
        "the classifier came back with: 9, the real answer is: 9\n",
        "the classifier came back with: 4, the real answer is: 4"
       ]
      },
      {
       "output_type": "stream",
       "stream": "stdout",
       "text": [
        "\n",
        "the classifier came back with: 7, the real answer is: 7\n",
        "the classifier came back with: 3, the real answer is: 3\n",
        "the classifier came back with: 3, the real answer is: 3\n",
        "the classifier came back with: 7, the real answer is: 7\n",
        "the classifier came back with: 8, the real answer is: 8"
       ]
      },
      {
       "output_type": "stream",
       "stream": "stdout",
       "text": [
        "\n",
        "the classifier came back with: 7, the real answer is: 7\n",
        "the classifier came back with: 4, the real answer is: 4\n",
        "the classifier came back with: 2, the real answer is: 2\n",
        "the classifier came back with: 1, the real answer is: 1\n",
        "the classifier came back with: 0, the real answer is: 0"
       ]
      },
      {
       "output_type": "stream",
       "stream": "stdout",
       "text": [
        "\n",
        "the classifier came back with: 8, the real answer is: 8\n",
        "the classifier came back with: 5, the real answer is: 5\n",
        "the classifier came back with: 9, the real answer is: 9\n",
        "the classifier came back with: 7, the real answer is: 7\n",
        "the classifier came back with: 4, the real answer is: 4"
       ]
      },
      {
       "output_type": "stream",
       "stream": "stdout",
       "text": [
        "\n",
        "the classifier came back with: 3, the real answer is: 3\n",
        "the classifier came back with: 9, the real answer is: 9\n",
        "the classifier came back with: 1, the real answer is: 1\n",
        "the classifier came back with: 7, the real answer is: 7\n",
        "the classifier came back with: 9, the real answer is: 9"
       ]
      },
      {
       "output_type": "stream",
       "stream": "stdout",
       "text": [
        "\n",
        "the classifier came back with: 8, the real answer is: 8\n",
        "the classifier came back with: 5, the real answer is: 5\n",
        "the classifier came back with: 5, the real answer is: 5\n",
        "the classifier came back with: 3, the real answer is: 3\n",
        "the classifier came back with: 2, the real answer is: 2"
       ]
      },
      {
       "output_type": "stream",
       "stream": "stdout",
       "text": [
        "\n",
        "the classifier came back with: 2, the real answer is: 2\n",
        "the classifier came back with: 8, the real answer is: 8\n",
        "the classifier came back with: 6, the real answer is: 6\n",
        "the classifier came back with: 5, the real answer is: 5\n",
        "the classifier came back with: 1, the real answer is: 1"
       ]
      },
      {
       "output_type": "stream",
       "stream": "stdout",
       "text": [
        "\n",
        "the classifier came back with: 2, the real answer is: 2\n",
        "the classifier came back with: 5, the real answer is: 5\n",
        "the classifier came back with: 0, the real answer is: 0\n",
        "the classifier came back with: 1, the real answer is: 1\n",
        "the classifier came back with: 7, the real answer is: 7"
       ]
      },
      {
       "output_type": "stream",
       "stream": "stdout",
       "text": [
        "\n",
        "the classifier came back with: 5, the real answer is: 5\n",
        "the classifier came back with: 4, the real answer is: 4\n",
        "the classifier came back with: 5, the real answer is: 5\n",
        "the classifier came back with: 8, the real answer is: 8\n",
        "the classifier came back with: 1, the real answer is: 1"
       ]
      },
      {
       "output_type": "stream",
       "stream": "stdout",
       "text": [
        "\n",
        "the classifier came back with: 1, the real answer is: 1\n",
        "the classifier came back with: 6, the real answer is: 6\n",
        "the classifier came back with: 0, the real answer is: 0\n",
        "the classifier came back with: 8, the real answer is: 8\n",
        "the classifier came back with: 4, the real answer is: 4"
       ]
      },
      {
       "output_type": "stream",
       "stream": "stdout",
       "text": [
        "\n",
        "the classifier came back with: 8, the real answer is: 8\n",
        "the classifier came back with: 9, the real answer is: 9\n",
        "the classifier came back with: 3, the real answer is: 3\n",
        "the classifier came back with: 1, the real answer is: 1\n",
        "the classifier came back with: 2, the real answer is: 2"
       ]
      },
      {
       "output_type": "stream",
       "stream": "stdout",
       "text": [
        "\n",
        "the classifier came back with: 7, the real answer is: 7\n",
        "the classifier came back with: 5, the real answer is: 5\n",
        "the classifier came back with: 5, the real answer is: 5\n",
        "the classifier came back with: 7, the real answer is: 7\n",
        "the classifier came back with: 5, the real answer is: 5"
       ]
      },
      {
       "output_type": "stream",
       "stream": "stdout",
       "text": [
        "\n",
        "the classifier came back with: 8, the real answer is: 8\n",
        "the classifier came back with: 3, the real answer is: 3\n",
        "the classifier came back with: 2, the real answer is: 2\n",
        "the classifier came back with: 6, the real answer is: 6\n",
        "the classifier came back with: 7, the real answer is: 7"
       ]
      },
      {
       "output_type": "stream",
       "stream": "stdout",
       "text": [
        "\n",
        "the classifier came back with: 6, the real answer is: 6\n",
        "the classifier came back with: 5, the real answer is: 5\n",
        "the classifier came back with: 3, the real answer is: 3\n",
        "the classifier came back with: 7, the real answer is: 7\n",
        "the classifier came back with: 8, the real answer is: 8"
       ]
      },
      {
       "output_type": "stream",
       "stream": "stdout",
       "text": [
        "\n",
        "the classifier came back with: 7, the real answer is: 7\n",
        "the classifier came back with: 3, the real answer is: 3\n",
        "the classifier came back with: 5, the real answer is: 5\n",
        "the classifier came back with: 0, the real answer is: 0\n",
        "the classifier came back with: 4, the real answer is: 4"
       ]
      },
      {
       "output_type": "stream",
       "stream": "stdout",
       "text": [
        "\n",
        "the classifier came back with: 3, the real answer is: 3\n",
        "the classifier came back with: 0, the real answer is: 0\n",
        "the classifier came back with: 8, the real answer is: 8\n",
        "the classifier came back with: 7, the real answer is: 7\n",
        "the classifier came back with: 8, the real answer is: 8"
       ]
      },
      {
       "output_type": "stream",
       "stream": "stdout",
       "text": [
        "\n",
        "the classifier came back with: 8, the real answer is: 8\n",
        "the classifier came back with: 4, the real answer is: 4\n",
        "the classifier came back with: 0, the real answer is: 0\n",
        "the classifier came back with: 8, the real answer is: 8\n",
        "the classifier came back with: 8, the real answer is: 8"
       ]
      },
      {
       "output_type": "stream",
       "stream": "stdout",
       "text": [
        "\n",
        "the classifier came back with: 2, the real answer is: 2\n",
        "the classifier came back with: 3, the real answer is: 3\n",
        "the classifier came back with: 3, the real answer is: 3\n",
        "the classifier came back with: 9, the real answer is: 9"
       ]
      },
      {
       "output_type": "stream",
       "stream": "stdout",
       "text": [
        "\n",
        "the classifier came back with: 2, the real answer is: 2\n",
        "the classifier came back with: 4, the real answer is: 4\n",
        "the classifier came back with: 9, the real answer is: 3\n",
        "the classifier came back with: 6, the real answer is: 6\n",
        "the classifier came back with: 4, the real answer is: 4"
       ]
      },
      {
       "output_type": "stream",
       "stream": "stdout",
       "text": [
        "\n",
        "the classifier came back with: 7, the real answer is: 7\n",
        "the classifier came back with: 6, the real answer is: 6\n",
        "the classifier came back with: 7, the real answer is: 7\n",
        "the classifier came back with: 4, the real answer is: 4\n",
        "the classifier came back with: 9, the real answer is: 9"
       ]
      },
      {
       "output_type": "stream",
       "stream": "stdout",
       "text": [
        "\n",
        "the classifier came back with: 2, the real answer is: 2\n",
        "the classifier came back with: 1, the real answer is: 1\n",
        "the classifier came back with: 6, the real answer is: 6\n",
        "the classifier came back with: 1, the real answer is: 1\n",
        "the classifier came back with: 1, the real answer is: 1"
       ]
      },
      {
       "output_type": "stream",
       "stream": "stdout",
       "text": [
        "\n",
        "the classifier came back with: 0, the real answer is: 0\n",
        "the classifier came back with: 8, the real answer is: 8\n",
        "the classifier came back with: 8, the real answer is: 8\n",
        "the classifier came back with: 3, the real answer is: 3\n",
        "the classifier came back with: 6, the real answer is: 6"
       ]
      },
      {
       "output_type": "stream",
       "stream": "stdout",
       "text": [
        "\n",
        "the classifier came back with: 8, the real answer is: 8\n",
        "the classifier came back with: 2, the real answer is: 2\n",
        "the classifier came back with: 1, the real answer is: 1\n",
        "the classifier came back with: 3, the real answer is: 3\n",
        "the classifier came back with: 5, the real answer is: 5"
       ]
      },
      {
       "output_type": "stream",
       "stream": "stdout",
       "text": [
        "\n",
        "the classifier came back with: 4, the real answer is: 4\n",
        "the classifier came back with: 5, the real answer is: 5\n",
        "the classifier came back with: 2, the real answer is: 2\n",
        "the classifier came back with: 6, the real answer is: 6\n",
        "the classifier came back with: 9, the real answer is: 9"
       ]
      },
      {
       "output_type": "stream",
       "stream": "stdout",
       "text": [
        "\n",
        "the classifier came back with: 1, the real answer is: 1\n",
        "the classifier came back with: 7, the real answer is: 7\n",
        "the classifier came back with: 5, the real answer is: 5\n",
        "the classifier came back with: 2, the real answer is: 2\n",
        "the classifier came back with: 7, the real answer is: 7"
       ]
      },
      {
       "output_type": "stream",
       "stream": "stdout",
       "text": [
        "\n",
        "the classifier came back with: 0, the real answer is: 0\n",
        "the classifier came back with: 0, the real answer is: 0\n",
        "the classifier came back with: 4, the real answer is: 4\n",
        "the classifier came back with: 4, the real answer is: 4\n",
        "the classifier came back with: 1, the real answer is: 1"
       ]
      },
      {
       "output_type": "stream",
       "stream": "stdout",
       "text": [
        "\n",
        "the classifier came back with: 7, the real answer is: 7\n",
        "the classifier came back with: 6, the real answer is: 6\n",
        "the classifier came back with: 7, the real answer is: 7\n",
        "the classifier came back with: 7, the real answer is: 7\n",
        "the classifier came back with: 2, the real answer is: 2"
       ]
      },
      {
       "output_type": "stream",
       "stream": "stdout",
       "text": [
        "\n",
        "the classifier came back with: 1, the real answer is: 1\n",
        "the classifier came back with: 2, the real answer is: 2\n",
        "the classifier came back with: 8, the real answer is: 8\n",
        "the classifier came back with: 4, the real answer is: 4\n",
        "the classifier came back with: 0, the real answer is: 0"
       ]
      },
      {
       "output_type": "stream",
       "stream": "stdout",
       "text": [
        "\n",
        "the classifier came back with: 4, the real answer is: 4\n",
        "the classifier came back with: 7, the real answer is: 7\n",
        "the classifier came back with: 9, the real answer is: 9\n",
        "the classifier came back with: 0, the real answer is: 0\n",
        "the classifier came back with: 7, the real answer is: 7"
       ]
      },
      {
       "output_type": "stream",
       "stream": "stdout",
       "text": [
        "\n",
        "the classifier came back with: 9, the real answer is: 9\n",
        "the classifier came back with: 9, the real answer is: 9\n",
        "the classifier came back with: 6, the real answer is: 6\n",
        "the classifier came back with: 5, the real answer is: 5\n",
        "the classifier came back with: 5, the real answer is: 5"
       ]
      },
      {
       "output_type": "stream",
       "stream": "stdout",
       "text": [
        "\n",
        "the classifier came back with: 0, the real answer is: 0\n",
        "the classifier came back with: 0, the real answer is: 0\n",
        "the classifier came back with: 2, the real answer is: 2\n",
        "the classifier came back with: 0, the real answer is: 0\n",
        "the classifier came back with: 9, the real answer is: 9"
       ]
      },
      {
       "output_type": "stream",
       "stream": "stdout",
       "text": [
        "\n",
        "the classifier came back with: 3, the real answer is: 3\n",
        "the classifier came back with: 9, the real answer is: 9\n",
        "the classifier came back with: 3, the real answer is: 3\n",
        "the classifier came back with: 2, the real answer is: 2\n",
        "the classifier came back with: 2, the real answer is: 2"
       ]
      },
      {
       "output_type": "stream",
       "stream": "stdout",
       "text": [
        "\n",
        "the classifier came back with: 5, the real answer is: 5\n",
        "the classifier came back with: 5, the real answer is: 5\n",
        "the classifier came back with: 3, the real answer is: 3\n",
        "the classifier came back with: 0, the real answer is: 0\n",
        "the classifier came back with: 6, the real answer is: 6"
       ]
      },
      {
       "output_type": "stream",
       "stream": "stdout",
       "text": [
        "\n",
        "the classifier came back with: 1, the real answer is: 1\n",
        "the classifier came back with: 0, the real answer is: 0\n",
        "the classifier came back with: 3, the real answer is: 3\n",
        "the classifier came back with: 6, the real answer is: 6"
       ]
      },
      {
       "output_type": "stream",
       "stream": "stdout",
       "text": [
        "\n",
        "the classifier came back with: 6, the real answer is: 6\n",
        "the classifier came back with: 7, the real answer is: 7\n",
        "the classifier came back with: 8, the real answer is: 8\n",
        "the classifier came back with: 5, the real answer is: 5"
       ]
      },
      {
       "output_type": "stream",
       "stream": "stdout",
       "text": [
        "\n",
        "the classifier came back with: 2, the real answer is: 2\n",
        "the classifier came back with: 1, the real answer is: 1\n",
        "the classifier came back with: 1, the real answer is: 1\n",
        "the classifier came back with: 3, the real answer is: 3\n",
        "the classifier came back with: 1, the real answer is: 1"
       ]
      },
      {
       "output_type": "stream",
       "stream": "stdout",
       "text": [
        "\n",
        "the classifier came back with: 9, the real answer is: 9\n",
        "the classifier came back with: 8, the real answer is: 8\n",
        "the classifier came back with: 4, the real answer is: 4\n",
        "the classifier came back with: 7, the real answer is: 7\n",
        "the classifier came back with: 9, the real answer is: 9"
       ]
      },
      {
       "output_type": "stream",
       "stream": "stdout",
       "text": [
        "\n",
        "the classifier came back with: 8, the real answer is: 8\n",
        "the classifier came back with: 3, the real answer is: 3\n",
        "the classifier came back with: 3, the real answer is: 3\n",
        "the classifier came back with: 2, the real answer is: 2\n",
        "the classifier came back with: 0, the real answer is: 0"
       ]
      },
      {
       "output_type": "stream",
       "stream": "stdout",
       "text": [
        "\n",
        "the classifier came back with: 5, the real answer is: 5\n",
        "the classifier came back with: 6, the real answer is: 6\n",
        "the classifier came back with: 8, the real answer is: 8\n",
        "the classifier came back with: 7, the real answer is: 7\n",
        "the classifier came back with: 7, the real answer is: 7"
       ]
      },
      {
       "output_type": "stream",
       "stream": "stdout",
       "text": [
        "\n",
        "the classifier came back with: 5, the real answer is: 5\n",
        "the classifier came back with: 6, the real answer is: 6\n",
        "the classifier came back with: 4, the real answer is: 4\n",
        "the classifier came back with: 6, the real answer is: 6\n",
        "the classifier came back with: 7, the real answer is: 7"
       ]
      },
      {
       "output_type": "stream",
       "stream": "stdout",
       "text": [
        "\n",
        "the classifier came back with: 9, the real answer is: 9\n",
        "the classifier came back with: 8, the real answer is: 8\n",
        "the classifier came back with: 0, the real answer is: 0\n",
        "the classifier came back with: 1, the real answer is: 1\n",
        "the classifier came back with: 1, the real answer is: 1"
       ]
      },
      {
       "output_type": "stream",
       "stream": "stdout",
       "text": [
        "\n",
        "the classifier came back with: 0, the real answer is: 0\n",
        "the classifier came back with: 5, the real answer is: 5\n",
        "the classifier came back with: 7, the real answer is: 7\n",
        "the classifier came back with: 3, the real answer is: 3\n",
        "the classifier came back with: 8, the real answer is: 8"
       ]
      },
      {
       "output_type": "stream",
       "stream": "stdout",
       "text": [
        "\n",
        "the classifier came back with: 3, the real answer is: 3\n",
        "the classifier came back with: 4, the real answer is: 4\n",
        "the classifier came back with: 9, the real answer is: 9\n",
        "the classifier came back with: 8, the real answer is: 8\n",
        "the classifier came back with: 0, the real answer is: 0"
       ]
      },
      {
       "output_type": "stream",
       "stream": "stdout",
       "text": [
        "\n",
        "the classifier came back with: 6, the real answer is: 6\n",
        "the classifier came back with: 6, the real answer is: 6\n",
        "the classifier came back with: 0, the real answer is: 0\n",
        "the classifier came back with: 0, the real answer is: 0\n",
        "the classifier came back with: 0, the real answer is: 0"
       ]
      },
      {
       "output_type": "stream",
       "stream": "stdout",
       "text": [
        "\n",
        "the classifier came back with: 6, the real answer is: 6\n",
        "the classifier came back with: 9, the real answer is: 9\n",
        "the classifier came back with: 5, the real answer is: 5\n",
        "the classifier came back with: 7, the real answer is: 7\n",
        "the classifier came back with: 0, the real answer is: 0"
       ]
      },
      {
       "output_type": "stream",
       "stream": "stdout",
       "text": [
        "\n",
        "the classifier came back with: 9, the real answer is: 9\n",
        "the classifier came back with: 7, the real answer is: 7\n",
        "the classifier came back with: 1, the real answer is: 9\n",
        "the classifier came back with: 7, the real answer is: 7\n",
        "the classifier came back with: 0, the real answer is: 0"
       ]
      },
      {
       "output_type": "stream",
       "stream": "stdout",
       "text": [
        "\n",
        "the classifier came back with: 1, the real answer is: 1\n",
        "the classifier came back with: 2, the real answer is: 2\n",
        "the classifier came back with: 2, the real answer is: 2\n",
        "the classifier came back with: 4, the real answer is: 4\n",
        "the classifier came back with: 6, the real answer is: 6"
       ]
      },
      {
       "output_type": "stream",
       "stream": "stdout",
       "text": [
        "\n",
        "the classifier came back with: 4, the real answer is: 4\n",
        "the classifier came back with: 9, the real answer is: 9\n",
        "the classifier came back with: 5, the real answer is: 5\n",
        "the classifier came back with: 4, the real answer is: 4\n",
        "the classifier came back with: 3, the real answer is: 3"
       ]
      },
      {
       "output_type": "stream",
       "stream": "stdout",
       "text": [
        "\n",
        "the classifier came back with: 2, the real answer is: 2\n",
        "the classifier came back with: 7, the real answer is: 7\n",
        "the classifier came back with: 4, the real answer is: 4\n",
        "the classifier came back with: 0, the real answer is: 0\n",
        "the classifier came back with: 9, the real answer is: 9"
       ]
      },
      {
       "output_type": "stream",
       "stream": "stdout",
       "text": [
        "\n",
        "the classifier came back with: 8, the real answer is: 8\n",
        "the classifier came back with: 0, the real answer is: 0\n",
        "the classifier came back with: 5, the real answer is: 5\n",
        "the classifier came back with: 3, the real answer is: 3\n",
        "the classifier came back with: 4, the real answer is: 4"
       ]
      },
      {
       "output_type": "stream",
       "stream": "stdout",
       "text": [
        "\n",
        "the classifier came back with: 5, the real answer is: 5\n",
        "the classifier came back with: 9, the real answer is: 9\n",
        "the classifier came back with: 2, the real answer is: 2\n",
        "the classifier came back with: 8, the real answer is: 8\n",
        "the classifier came back with: 7, the real answer is: 7"
       ]
      },
      {
       "output_type": "stream",
       "stream": "stdout",
       "text": [
        "\n",
        "the classifier came back with: 5, the real answer is: 5\n",
        "the classifier came back with: 2, the real answer is: 2\n",
        "the classifier came back with: 9, the real answer is: 9\n",
        "the classifier came back with: 6, the real answer is: 6\n",
        "the classifier came back with: 0, the real answer is: 0"
       ]
      },
      {
       "output_type": "stream",
       "stream": "stdout",
       "text": [
        "\n",
        "the classifier came back with: 4, the real answer is: 4\n",
        "the classifier came back with: 1, the real answer is: 1\n",
        "the classifier came back with: 4, the real answer is: 4\n",
        "the classifier came back with: 1, the real answer is: 1\n",
        "the classifier came back with: 0, the real answer is: 0"
       ]
      },
      {
       "output_type": "stream",
       "stream": "stdout",
       "text": [
        "\n",
        "the classifier came back with: 4, the real answer is: 4\n",
        "the classifier came back with: 9, the real answer is: 9\n",
        "the classifier came back with: 2, the real answer is: 2\n",
        "the classifier came back with: 0, the real answer is: 0\n",
        "the classifier came back with: 5, the real answer is: 5"
       ]
      },
      {
       "output_type": "stream",
       "stream": "stdout",
       "text": [
        "\n",
        "the classifier came back with: 6, the real answer is: 6\n",
        "the classifier came back with: 1, the real answer is: 1\n",
        "the classifier came back with: 6, the real answer is: 6\n",
        "the classifier came back with: 5, the real answer is: 5\n",
        "the classifier came back with: 1, the real answer is: 1"
       ]
      },
      {
       "output_type": "stream",
       "stream": "stdout",
       "text": [
        "\n",
        "the classifier came back with: 9, the real answer is: 9\n",
        "the classifier came back with: 5, the real answer is: 5\n",
        "the classifier came back with: 1, the real answer is: 1\n",
        "the classifier came back with: 4, the real answer is: 4\n",
        "the classifier came back with: 2, the real answer is: 2"
       ]
      },
      {
       "output_type": "stream",
       "stream": "stdout",
       "text": [
        "\n",
        "the classifier came back with: 5, the real answer is: 5\n",
        "the classifier came back with: 3, the real answer is: 3\n",
        "the classifier came back with: 6, the real answer is: 6\n",
        "the classifier came back with: 9, the real answer is: 9\n",
        "the classifier came back with: 5, the real answer is: 5"
       ]
      },
      {
       "output_type": "stream",
       "stream": "stdout",
       "text": [
        "\n",
        "the classifier came back with: 6, the real answer is: 6\n",
        "the classifier came back with: 8, the real answer is: 8\n",
        "the classifier came back with: 7, the real answer is: 7\n",
        "the classifier came back with: 8, the real answer is: 8\n",
        "the classifier came back with: 6, the real answer is: 6"
       ]
      },
      {
       "output_type": "stream",
       "stream": "stdout",
       "text": [
        "\n",
        "the classifier came back with: 3, the real answer is: 3\n",
        "the classifier came back with: 8, the real answer is: 8\n",
        "the classifier came back with: 0, the real answer is: 0\n",
        "the classifier came back with: 1, the real answer is: 1\n",
        "the classifier came back with: 7, the real answer is: 7"
       ]
      },
      {
       "output_type": "stream",
       "stream": "stdout",
       "text": [
        "\n",
        "the classifier came back with: 3, the real answer is: 3\n",
        "the classifier came back with: 9, the real answer is: 9\n",
        "the classifier came back with: 3, the real answer is: 3\n",
        "the classifier came back with: 0, the real answer is: 0\n",
        "the classifier came back with: 2, the real answer is: 2"
       ]
      },
      {
       "output_type": "stream",
       "stream": "stdout",
       "text": [
        "\n",
        "the classifier came back with: 2, the real answer is: 2\n",
        "the classifier came back with: 6, the real answer is: 6\n",
        "the classifier came back with: 4, the real answer is: 4\n",
        "the classifier came back with: 6, the real answer is: 6\n",
        "the classifier came back with: 6, the real answer is: 6"
       ]
      },
      {
       "output_type": "stream",
       "stream": "stdout",
       "text": [
        "\n",
        "the classifier came back with: 7, the real answer is: 7\n",
        "the classifier came back with: 7, the real answer is: 7\n",
        "the classifier came back with: 3, the real answer is: 3\n",
        "the classifier came back with: 5, the real answer is: 5\n",
        "the classifier came back with: 4, the real answer is: 4"
       ]
      },
      {
       "output_type": "stream",
       "stream": "stdout",
       "text": [
        "\n",
        "the classifier came back with: 3, the real answer is: 3\n",
        "the classifier came back with: 8, the real answer is: 8\n",
        "the classifier came back with: 9, the real answer is: 9\n",
        "the classifier came back with: 1, the real answer is: 1\n",
        "the classifier came back with: 4, the real answer is: 4"
       ]
      },
      {
       "output_type": "stream",
       "stream": "stdout",
       "text": [
        "\n",
        "the classifier came back with: 5, the real answer is: 5\n",
        "the classifier came back with: 5, the real answer is: 5\n",
        "the classifier came back with: 4, the real answer is: 4\n",
        "the classifier came back with: 2, the real answer is: 2\n",
        "the classifier came back with: 4, the real answer is: 4"
       ]
      },
      {
       "output_type": "stream",
       "stream": "stdout",
       "text": [
        "\n",
        "the classifier came back with: 1, the real answer is: 1\n",
        "the classifier came back with: 0, the real answer is: 0\n",
        "the classifier came back with: 0, the real answer is: 0\n",
        "the classifier came back with: 9, the real answer is: 9\n",
        "the classifier came back with: 6, the real answer is: 6"
       ]
      },
      {
       "output_type": "stream",
       "stream": "stdout",
       "text": [
        "\n",
        "the classifier came back with: 0, the real answer is: 0\n",
        "the classifier came back with: 3, the real answer is: 3\n",
        "the classifier came back with: 1, the real answer is: 1\n",
        "the classifier came back with: 9, the real answer is: 9\n",
        "the classifier came back with: 3, the real answer is: 3"
       ]
      },
      {
       "output_type": "stream",
       "stream": "stdout",
       "text": [
        "\n",
        "the classifier came back with: 1, the real answer is: 1\n",
        "the classifier came back with: 0, the real answer is: 0\n",
        "the classifier came back with: 4, the real answer is: 4\n",
        "the classifier came back with: 1, the real answer is: 1\n",
        "the classifier came back with: 4, the real answer is: 4"
       ]
      },
      {
       "output_type": "stream",
       "stream": "stdout",
       "text": [
        "\n",
        "the classifier came back with: 2, the real answer is: 2\n",
        "the classifier came back with: 4, the real answer is: 4\n",
        "the classifier came back with: 2, the real answer is: 2\n",
        "the classifier came back with: 7, the real answer is: 7\n",
        "the classifier came back with: 1, the real answer is: 1"
       ]
      },
      {
       "output_type": "stream",
       "stream": "stdout",
       "text": [
        "\n",
        "the classifier came back with: 8, the real answer is: 8\n",
        "the classifier came back with: 6, the real answer is: 8\n",
        "the classifier came back with: 0, the real answer is: 0\n",
        "the classifier came back with: 0, the real answer is: 0\n",
        "the classifier came back with: 4, the real answer is: 4"
       ]
      },
      {
       "output_type": "stream",
       "stream": "stdout",
       "text": [
        "\n",
        "the classifier came back with: 9, the real answer is: 9\n",
        "the classifier came back with: 0, the real answer is: 0\n",
        "the classifier came back with: 8, the real answer is: 8\n",
        "the classifier came back with: 7, the real answer is: 7\n",
        "the classifier came back with: 5, the real answer is: 5"
       ]
      },
      {
       "output_type": "stream",
       "stream": "stdout",
       "text": [
        "\n",
        "the classifier came back with: 7, the real answer is: 7\n",
        "the classifier came back with: 5, the real answer is: 5\n",
        "the classifier came back with: 7, the real answer is: 7\n",
        "the classifier came back with: 3, the real answer is: 3\n",
        "the classifier came back with: 5, the real answer is: 5"
       ]
      },
      {
       "output_type": "stream",
       "stream": "stdout",
       "text": [
        "\n",
        "the classifier came back with: 5, the real answer is: 5\n",
        "the classifier came back with: 7, the real answer is: 7\n",
        "the classifier came back with: 0, the real answer is: 0\n",
        "the classifier came back with: 4, the real answer is: 4\n",
        "the classifier came back with: 7, the real answer is: 7"
       ]
      },
      {
       "output_type": "stream",
       "stream": "stdout",
       "text": [
        "\n",
        "the classifier came back with: 5, the real answer is: 5\n",
        "the classifier came back with: 9, the real answer is: 9\n",
        "the classifier came back with: 9, the real answer is: 9\n",
        "the classifier came back with: 7, the real answer is: 7\n",
        "the classifier came back with: 7, the real answer is: 7"
       ]
      },
      {
       "output_type": "stream",
       "stream": "stdout",
       "text": [
        "\n",
        "the classifier came back with: 3, the real answer is: 3\n",
        "the classifier came back with: 4, the real answer is: 4\n",
        "the classifier came back with: 9, the real answer is: 9\n",
        "the classifier came back with: 2, the real answer is: 2\n",
        "the classifier came back with: 0, the real answer is: 0"
       ]
      },
      {
       "output_type": "stream",
       "stream": "stdout",
       "text": [
        "\n",
        "the classifier came back with: 2, the real answer is: 2\n",
        "the classifier came back with: 5, the real answer is: 5\n",
        "the classifier came back with: 4, the real answer is: 4\n",
        "the classifier came back with: 7, the real answer is: 7\n",
        "the classifier came back with: 4, the real answer is: 4"
       ]
      },
      {
       "output_type": "stream",
       "stream": "stdout",
       "text": [
        "\n",
        "the classifier came back with: 5, the real answer is: 5\n",
        "the classifier came back with: 1, the real answer is: 1\n",
        "the classifier came back with: 0, the real answer is: 0\n",
        "the classifier came back with: 9, the real answer is: 9\n",
        "the classifier came back with: 7, the real answer is: 7"
       ]
      },
      {
       "output_type": "stream",
       "stream": "stdout",
       "text": [
        "\n",
        "the classifier came back with: 3, the real answer is: 3\n",
        "the classifier came back with: 6, the real answer is: 6\n",
        "the classifier came back with: 9, the real answer is: 9\n",
        "the classifier came back with: 8, the real answer is: 8\n",
        "the classifier came back with: 1, the real answer is: 1"
       ]
      },
      {
       "output_type": "stream",
       "stream": "stdout",
       "text": [
        "\n",
        "the classifier came back with: 1, the real answer is: 8\n",
        "the classifier came back with: 9, the real answer is: 9\n",
        "the classifier came back with: 8, the real answer is: 8\n",
        "the classifier came back with: 8, the real answer is: 8\n",
        "the classifier came back with: 3, the real answer is: 3"
       ]
      },
      {
       "output_type": "stream",
       "stream": "stdout",
       "text": [
        "\n",
        "the classifier came back with: 5, the real answer is: 5\n",
        "the classifier came back with: 6, the real answer is: 6\n",
        "the classifier came back with: 4, the real answer is: 4\n",
        "the classifier came back with: 4, the real answer is: 4\n",
        "the classifier came back with: 4, the real answer is: 4"
       ]
      },
      {
       "output_type": "stream",
       "stream": "stdout",
       "text": [
        "\n",
        "the classifier came back with: 9, the real answer is: 9\n",
        "the classifier came back with: 2, the real answer is: 2\n",
        "the classifier came back with: 8, the real answer is: 8\n",
        "the classifier came back with: 6, the real answer is: 6\n",
        "the classifier came back with: 5, the real answer is: 5"
       ]
      },
      {
       "output_type": "stream",
       "stream": "stdout",
       "text": [
        "\n",
        "the classifier came back with: 0, the real answer is: 0\n",
        "the classifier came back with: 8, the real answer is: 8\n",
        "the classifier came back with: 4, the real answer is: 4\n",
        "the classifier came back with: 4, the real answer is: 4\n",
        "the classifier came back with: 5, the real answer is: 5"
       ]
      },
      {
       "output_type": "stream",
       "stream": "stdout",
       "text": [
        "\n",
        "the classifier came back with: 1, the real answer is: 1\n",
        "the classifier came back with: 1, the real answer is: 1\n",
        "the classifier came back with: 5, the real answer is: 5\n",
        "the classifier came back with: 5, the real answer is: 5\n",
        "the classifier came back with: 1, the real answer is: 1"
       ]
      },
      {
       "output_type": "stream",
       "stream": "stdout",
       "text": [
        "\n",
        "the classifier came back with: 6, the real answer is: 6\n",
        "the classifier came back with: 6, the real answer is: 6\n",
        "the classifier came back with: 5, the real answer is: 5\n",
        "the classifier came back with: 9, the real answer is: 3\n",
        "the classifier came back with: 3, the real answer is: 3"
       ]
      },
      {
       "output_type": "stream",
       "stream": "stdout",
       "text": [
        "\n",
        "the classifier came back with: 4, the real answer is: 4\n",
        "the classifier came back with: 5, the real answer is: 5\n",
        "the classifier came back with: 4, the real answer is: 4\n",
        "the classifier came back with: 0, the real answer is: 0\n",
        "the classifier came back with: 9, the real answer is: 9"
       ]
      },
      {
       "output_type": "stream",
       "stream": "stdout",
       "text": [
        "\n",
        "the classifier came back with: 0, the real answer is: 0\n",
        "the classifier came back with: 7, the real answer is: 7\n",
        "the classifier came back with: 6, the real answer is: 6\n",
        "the classifier came back with: 1, the real answer is: 1\n",
        "the classifier came back with: 2, the real answer is: 2"
       ]
      },
      {
       "output_type": "stream",
       "stream": "stdout",
       "text": [
        "\n",
        "the classifier came back with: 2, the real answer is: 2\n",
        "the classifier came back with: 8, the real answer is: 8\n",
        "the classifier came back with: 6, the real answer is: 6\n",
        "the classifier came back with: 4, the real answer is: 4\n",
        "the classifier came back with: 3, the real answer is: 3"
       ]
      },
      {
       "output_type": "stream",
       "stream": "stdout",
       "text": [
        "\n",
        "the classifier came back with: 7, the real answer is: 7\n",
        "the classifier came back with: 2, the real answer is: 2\n",
        "the classifier came back with: 8, the real answer is: 8\n",
        "the classifier came back with: 7, the real answer is: 7\n",
        "the classifier came back with: 6, the real answer is: 6"
       ]
      },
      {
       "output_type": "stream",
       "stream": "stdout",
       "text": [
        "\n",
        "the classifier came back with: 2, the real answer is: 2\n",
        "the classifier came back with: 6, the real answer is: 6\n",
        "the classifier came back with: 6, the real answer is: 6\n",
        "the classifier came back with: 1, the real answer is: 1\n",
        "the classifier came back with: 9, the real answer is: 9"
       ]
      },
      {
       "output_type": "stream",
       "stream": "stdout",
       "text": [
        "\n",
        "the classifier came back with: 3, the real answer is: 3\n",
        "the classifier came back with: 2, the real answer is: 2\n",
        "the classifier came back with: 2, the real answer is: 2\n",
        "the classifier came back with: 6, the real answer is: 6\n",
        "the classifier came back with: 4, the real answer is: 4"
       ]
      },
      {
       "output_type": "stream",
       "stream": "stdout",
       "text": [
        "\n",
        "the classifier came back with: 4, the real answer is: 4\n",
        "the classifier came back with: 6, the real answer is: 6\n",
        "the classifier came back with: 4, the real answer is: 4\n",
        "the classifier came back with: 7, the real answer is: 7\n",
        "the classifier came back with: 0, the real answer is: 0"
       ]
      },
      {
       "output_type": "stream",
       "stream": "stdout",
       "text": [
        "\n",
        "the classifier came back with: 1, the real answer is: 1\n",
        "the classifier came back with: 8, the real answer is: 8\n",
        "the classifier came back with: 5, the real answer is: 5\n",
        "the classifier came back with: 4, the real answer is: 4\n",
        "the classifier came back with: 0, the real answer is: 0"
       ]
      },
      {
       "output_type": "stream",
       "stream": "stdout",
       "text": [
        "\n",
        "the classifier came back with: 7, the real answer is: 7\n",
        "the classifier came back with: 0, the real answer is: 0\n",
        "the classifier came back with: 0, the real answer is: 0\n",
        "the classifier came back with: 9, the real answer is: 9\n",
        "the classifier came back with: 6, the real answer is: 6"
       ]
      },
      {
       "output_type": "stream",
       "stream": "stdout",
       "text": [
        "\n",
        "the classifier came back with: 4, the real answer is: 4\n",
        "the classifier came back with: 8, the real answer is: 8\n",
        "the classifier came back with: 6, the real answer is: 6\n",
        "the classifier came back with: 6, the real answer is: 6"
       ]
      },
      {
       "output_type": "stream",
       "stream": "stdout",
       "text": [
        "\n",
        "the classifier came back with: 7, the real answer is: 7\n",
        "the classifier came back with: 3, the real answer is: 5\n",
        "the classifier came back with: 7, the real answer is: 7\n",
        "the classifier came back with: 8, the real answer is: 8\n",
        "the classifier came back with: 9, the real answer is: 9"
       ]
      },
      {
       "output_type": "stream",
       "stream": "stdout",
       "text": [
        "\n",
        "the classifier came back with: 1, the real answer is: 1\n",
        "the classifier came back with: 4, the real answer is: 4\n",
        "the classifier came back with: 5, the real answer is: 5\n",
        "the classifier came back with: 1, the real answer is: 1\n",
        "the classifier came back with: 0, the real answer is: 0"
       ]
      },
      {
       "output_type": "stream",
       "stream": "stdout",
       "text": [
        "\n",
        "the classifier came back with: 3, the real answer is: 3\n",
        "the classifier came back with: 1, the real answer is: 1\n",
        "the classifier came back with: 6, the real answer is: 6\n",
        "the classifier came back with: 5, the real answer is: 5\n",
        "the classifier came back with: 1, the real answer is: 1"
       ]
      },
      {
       "output_type": "stream",
       "stream": "stdout",
       "text": [
        "\n",
        "the classifier came back with: 7, the real answer is: 7\n",
        "the classifier came back with: 9, the real answer is: 9\n",
        "the classifier came back with: 1, the real answer is: 1\n",
        "the classifier came back with: 1, the real answer is: 1\n",
        "the classifier came back with: 1, the real answer is: 1"
       ]
      },
      {
       "output_type": "stream",
       "stream": "stdout",
       "text": [
        "\n",
        "the classifier came back with: 2, the real answer is: 2\n",
        "the classifier came back with: 7, the real answer is: 7\n",
        "the classifier came back with: 3, the real answer is: 3\n",
        "the classifier came back with: 6, the real answer is: 6\n",
        "the classifier came back with: 8, the real answer is: 8"
       ]
      },
      {
       "output_type": "stream",
       "stream": "stdout",
       "text": [
        "\n",
        "the classifier came back with: 9, the real answer is: 9\n",
        "the classifier came back with: 9, the real answer is: 9\n",
        "the classifier came back with: 2, the real answer is: 2\n",
        "the classifier came back with: 7, the real answer is: 7\n",
        "the classifier came back with: 6, the real answer is: 6"
       ]
      },
      {
       "output_type": "stream",
       "stream": "stdout",
       "text": [
        "\n",
        "the classifier came back with: 2, the real answer is: 2\n",
        "the classifier came back with: 8, the real answer is: 8\n",
        "the classifier came back with: 2, the real answer is: 2\n",
        "the classifier came back with: 8, the real answer is: 8\n",
        "the classifier came back with: 2, the real answer is: 2"
       ]
      },
      {
       "output_type": "stream",
       "stream": "stdout",
       "text": [
        "\n",
        "the classifier came back with: 3, the real answer is: 3\n",
        "the classifier came back with: 1, the real answer is: 1\n",
        "the classifier came back with: 7, the real answer is: 7\n",
        "the classifier came back with: 6, the real answer is: 6"
       ]
      },
      {
       "output_type": "stream",
       "stream": "stdout",
       "text": [
        "\n",
        "the classifier came back with: 9, the real answer is: 9\n",
        "the classifier came back with: 2, the real answer is: 2\n",
        "the classifier came back with: 8, the real answer is: 8\n",
        "the classifier came back with: 8, the real answer is: 8\n",
        "the classifier came back with: 4, the real answer is: 4"
       ]
      },
      {
       "output_type": "stream",
       "stream": "stdout",
       "text": [
        "\n",
        "the classifier came back with: 7, the real answer is: 7\n",
        "the classifier came back with: 5, the real answer is: 5\n",
        "the classifier came back with: 4, the real answer is: 4\n",
        "the classifier came back with: 6, the real answer is: 6\n",
        "the classifier came back with: 3, the real answer is: 3"
       ]
      },
      {
       "output_type": "stream",
       "stream": "stdout",
       "text": [
        "\n",
        "the classifier came back with: 7, the real answer is: 7\n",
        "the classifier came back with: 2, the real answer is: 2\n",
        "the classifier came back with: 4, the real answer is: 4\n",
        "the classifier came back with: 3, the real answer is: 3\n",
        "the classifier came back with: 2, the real answer is: 2"
       ]
      },
      {
       "output_type": "stream",
       "stream": "stdout",
       "text": [
        "\n",
        "the classifier came back with: 2, the real answer is: 2\n",
        "the classifier came back with: 0, the real answer is: 0\n",
        "the classifier came back with: 9, the real answer is: 9\n",
        "the classifier came back with: 7, the real answer is: 7\n",
        "the classifier came back with: 3, the real answer is: 3"
       ]
      },
      {
       "output_type": "stream",
       "stream": "stdout",
       "text": [
        "\n",
        "the classifier came back with: 1, the real answer is: 1\n",
        "the classifier came back with: 4, the real answer is: 4\n",
        "the classifier came back with: 3, the real answer is: 3\n",
        "the classifier came back with: 5, the real answer is: 5\n",
        "the classifier came back with: 8, the real answer is: 8"
       ]
      },
      {
       "output_type": "stream",
       "stream": "stdout",
       "text": [
        "\n",
        "the classifier came back with: 4, the real answer is: 4\n",
        "the classifier came back with: 0, the real answer is: 0\n",
        "the classifier came back with: 4, the real answer is: 4\n",
        "the classifier came back with: 6, the real answer is: 6\n",
        "the classifier came back with: 8, the real answer is: 8"
       ]
      },
      {
       "output_type": "stream",
       "stream": "stdout",
       "text": [
        "\n",
        "the classifier came back with: 3, the real answer is: 3\n",
        "the classifier came back with: 5, the real answer is: 5\n",
        "the classifier came back with: 8, the real answer is: 8\n",
        "the classifier came back with: 6, the real answer is: 6\n",
        "the classifier came back with: 5, the real answer is: 5"
       ]
      },
      {
       "output_type": "stream",
       "stream": "stdout",
       "text": [
        "\n",
        "the classifier came back with: 2, the real answer is: 2\n",
        "the classifier came back with: 2, the real answer is: 2\n",
        "the classifier came back with: 2, the real answer is: 2\n",
        "the classifier came back with: 9, the real answer is: 9\n",
        "the classifier came back with: 9, the real answer is: 9"
       ]
      },
      {
       "output_type": "stream",
       "stream": "stdout",
       "text": [
        "\n",
        "the classifier came back with: 2, the real answer is: 2\n",
        "the classifier came back with: 8, the real answer is: 8\n",
        "the classifier came back with: 1, the real answer is: 1\n",
        "the classifier came back with: 1, the real answer is: 1\n",
        "the classifier came back with: 7, the real answer is: 7"
       ]
      },
      {
       "output_type": "stream",
       "stream": "stdout",
       "text": [
        "\n",
        "the classifier came back with: 7, the real answer is: 1\n",
        "the classifier came back with: 4, the real answer is: 4\n",
        "the classifier came back with: 3, the real answer is: 3\n",
        "the classifier came back with: 9, the real answer is: 9\n",
        "the classifier came back with: 7, the real answer is: 7"
       ]
      },
      {
       "output_type": "stream",
       "stream": "stdout",
       "text": [
        "\n",
        "the classifier came back with: 7, the real answer is: 7\n",
        "the classifier came back with: 5, the real answer is: 9\n",
        "the classifier came back with: 6, the real answer is: 6\n",
        "the classifier came back with: 4, the real answer is: 4\n",
        "the classifier came back with: 4, the real answer is: 4"
       ]
      },
      {
       "output_type": "stream",
       "stream": "stdout",
       "text": [
        "\n",
        "the classifier came back with: 4, the real answer is: 4\n",
        "the classifier came back with: 4, the real answer is: 4\n",
        "the classifier came back with: 4, the real answer is: 4\n",
        "the classifier came back with: 0, the real answer is: 0\n",
        "the classifier came back with: 5, the real answer is: 5"
       ]
      },
      {
       "output_type": "stream",
       "stream": "stdout",
       "text": [
        "\n",
        "the classifier came back with: 1, the real answer is: 1\n",
        "the classifier came back with: 2, the real answer is: 2\n",
        "the classifier came back with: 2, the real answer is: 2\n",
        "the classifier came back with: 1, the real answer is: 1\n",
        "the classifier came back with: 6, the real answer is: 6"
       ]
      },
      {
       "output_type": "stream",
       "stream": "stdout",
       "text": [
        "\n",
        "the classifier came back with: 2, the real answer is: 2\n",
        "the classifier came back with: 5, the real answer is: 5\n",
        "the classifier came back with: 5, the real answer is: 5\n",
        "the classifier came back with: 5, the real answer is: 5\n",
        "the classifier came back with: 6, the real answer is: 6"
       ]
      },
      {
       "output_type": "stream",
       "stream": "stdout",
       "text": [
        "\n",
        "the classifier came back with: 2, the real answer is: 2\n",
        "the classifier came back with: 4, the real answer is: 4\n",
        "the classifier came back with: 5, the real answer is: 5\n",
        "the classifier came back with: 7, the real answer is: 7\n",
        "the classifier came back with: 4, the real answer is: 4"
       ]
      },
      {
       "output_type": "stream",
       "stream": "stdout",
       "text": [
        "\n",
        "the classifier came back with: 4, the real answer is: 4\n",
        "the classifier came back with: 5, the real answer is: 5\n",
        "the classifier came back with: 3, the real answer is: 3\n",
        "the classifier came back with: 4, the real answer is: 4\n",
        "the classifier came back with: 7, the real answer is: 7"
       ]
      },
      {
       "output_type": "stream",
       "stream": "stdout",
       "text": [
        "\n",
        "the classifier came back with: 6, the real answer is: 6\n",
        "the classifier came back with: 6, the real answer is: 6\n",
        "the classifier came back with: 9, the real answer is: 9\n",
        "the classifier came back with: 4, the real answer is: 4\n",
        "the classifier came back with: 0, the real answer is: 0"
       ]
      },
      {
       "output_type": "stream",
       "stream": "stdout",
       "text": [
        "\n",
        "the classifier came back with: 9, the real answer is: 9\n",
        "the classifier came back with: 2, the real answer is: 2\n",
        "the classifier came back with: 8, the real answer is: 8\n",
        "the classifier came back with: 6, the real answer is: 6\n",
        "the classifier came back with: 9, the real answer is: 9"
       ]
      },
      {
       "output_type": "stream",
       "stream": "stdout",
       "text": [
        "\n",
        "the classifier came back with: 2, the real answer is: 2\n",
        "the classifier came back with: 5, the real answer is: 5\n",
        "the classifier came back with: 3, the real answer is: 3\n",
        "the classifier came back with: 3, the real answer is: 3\n",
        "the classifier came back with: 5, the real answer is: 5"
       ]
      },
      {
       "output_type": "stream",
       "stream": "stdout",
       "text": [
        "\n",
        "the classifier came back with: 5, the real answer is: 5\n",
        "the classifier came back with: 3, the real answer is: 3\n",
        "the classifier came back with: 4, the real answer is: 4\n",
        "the classifier came back with: 1, the real answer is: 1\n",
        "the classifier came back with: 1, the real answer is: 1"
       ]
      },
      {
       "output_type": "stream",
       "stream": "stdout",
       "text": [
        "\n",
        "the classifier came back with: 9, the real answer is: 9\n",
        "the classifier came back with: 1, the real answer is: 1\n",
        "the classifier came back with: 8, the real answer is: 8\n",
        "the classifier came back with: 6, the real answer is: 6\n",
        "the classifier came back with: 1, the real answer is: 1"
       ]
      },
      {
       "output_type": "stream",
       "stream": "stdout",
       "text": [
        "\n",
        "the classifier came back with: 4, the real answer is: 4\n",
        "\n",
        "the total number of errors is: 12\n",
        "\n",
        "the total error rate is: 0.012685\n"
       ]
      }
     ],
     "prompt_number": 51
    },
    {
     "cell_type": "code",
     "collapsed": false,
     "input": [],
     "language": "python",
     "metadata": {},
     "outputs": []
    }
   ],
   "metadata": {}
  }
 ]
}