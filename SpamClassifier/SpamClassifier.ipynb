{
 "metadata": {
  "name": "",
  "signature": "sha256:1267ebf321986c3eea768d70fc50c47b1b0df4cc76044fdd3e65f5543f9337e5"
 },
 "nbformat": 3,
 "nbformat_minor": 0,
 "worksheets": [
  {
   "cells": [
    {
     "cell_type": "code",
     "collapsed": false,
     "input": [
      "import matplotlib\n",
      "import numpy as np\n",
      "from numpy import genfromtxt\n",
      "from sklearn import tree\n",
      "from itertools import cycle\n",
      "from IPython.core.display import Image \n",
      "import unicodedata"
     ],
     "language": "python",
     "metadata": {},
     "outputs": [],
     "prompt_number": 1
    },
    {
     "cell_type": "heading",
     "level": 1,
     "metadata": {},
     "source": [
      "Load Dataset"
     ]
    },
    {
     "cell_type": "code",
     "collapsed": false,
     "input": [
      "from SpamData import SpamData\n",
      "spamData = SpamData()\n",
      "# spamData.feature_names = [unicodedata.normalize('NFKD', name).encode('ascii','ignore') for name in spamData.feature_names]"
     ],
     "language": "python",
     "metadata": {},
     "outputs": [],
     "prompt_number": 2
    },
    {
     "cell_type": "heading",
     "level": 3,
     "metadata": {},
     "source": [
      "lets see some basic dataset stats"
     ]
    },
    {
     "cell_type": "code",
     "collapsed": false,
     "input": [
      "spamData.summary()"
     ],
     "language": "python",
     "metadata": {},
     "outputs": [
      {
       "output_type": "stream",
       "stream": "stdout",
       "text": [
        "57 features, 4601 samples\n"
       ]
      }
     ],
     "prompt_number": 3
    },
    {
     "cell_type": "heading",
     "level": 1,
     "metadata": {},
     "source": [
      "Feature Exploration"
     ]
    },
    {
     "cell_type": "code",
     "collapsed": false,
     "input": [
      "from sklearn.feature_selection import SelectPercentile, f_classif\n",
      "\n",
      "# Univariate feature selection with F-test for feature scoring\n",
      "selector = SelectPercentile(f_classif, percentile=10)\n",
      "selector.fit(spamData.data, spamData.target)\n",
      "scores = -np.log10(selector.pvalues_)\n",
      "scores /= scores.max()\n",
      "\n",
      "\n",
      "feature_indices = range(0, len(spamData.feature_names))\n",
      "sorted_scores, sorted_names = zip(*sorted(zip(scores, spamData.feature_names), reverse=True))\n",
      "\n",
      "neg_indices = np.where(spamData.target == 0)\n",
      "pos_indices = np.where(spamData.target == 1)\n",
      "\n",
      "# plot two most discriminative features\n",
      "for count in range(0,2):\n",
      "    fig = plt.figure()#ax = plt.subplot(2, 1, count+1)\n",
      "    ax = plt.axes(frameon=True)\n",
      "    feature_name = sorted_names[count]\n",
      "    feature_vector = spamData.getfeature_vector(feature_name)\n",
      "\n",
      "    bins = np.linspace(0, feature_vector.max(), 10)\n",
      "    plt.hist(np.take(feature_vector, neg_indices)[0], bins=bins, color='green', histtype='stepfilled', alpha=0.5, label='no spam')\n",
      "    plt.hist(np.take(feature_vector, pos_indices)[0], bins=bins, color='orange', histtype='stepfilled', alpha=0.5, label='spam')\n",
      "\n",
      "    plt.ylim(0, spamData.number_of_samples())\n",
      "\n",
      "    plt.xlabel(feature_name, fontsize=12)\n",
      "    plt.legend()\n",
      "    ax.set_xticks([])"
     ],
     "language": "python",
     "metadata": {},
     "outputs": [
      {
       "metadata": {},
       "output_type": "display_data",
       "png": "[encoded data removed]",
       "text": [
        "<matplotlib.figure.Figure at 0x40e8bd0>"
       ]
      },
      {
       "metadata": {},
       "output_type": "display_data",
       "png": "[encoded data removed]",
       "text": [
        "<matplotlib.figure.Figure at 0x40f7290>"
       ]
      }
     ],
     "prompt_number": 4
    },
    {
     "cell_type": "heading",
     "level": 1,
     "metadata": {},
     "source": [
      "Training"
     ]
    },
    {
     "cell_type": "code",
     "collapsed": false,
     "input": [
      "model = tree.DecisionTreeClassifier(min_samples_leaf=100,criterion='entropy')\n",
      "data = SpamData()\n",
      "model.fit(data.data, data.target)"
     ],
     "language": "python",
     "metadata": {},
     "outputs": [
      {
       "metadata": {},
       "output_type": "pyout",
       "prompt_number": 5,
       "text": [
        "DecisionTreeClassifier(compute_importances=None, criterion='entropy',\n",
        "            max_depth=None, max_features=None, max_leaf_nodes=None,\n",
        "            min_density=None, min_samples_leaf=100, min_samples_split=2,\n",
        "            random_state=None, splitter='best')"
       ]
      }
     ],
     "prompt_number": 5
    },
    {
     "cell_type": "heading",
     "level": 3,
     "metadata": {},
     "source": [
      "visualize model"
     ]
    },
    {
     "cell_type": "code",
     "collapsed": false,
     "input": [
      "import export\n",
      "import pydot\n",
      "import StringIO\n",
      "dot_data = StringIO.StringIO()\n",
      "export.export_graphviz(model, out_file=dot_data, feature_names=data.feature_names, target_names=data.target_names)\n",
      "\n",
      "print dot_data.getvalue()\n",
      "\n",
      "graph = pydot.graph_from_dot_data(dot_data.getvalue())\n",
      "\n",
      "graph.write_png('spam.png')\n",
      "Image(filename='spam.png') #display image"
     ],
     "language": "python",
     "metadata": {},
     "outputs": [
      {
       "output_type": "stream",
       "stream": "stdout",
       "text": [
        "digraph Tree {\n",
        "0 [label=\"char_freq_$ <= 0.0555\n",
        "entropy = 0.967360237181\n",
        "samples = 4601\", shape=\"box\", style=\"rounded\"] ;\n",
        "1 [label=\"word_freq_remove <= 0.0550\n",
        "entropy = 0.786780609247\n",
        "samples = 3471\", shape=\"box\", style=\"rounded\"] ;\n",
        "0 -> 1 ;\n",
        "2 [label=\"char_freq_! <= 0.1910\n",
        "entropy = 0.644448455022\n",
        "samples = 3141\", shape=\"box\", style=\"rounded\"] ;\n",
        "1 -> 2 ;\n",
        "3 [label=\"word_freq_hp <= 0.0250\n",
        "entropy = 0.4119867237\n",
        "samples = 2524\", shape=\"box\", style=\"rounded\"] ;\n",
        "2 -> 3 ;\n",
        "4 [label=\"capital_run_length_longest <= 10.5000\n",
        "entropy = 0.542913837115\n",
        "samples = 1619\", shape=\"box\", style=\"rounded\"] ;\n",
        "3 -> 4 ;\n",
        "5 [label=\"word_freq_george <= 0.1250\n",
        "entropy = 0.293054052344\n",
        "samples = 1047\", shape=\"box\", style=\"rounded\"] ;\n",
        "4 -> 5 ;\n",
        "6 [label=\"word_freq_your <= 0.6150\n",
        "entropy = 0.374052921377\n",
        "samples = 748\", shape=\"box\", style=\"rounded\"] ;\n",
        "5 -> 6 ;\n",
        "7 [label=\"capital_run_length_total <= 30.5000\n",
        "entropy = 0.244765082021\n",
        "samples = 592\", shape=\"box\", style=\"rounded\"] ;\n",
        "6 -> 7 ;\n",
        "8 [label=\"capital_run_length_average <= 1.5500\n",
        "entropy = 0.172036949353\n",
        "samples = 429\", shape=\"box\", style=\"rounded\"] ;\n",
        "7 -> 8 ;\n",
        "9 [label=\"capital_run_length_average <= 1.1055\n",
        "entropy = 0.254992968966\n",
        "samples = 257\", shape=\"box\", style=\"rounded\"] ;\n",
        "8 -> 9 ;\n",
        "10 [label=\"entropy = 0.2805\n",
        "value = [ 137.    7.]\n",
        "class = no spam\", shape=\"box\", style=\"filled\", fillcolor=\"green\"] ;\n",
        "9 -> 10 ;\n",
        "11 [label=\"entropy = 0.2208\n",
        "value = [ 109.    4.]\n",
        "class = no spam\", shape=\"box\", style=\"filled\", fillcolor=\"green\"] ;\n",
        "9 -> 11 ;\n",
        "12 [label=\"entropy = 0.0000\n",
        "value = [ 172.    0.]\n",
        "class = no spam\", shape=\"box\", style=\"filled\", fillcolor=\"green\"] ;\n",
        "8 -> 12 ;\n",
        "13 [label=\"entropy = 0.4013\n",
        "value = [ 150.   13.]\n",
        "class = no spam\", shape=\"box\", style=\"filled\", fillcolor=\"green\"] ;\n",
        "7 -> 13 ;\n",
        "14 [label=\"entropy = 0.7063\n",
        "value = [ 126.   30.]\n",
        "class = no spam\", shape=\"box\", style=\"filled\", fillcolor=\"green\"] ;\n",
        "6 -> 14 ;\n",
        "15 [label=\"entropy = 0.0000\n",
        "value = [ 299.    0.]\n",
        "class = no spam\", shape=\"box\", style=\"filled\", fillcolor=\"green\"] ;\n",
        "5 -> 15 ;\n",
        "16 [label=\"word_freq_our <= 0.1550\n",
        "entropy = 0.824840968163\n",
        "samples = 572\", shape=\"box\", style=\"rounded\"] ;\n",
        "4 -> 16 ;\n",
        "17 [label=\"word_freq_re <= 0.2900\n",
        "entropy = 0.654411371718\n",
        "samples = 439\", shape=\"box\", style=\"rounded\"] ;\n",
        "16 -> 17 ;\n",
        "18 [label=\"char_freq_( <= 0.1035\n",
        "entropy = 0.758739255403\n",
        "samples = 333\", shape=\"box\", style=\"rounded\"] ;\n",
        "17 -> 18 ;\n",
        "19 [label=\"entropy = 0.8487\n",
        "value = [ 137.   52.]\n",
        "class = no spam\", shape=\"box\", style=\"filled\", fillcolor=\"green\"] ;\n",
        "18 -> 19 ;\n",
        "20 [label=\"entropy = 0.5993\n",
        "value = [ 123.   21.]\n",
        "class = no spam\", shape=\"box\", style=\"filled\", fillcolor=\"green\"] ;\n",
        "18 -> 20 ;\n",
        "21 [label=\"entropy = 0.0770\n",
        "value = [ 105.    1.]\n",
        "class = no spam\", shape=\"box\", style=\"filled\", fillcolor=\"green\"] ;\n",
        "17 -> 21 ;\n",
        "22 [label=\"entropy = 0.9908\n",
        "value = [ 59.  74.]\n",
        "class = spam\", shape=\"box\", style=\"filled\", fillcolor=\"orange\"] ;\n",
        "16 -> 22 ;\n",
        "23 [label=\"word_freq_technology <= 0.2350\n",
        "entropy = 0.0653708742889\n",
        "samples = 905\", shape=\"box\", style=\"rounded\"] ;\n",
        "3 -> 23 ;\n",
        "24 [label=\"word_freq_hp <= 0.6750\n",
        "entropy = 0.0933005829515\n",
        "samples = 587\", shape=\"box\", style=\"rounded\"] ;\n",
        "23 -> 24 ;\n",
        "25 [label=\"entropy = 0.0000\n",
        "value = [ 166.    0.]\n",
        "class = no spam\", shape=\"box\", style=\"filled\", fillcolor=\"green\"] ;\n",
        "24 -> 25 ;\n",
        "26 [label=\"word_freq_your <= 0.1950\n",
        "entropy = 0.122058644304\n",
        "samples = 421\", shape=\"box\", style=\"rounded\"] ;\n",
        "24 -> 26 ;\n",
        "27 [label=\"word_freq_hpl <= 0.0350\n",
        "entropy = 0.0601224488786\n",
        "samples = 286\", shape=\"box\", style=\"rounded\"] ;\n",
        "26 -> 27 ;\n",
        "28 [label=\"entropy = 0.1321\n",
        "value = [ 107.    2.]\n",
        "class = no spam\", shape=\"box\", style=\"filled\", fillcolor=\"green\"] ;\n",
        "27 -> 28 ;\n",
        "29 [label=\"entropy = 0.0000\n",
        "value = [ 177.    0.]\n",
        "class = no spam\", shape=\"box\", style=\"filled\", fillcolor=\"green\"] ;\n",
        "27 -> 29 ;\n",
        "30 [label=\"entropy = 0.2285\n",
        "value = [ 130.    5.]\n",
        "class = no spam\", shape=\"box\", style=\"filled\", fillcolor=\"green\"] ;\n",
        "26 -> 30 ;\n",
        "31 [label=\"entropy = 0.0000\n",
        "value = [ 318.    0.]\n",
        "class = no spam\", shape=\"box\", style=\"filled\", fillcolor=\"green\"] ;\n",
        "23 -> 31 ;\n",
        "32 [label=\"capital_run_length_average <= 2.7655\n",
        "entropy = 0.999982946307\n",
        "samples = 617\", shape=\"box\", style=\"rounded\"] ;\n",
        "2 -> 32 ;\n",
        "33 [label=\"word_freq_your <= 0.6150\n",
        "entropy = 0.870144529134\n",
        "samples = 371\", shape=\"box\", style=\"rounded\"] ;\n",
        "32 -> 33 ;\n",
        "34 [label=\"char_freq_! <= 0.5725\n",
        "entropy = 0.653347828195\n",
        "samples = 232\", shape=\"box\", style=\"rounded\"] ;\n",
        "33 -> 34 ;\n",
        "35 [label=\"entropy = 0.3591\n",
        "value = [ 123.    9.]\n",
        "class = no spam\", shape=\"box\", style=\"filled\", fillcolor=\"green\"] ;\n",
        "34 -> 35 ;\n",
        "36 [label=\"entropy = 0.8813\n",
        "value = [ 70.  30.]\n",
        "class = no spam\", shape=\"box\", style=\"filled\", fillcolor=\"green\"] ;\n",
        "34 -> 36 ;\n",
        "37 [label=\"entropy = 1.0000\n",
        "value = [ 70.  69.]\n",
        "class = no spam\", shape=\"box\", style=\"filled\", fillcolor=\"green\"] ;\n",
        "33 -> 37 ;\n",
        "38 [label=\"char_freq_! <= 0.5350\n",
        "entropy = 0.70367720649\n",
        "samples = 246\", shape=\"box\", style=\"rounded\"] ;\n",
        "32 -> 38 ;\n",
        "39 [label=\"entropy = 0.9336\n",
        "value = [ 36.  67.]\n",
        "class = spam\", shape=\"box\", style=\"filled\", fillcolor=\"orange\"] ;\n",
        "38 -> 39 ;\n",
        "40 [label=\"entropy = 0.3912\n",
        "value = [  11.  132.]\n",
        "class = spam\", shape=\"box\", style=\"filled\", fillcolor=\"orange\"] ;\n",
        "38 -> 40 ;\n",
        "41 [label=\"word_freq_free <= 0.3450\n",
        "entropy = 0.439496986922\n",
        "samples = 330\", shape=\"box\", style=\"rounded\"] ;\n",
        "1 -> 41 ;\n",
        "42 [label=\"char_freq_! <= 0.1835\n",
        "entropy = 0.591672778582\n",
        "samples = 203\", shape=\"box\", style=\"rounded\"] ;\n",
        "41 -> 42 ;\n",
        "43 [label=\"entropy = 0.7780\n",
        "value = [ 23.  77.]\n",
        "class = spam\", shape=\"box\", style=\"filled\", fillcolor=\"orange\"] ;\n",
        "42 -> 43 ;\n",
        "44 [label=\"entropy = 0.3205\n",
        "value = [  6.  97.]\n",
        "class = spam\", shape=\"box\", style=\"filled\", fillcolor=\"orange\"] ;\n",
        "42 -> 44 ;\n",
        "45 [label=\"entropy = 0.0663\n",
        "value = [   1.  126.]\n",
        "class = spam\", shape=\"box\", style=\"filled\", fillcolor=\"orange\"] ;\n",
        "41 -> 45 ;\n",
        "46 [label=\"char_freq_! <= 0.0775\n",
        "entropy = 0.522710677447\n",
        "samples = 1130\", shape=\"box\", style=\"rounded\"] ;\n",
        "0 -> 46 ;\n",
        "47 [label=\"word_freq_your <= 0.9650\n",
        "entropy = 0.933253538596\n",
        "samples = 275\", shape=\"box\", style=\"rounded\"] ;\n",
        "46 -> 47 ;\n",
        "48 [label=\"entropy = 0.9856\n",
        "value = [ 81.  61.]\n",
        "class = no spam\", shape=\"box\", style=\"filled\", fillcolor=\"green\"] ;\n",
        "47 -> 48 ;\n",
        "49 [label=\"entropy = 0.5083\n",
        "value = [  15.  118.]\n",
        "class = spam\", shape=\"box\", style=\"filled\", fillcolor=\"orange\"] ;\n",
        "47 -> 49 ;\n",
        "50 [label=\"capital_run_length_average <= 2.2910\n",
        "entropy = 0.257110870037\n",
        "samples = 855\", shape=\"box\", style=\"rounded\"] ;\n",
        "46 -> 50 ;\n",
        "51 [label=\"entropy = 0.7077\n",
        "value = [ 22.  92.]\n",
        "class = spam\", shape=\"box\", style=\"filled\", fillcolor=\"orange\"] ;\n",
        "50 -> 51 ;\n",
        "52 [label=\"capital_run_length_total <= 487.5000\n",
        "entropy = 0.142802276545\n",
        "samples = 741\", shape=\"box\", style=\"rounded\"] ;\n",
        "50 -> 52 ;\n",
        "53 [label=\"word_freq_000 <= 0.5100\n",
        "entropy = 0.23292785547\n",
        "samples = 395\", shape=\"box\", style=\"rounded\"] ;\n",
        "52 -> 53 ;\n",
        "54 [label=\"char_freq_! <= 0.4120\n",
        "entropy = 0.313812964169\n",
        "samples = 265\", shape=\"box\", style=\"rounded\"] ;\n",
        "53 -> 54 ;\n",
        "55 [label=\"entropy = 0.4587\n",
        "value = [  12.  112.]\n",
        "class = spam\", shape=\"box\", style=\"filled\", fillcolor=\"orange\"] ;\n",
        "54 -> 55 ;\n",
        "56 [label=\"entropy = 0.1485\n",
        "value = [   3.  138.]\n",
        "class = spam\", shape=\"box\", style=\"filled\", fillcolor=\"orange\"] ;\n",
        "54 -> 56 ;\n",
        "57 [label=\"entropy = 0.0000\n",
        "value = [   0.  130.]\n",
        "class = spam\", shape=\"box\", style=\"filled\", fillcolor=\"orange\"] ;\n",
        "53 -> 57 ;\n",
        "58 [label=\"entropy = 0.0000\n",
        "value = [   0.  346.]\n",
        "class = spam\", shape=\"box\", style=\"filled\", fillcolor=\"orange\"] ;\n",
        "52 -> 58 ;\n",
        "}\n"
       ]
      },
      {
       "ename": "InvocationException",
       "evalue": "Program terminated with status: 1. stderr follows: Warning: /tmp/tmpUyjOGS:2: string ran past end of line\nWarning: /tmp/tmpUyjOGS:4: string ran past end of line\nError: /tmp/tmpUyjOGS:5: syntax error near line 5\ncontext: 1 >>>  [ <<< shape=\"box\", style=\"rounded\", label=\"word_freq_remove <= 0.0550\nWarning: /tmp/tmpUyjOGS:5: string ran past end of line\nWarning: /tmp/tmpUyjOGS:7: string ran past end of line\nWarning: /tmp/tmpUyjOGS:9: string ran past end of line\nWarning: /tmp/tmpUyjOGS:11: string ran past end of line\nWarning: /tmp/tmpUyjOGS:13: string ran past end of line\nWarning: /tmp/tmpUyjOGS:15: string ran past end of line\nWarning: /tmp/tmpUyjOGS:17: string ran past end of line\nWarning: /tmp/tmpUyjOGS:19: string ran past end of line\nWarning: /tmp/tmpUyjOGS:21: string ran past end of line\nWarning: /tmp/tmpUyjOGS:23: string ran past end of line\nWarning: /tmp/tmpUyjOGS:25: string ran past end of line\nWarning: /tmp/tmpUyjOGS:27: string ran past end of line\nWarning: /tmp/tmpUyjOGS:29: string ran past end of line\nWarning: /tmp/tmpUyjOGS:31: string ran past end of line\nWarning: /tmp/tmpUyjOGS:33: string ran past end of line\nWarning: /tmp/tmpUyjOGS:35: string ran past end of line\nWarning: /tmp/tmpUyjOGS:37: string ran past end of line\nWarning: /tmp/tmpUyjOGS:39: string ran past end of line\nWarning: /tmp/tmpUyjOGS:41: string ran past end of line\nWarning: /tmp/tmpUyjOGS:43: string ran past end of line\nWarning: /tmp/tmpUyjOGS:45: string ran past end of line\nWarning: /tmp/tmpUyjOGS:47: string ran past end of line\nWarning: /tmp/tmpUyjOGS:49: string ran past end of line\nWarning: /tmp/tmpUyjOGS:51: string ran past end of line\nWarning: /tmp/tmpUyjOGS:53: string ran past end of line\nWarning: /tmp/tmpUyjOGS:55: string ran past end of line\nWarning: /tmp/tmpUyjOGS:57: string ran past end of line\nWarning: /tmp/tmpUyjOGS:59: string ran past end of line\nWarning: /tmp/tmpUyjOGS:61: string ran past end of line\nWarning: /tmp/tmpUyjOGS:63: string ran past end of line\nWarning: /tmp/tmpUyjOGS:65: string ran past end of line\nWarning: /tmp/tmpUyjOGS:67: string ran past end of line\nWarning: /tmp/tmpUyjOGS:69: string ran past end of line\nWarning: /tmp/tmpUyjOGS:71: string ran past end of line\nWarning: /tmp/tmpUyjOGS:73: string ran past end of line\nWarning: /tmp/tmpUyjOGS:75: string ran past end of line\nWarning: /tmp/tmpUyjOGS:77: string ran past end of line\nWarning: /tmp/tmpUyjOGS:79: string ran past end of line\nWarning: /tmp/tmpUyjOGS:81: string ran past end of line\nWarning: /tmp/tmpUyjOGS:83: string ran past end of line\nWarning: /tmp/tmpUyjOGS:85: string ran past end of line\nWarning: /tmp/tmpUyjOGS:87: string ran past end of line\nWarning: /tmp/tmpUyjOGS:89: string ran past end of line\nWarning: /tmp/tmpUyjOGS:91: string ran past end of line\nWarning: /tmp/tmpUyjOGS:93: string ran past end of line\nWarning: /tmp/tmpUyjOGS:95: string ran past end of line\nWarning: /tmp/tmpUyjOGS:97: string ran past end of line\nWarning: /tmp/tmpUyjOGS:99: string ran past end of line\nWarning: /tmp/tmpUyjOGS:101: string ran past end of line\nWarning: /tmp/tmpUyjOGS:103: string ran past end of line\nWarning: /tmp/tmpUyjOGS:105: string ran past end of line\nWarning: /tmp/tmpUyjOGS:107: string ran past end of line\nWarning: /tmp/tmpUyjOGS:109: string ran past end of line\nWarning: /tmp/tmpUyjOGS:111: string ran past end of line\nWarning: /tmp/tmpUyjOGS:113: string ran past end of line\nWarning: /tmp/tmpUyjOGS:115: string ran past end of line\nWarning: /tmp/tmpUyjOGS:117: string ran past end of line\nWarning: /tmp/tmpUyjOGS:119: string ran past end of line\nWarning: /tmp/tmpUyjOGS:121: string ran past end of line\nWarning: /tmp/tmpUyjOGS:123: string ran past end of line\nWarning: /tmp/tmpUyjOGS:125: string ran past end of line\nWarning: /tmp/tmpUyjOGS:127: string ran past end of line\nWarning: /tmp/tmpUyjOGS:129: string ran past end of line\nWarning: /tmp/tmpUyjOGS:131: string ran past end of line\nWarning: /tmp/tmpUyjOGS:133: string ran past end of line\nWarning: /tmp/tmpUyjOGS:135: string ran past end of line\nWarning: /tmp/tmpUyjOGS:137: string ran past end of line\nWarning: /tmp/tmpUyjOGS:139: string ran past end of line\nWarning: /tmp/tmpUyjOGS:141: string ran past end of line\nWarning: /tmp/tmpUyjOGS:143: string ran past end of line\nWarning: /tmp/tmpUyjOGS:145: string ran past end of line\nWarning: /tmp/tmpUyjOGS:147: string ran past end of line\nWarning: /tmp/tmpUyjOGS:149: string ran past end of line\nWarning: /tmp/tmpUyjOGS:151: string ran past end of line\nWarning: /tmp/tmpUyjOGS:153: string ran past end of line\nWarning: /tmp/tmpUyjOGS:155: string ran past end of line\nWarning: /tmp/tmpUyjOGS:157: string ran past end of line\nWarning: /tmp/tmpUyjOGS:159: string ran past end of line\nWarning: /tmp/tmpUyjOGS:161: string ran past end of line\nWarning: /tmp/tmpUyjOGS:163: string ran past end of line\nWarning: /tmp/tmpUyjOGS:165: string ran past end of line\nWarning: /tmp/tmpUyjOGS:167: string ran past end of line\nWarning: /tmp/tmpUyjOGS:169: string ran past end of line\nWarning: /tmp/tmpUyjOGS:171: string ran past end of line\nWarning: /tmp/tmpUyjOGS:173: string ran past end of line\nWarning: /tmp/tmpUyjOGS:175: string ran past end of line\nWarning: /tmp/tmpUyjOGS:177: string ran past end of line\nWarning: /tmp/tmpUyjOGS:179: string ran past end of line\nWarning: /tmp/tmpUyjOGS:181: string ran past end of line\nWarning: /tmp/tmpUyjOGS:183: string ran past end of line\nWarning: /tmp/tmpUyjOGS:185: string ran past end of line\nWarning: /tmp/tmpUyjOGS:187: string ran past end of line\nWarning: /tmp/tmpUyjOGS:189: string ran past end of line\nWarning: /tmp/tmpUyjOGS:191: string ran past end of line\nWarning: /tmp/tmpUyjOGS:193: string ran past end of line\nWarning: /tmp/tmpUyjOGS:195: string ran past end of line\nWarning: /tmp/tmpUyjOGS:197: string ran past end of line\nWarning: /tmp/tmpUyjOGS:199: string ran past end of line\nWarning: /tmp/tmpUyjOGS:201: string ran past end of line\nWarning: /tmp/tmpUyjOGS:203: string ran past end of line\nWarning: /tmp/tmpUyjOGS:205: string ran past end of line\nWarning: /tmp/tmpUyjOGS:207: string ran past end of line\nWarning: /tmp/tmpUyjOGS:209: string ran past end of line\nWarning: /tmp/tmpUyjOGS:211: string ran past end of line\nWarning: /tmp/tmpUyjOGS:213: string ran past end of line\nWarning: /tmp/tmpUyjOGS:215: string ran past end of line\nWarning: /tmp/tmpUyjOGS:217: string ran past end of line\nWarning: /tmp/tmpUyjOGS:219: string ran past end of line\nWarning: /tmp/tmpUyjOGS:221: string ran past end of line\nWarning: /tmp/tmpUyjOGS:223: string ran past end of line\nWarning: /tmp/tmpUyjOGS:225: string ran past end of line\nWarning: /tmp/tmpUyjOGS:227: string ran past end of line\nWarning: /tmp/tmpUyjOGS:229: string ran past end of line\nWarning: /tmp/tmpUyjOGS:231: string ran past end of line\nWarning: /tmp/tmpUyjOGS:233: string ran past end of line\nWarning: /tmp/tmpUyjOGS:235: string ran past end of line\n",
       "output_type": "pyerr",
       "traceback": [
        "\u001b[1;31m---------------------------------------------------------------------------\u001b[0m\n\u001b[1;31mInvocationException\u001b[0m                       Traceback (most recent call last)",
        "\u001b[1;32m<ipython-input-6-530e53441c0f>\u001b[0m in \u001b[0;36m<module>\u001b[1;34m()\u001b[0m\n\u001b[0;32m      9\u001b[0m \u001b[0mgraph\u001b[0m \u001b[1;33m=\u001b[0m \u001b[0mpydot\u001b[0m\u001b[1;33m.\u001b[0m\u001b[0mgraph_from_dot_data\u001b[0m\u001b[1;33m(\u001b[0m\u001b[0mdot_data\u001b[0m\u001b[1;33m.\u001b[0m\u001b[0mgetvalue\u001b[0m\u001b[1;33m(\u001b[0m\u001b[1;33m)\u001b[0m\u001b[1;33m)\u001b[0m\u001b[1;33m\u001b[0m\u001b[0m\n\u001b[0;32m     10\u001b[0m \u001b[1;33m\u001b[0m\u001b[0m\n\u001b[1;32m---> 11\u001b[1;33m \u001b[0mgraph\u001b[0m\u001b[1;33m.\u001b[0m\u001b[0mwrite_png\u001b[0m\u001b[1;33m(\u001b[0m\u001b[1;34m'spam.png'\u001b[0m\u001b[1;33m)\u001b[0m\u001b[1;33m\u001b[0m\u001b[0m\n\u001b[0m\u001b[0;32m     12\u001b[0m \u001b[0mImage\u001b[0m\u001b[1;33m(\u001b[0m\u001b[0mfilename\u001b[0m\u001b[1;33m=\u001b[0m\u001b[1;34m'spam.png'\u001b[0m\u001b[1;33m)\u001b[0m \u001b[1;31m#display image\u001b[0m\u001b[1;33m\u001b[0m\u001b[0m\n",
        "\u001b[1;32m/home/pair/.virtualenvs/pair/lib/python2.7/site-packages/pydot.pyc\u001b[0m in \u001b[0;36m<lambda>\u001b[1;34m(path, f, prog)\u001b[0m\n\u001b[0;32m   1807\u001b[0m             self.__setattr__(\n\u001b[0;32m   1808\u001b[0m                 \u001b[1;34m'write_'\u001b[0m\u001b[1;33m+\u001b[0m\u001b[0mfrmt\u001b[0m\u001b[1;33m,\u001b[0m\u001b[1;33m\u001b[0m\u001b[0m\n\u001b[1;32m-> 1809\u001b[1;33m                 lambda path, f=frmt, prog=self.prog : self.write(path, format=f, prog=prog))\n\u001b[0m\u001b[0;32m   1810\u001b[0m \u001b[1;33m\u001b[0m\u001b[0m\n\u001b[0;32m   1811\u001b[0m             \u001b[0mf\u001b[0m \u001b[1;33m=\u001b[0m \u001b[0mself\u001b[0m\u001b[1;33m.\u001b[0m\u001b[0m__dict__\u001b[0m\u001b[1;33m[\u001b[0m\u001b[1;34m'write_'\u001b[0m\u001b[1;33m+\u001b[0m\u001b[0mfrmt\u001b[0m\u001b[1;33m]\u001b[0m\u001b[1;33m\u001b[0m\u001b[0m\n",
        "\u001b[1;32m/home/pair/.virtualenvs/pair/lib/python2.7/site-packages/pydot.pyc\u001b[0m in \u001b[0;36mwrite\u001b[1;34m(self, path, prog, format)\u001b[0m\n\u001b[0;32m   1909\u001b[0m             \u001b[0mdot_fd\u001b[0m\u001b[1;33m.\u001b[0m\u001b[0mwrite\u001b[0m\u001b[1;33m(\u001b[0m\u001b[0mdata\u001b[0m\u001b[1;33m)\u001b[0m\u001b[1;33m\u001b[0m\u001b[0m\n\u001b[0;32m   1910\u001b[0m         \u001b[1;32melse\u001b[0m\u001b[1;33m:\u001b[0m\u001b[1;33m\u001b[0m\u001b[0m\n\u001b[1;32m-> 1911\u001b[1;33m             \u001b[0mdot_fd\u001b[0m\u001b[1;33m.\u001b[0m\u001b[0mwrite\u001b[0m\u001b[1;33m(\u001b[0m\u001b[0mself\u001b[0m\u001b[1;33m.\u001b[0m\u001b[0mcreate\u001b[0m\u001b[1;33m(\u001b[0m\u001b[0mprog\u001b[0m\u001b[1;33m,\u001b[0m \u001b[0mformat\u001b[0m\u001b[1;33m)\u001b[0m\u001b[1;33m)\u001b[0m\u001b[1;33m\u001b[0m\u001b[0m\n\u001b[0m\u001b[0;32m   1912\u001b[0m         \u001b[0mdot_fd\u001b[0m\u001b[1;33m.\u001b[0m\u001b[0mclose\u001b[0m\u001b[1;33m(\u001b[0m\u001b[1;33m)\u001b[0m\u001b[1;33m\u001b[0m\u001b[0m\n\u001b[0;32m   1913\u001b[0m \u001b[1;33m\u001b[0m\u001b[0m\n",
        "\u001b[1;32m/home/pair/.virtualenvs/pair/lib/python2.7/site-packages/pydot.pyc\u001b[0m in \u001b[0;36mcreate\u001b[1;34m(self, prog, format)\u001b[0m\n\u001b[0;32m   2021\u001b[0m             raise InvocationException(\n\u001b[0;32m   2022\u001b[0m                 'Program terminated with status: %d. stderr follows: %s' % (\n\u001b[1;32m-> 2023\u001b[1;33m                     status, stderr_output) )\n\u001b[0m\u001b[0;32m   2024\u001b[0m         \u001b[1;32melif\u001b[0m \u001b[0mstderr_output\u001b[0m\u001b[1;33m:\u001b[0m\u001b[1;33m\u001b[0m\u001b[0m\n\u001b[0;32m   2025\u001b[0m             \u001b[1;32mprint\u001b[0m \u001b[0mstderr_output\u001b[0m\u001b[1;33m\u001b[0m\u001b[0m\n",
        "\u001b[1;31mInvocationException\u001b[0m: Program terminated with status: 1. stderr follows: Warning: /tmp/tmpUyjOGS:2: string ran past end of line\nWarning: /tmp/tmpUyjOGS:4: string ran past end of line\nError: /tmp/tmpUyjOGS:5: syntax error near line 5\ncontext: 1 >>>  [ <<< shape=\"box\", style=\"rounded\", label=\"word_freq_remove <= 0.0550\nWarning: /tmp/tmpUyjOGS:5: string ran past end of line\nWarning: /tmp/tmpUyjOGS:7: string ran past end of line\nWarning: /tmp/tmpUyjOGS:9: string ran past end of line\nWarning: /tmp/tmpUyjOGS:11: string ran past end of line\nWarning: /tmp/tmpUyjOGS:13: string ran past end of line\nWarning: /tmp/tmpUyjOGS:15: string ran past end of line\nWarning: /tmp/tmpUyjOGS:17: string ran past end of line\nWarning: /tmp/tmpUyjOGS:19: string ran past end of line\nWarning: /tmp/tmpUyjOGS:21: string ran past end of line\nWarning: /tmp/tmpUyjOGS:23: string ran past end of line\nWarning: /tmp/tmpUyjOGS:25: string ran past end of line\nWarning: /tmp/tmpUyjOGS:27: string ran past end of line\nWarning: /tmp/tmpUyjOGS:29: string ran past end of line\nWarning: /tmp/tmpUyjOGS:31: string ran past end of line\nWarning: /tmp/tmpUyjOGS:33: string ran past end of line\nWarning: /tmp/tmpUyjOGS:35: string ran past end of line\nWarning: /tmp/tmpUyjOGS:37: string ran past end of line\nWarning: /tmp/tmpUyjOGS:39: string ran past end of line\nWarning: /tmp/tmpUyjOGS:41: string ran past end of line\nWarning: /tmp/tmpUyjOGS:43: string ran past end of line\nWarning: /tmp/tmpUyjOGS:45: string ran past end of line\nWarning: /tmp/tmpUyjOGS:47: string ran past end of line\nWarning: /tmp/tmpUyjOGS:49: string ran past end of line\nWarning: /tmp/tmpUyjOGS:51: string ran past end of line\nWarning: /tmp/tmpUyjOGS:53: string ran past end of line\nWarning: /tmp/tmpUyjOGS:55: string ran past end of line\nWarning: /tmp/tmpUyjOGS:57: string ran past end of line\nWarning: /tmp/tmpUyjOGS:59: string ran past end of line\nWarning: /tmp/tmpUyjOGS:61: string ran past end of line\nWarning: /tmp/tmpUyjOGS:63: string ran past end of line\nWarning: /tmp/tmpUyjOGS:65: string ran past end of line\nWarning: /tmp/tmpUyjOGS:67: string ran past end of line\nWarning: /tmp/tmpUyjOGS:69: string ran past end of line\nWarning: /tmp/tmpUyjOGS:71: string ran past end of line\nWarning: /tmp/tmpUyjOGS:73: string ran past end of line\nWarning: /tmp/tmpUyjOGS:75: string ran past end of line\nWarning: /tmp/tmpUyjOGS:77: string ran past end of line\nWarning: /tmp/tmpUyjOGS:79: string ran past end of line\nWarning: /tmp/tmpUyjOGS:81: string ran past end of line\nWarning: /tmp/tmpUyjOGS:83: string ran past end of line\nWarning: /tmp/tmpUyjOGS:85: string ran past end of line\nWarning: /tmp/tmpUyjOGS:87: string ran past end of line\nWarning: /tmp/tmpUyjOGS:89: string ran past end of line\nWarning: /tmp/tmpUyjOGS:91: string ran past end of line\nWarning: /tmp/tmpUyjOGS:93: string ran past end of line\nWarning: /tmp/tmpUyjOGS:95: string ran past end of line\nWarning: /tmp/tmpUyjOGS:97: string ran past end of line\nWarning: /tmp/tmpUyjOGS:99: string ran past end of line\nWarning: /tmp/tmpUyjOGS:101: string ran past end of line\nWarning: /tmp/tmpUyjOGS:103: string ran past end of line\nWarning: /tmp/tmpUyjOGS:105: string ran past end of line\nWarning: /tmp/tmpUyjOGS:107: string ran past end of line\nWarning: /tmp/tmpUyjOGS:109: string ran past end of line\nWarning: /tmp/tmpUyjOGS:111: string ran past end of line\nWarning: /tmp/tmpUyjOGS:113: string ran past end of line\nWarning: /tmp/tmpUyjOGS:115: string ran past end of line\nWarning: /tmp/tmpUyjOGS:117: string ran past end of line\nWarning: /tmp/tmpUyjOGS:119: string ran past end of line\nWarning: /tmp/tmpUyjOGS:121: string ran past end of line\nWarning: /tmp/tmpUyjOGS:123: string ran past end of line\nWarning: /tmp/tmpUyjOGS:125: string ran past end of line\nWarning: /tmp/tmpUyjOGS:127: string ran past end of line\nWarning: /tmp/tmpUyjOGS:129: string ran past end of line\nWarning: /tmp/tmpUyjOGS:131: string ran past end of line\nWarning: /tmp/tmpUyjOGS:133: string ran past end of line\nWarning: /tmp/tmpUyjOGS:135: string ran past end of line\nWarning: /tmp/tmpUyjOGS:137: string ran past end of line\nWarning: /tmp/tmpUyjOGS:139: string ran past end of line\nWarning: /tmp/tmpUyjOGS:141: string ran past end of line\nWarning: /tmp/tmpUyjOGS:143: string ran past end of line\nWarning: /tmp/tmpUyjOGS:145: string ran past end of line\nWarning: /tmp/tmpUyjOGS:147: string ran past end of line\nWarning: /tmp/tmpUyjOGS:149: string ran past end of line\nWarning: /tmp/tmpUyjOGS:151: string ran past end of line\nWarning: /tmp/tmpUyjOGS:153: string ran past end of line\nWarning: /tmp/tmpUyjOGS:155: string ran past end of line\nWarning: /tmp/tmpUyjOGS:157: string ran past end of line\nWarning: /tmp/tmpUyjOGS:159: string ran past end of line\nWarning: /tmp/tmpUyjOGS:161: string ran past end of line\nWarning: /tmp/tmpUyjOGS:163: string ran past end of line\nWarning: /tmp/tmpUyjOGS:165: string ran past end of line\nWarning: /tmp/tmpUyjOGS:167: string ran past end of line\nWarning: /tmp/tmpUyjOGS:169: string ran past end of line\nWarning: /tmp/tmpUyjOGS:171: string ran past end of line\nWarning: /tmp/tmpUyjOGS:173: string ran past end of line\nWarning: /tmp/tmpUyjOGS:175: string ran past end of line\nWarning: /tmp/tmpUyjOGS:177: string ran past end of line\nWarning: /tmp/tmpUyjOGS:179: string ran past end of line\nWarning: /tmp/tmpUyjOGS:181: string ran past end of line\nWarning: /tmp/tmpUyjOGS:183: string ran past end of line\nWarning: /tmp/tmpUyjOGS:185: string ran past end of line\nWarning: /tmp/tmpUyjOGS:187: string ran past end of line\nWarning: /tmp/tmpUyjOGS:189: string ran past end of line\nWarning: /tmp/tmpUyjOGS:191: string ran past end of line\nWarning: /tmp/tmpUyjOGS:193: string ran past end of line\nWarning: /tmp/tmpUyjOGS:195: string ran past end of line\nWarning: /tmp/tmpUyjOGS:197: string ran past end of line\nWarning: /tmp/tmpUyjOGS:199: string ran past end of line\nWarning: /tmp/tmpUyjOGS:201: string ran past end of line\nWarning: /tmp/tmpUyjOGS:203: string ran past end of line\nWarning: /tmp/tmpUyjOGS:205: string ran past end of line\nWarning: /tmp/tmpUyjOGS:207: string ran past end of line\nWarning: /tmp/tmpUyjOGS:209: string ran past end of line\nWarning: /tmp/tmpUyjOGS:211: string ran past end of line\nWarning: /tmp/tmpUyjOGS:213: string ran past end of line\nWarning: /tmp/tmpUyjOGS:215: string ran past end of line\nWarning: /tmp/tmpUyjOGS:217: string ran past end of line\nWarning: /tmp/tmpUyjOGS:219: string ran past end of line\nWarning: /tmp/tmpUyjOGS:221: string ran past end of line\nWarning: /tmp/tmpUyjOGS:223: string ran past end of line\nWarning: /tmp/tmpUyjOGS:225: string ran past end of line\nWarning: /tmp/tmpUyjOGS:227: string ran past end of line\nWarning: /tmp/tmpUyjOGS:229: string ran past end of line\nWarning: /tmp/tmpUyjOGS:231: string ran past end of line\nWarning: /tmp/tmpUyjOGS:233: string ran past end of line\nWarning: /tmp/tmpUyjOGS:235: string ran past end of line\n"
       ]
      }
     ],
     "prompt_number": 6
    },
    {
     "cell_type": "heading",
     "level": 1,
     "metadata": {},
     "source": [
      "Testing Phase"
     ]
    },
    {
     "cell_type": "heading",
     "level": 3,
     "metadata": {},
     "source": [
      "Testing on the same data"
     ]
    },
    {
     "cell_type": "code",
     "collapsed": false,
     "input": [
      "from sklearn.metrics import confusion_matrix\n",
      "target_predicted = model.predict(data.data)\n",
      "\n",
      "cm = confusion_matrix(data.target, target_predicted)\n",
      "print(\"confusion matrix\\n%s\" % cm)\n",
      "print \"\\nAccuracy: %0.3f\\n\" % model.score(data.data, data.target)\n",
      "\n",
      "prec = cm[0,0]/float(cm[0,0]+cm[1,0]) #precision = tp/(tp+fp)\n",
      "rec = cm[0,0]/float(cm[0,0]+cm[0,1]) #recall = tp/(tp+fn)\n",
      "\n",
      "print \"Precision: %0.3f\" % prec\n",
      "print \"Recall: %0.3f\" % rec"
     ],
     "language": "python",
     "metadata": {},
     "outputs": []
    },
    {
     "cell_type": "heading",
     "level": 3,
     "metadata": {},
     "source": [
      "Training and testing on separate splits"
     ]
    },
    {
     "cell_type": "code",
     "collapsed": false,
     "input": [
      "from sklearn.cross_validation import train_test_split\n",
      "model = tree.DecisionTreeClassifier(min_samples_leaf=100)\n",
      "spam = SpamData()\n",
      "data_train, data_test, target_train, target_test = train_test_split(spam.data, spam.target, test_size=0.1, random_state=42)\n",
      "\n",
      "model.fit(data_train, target_train)\n",
      "print \"Accuracy: %0.3f\" % model.score(data_test, target_test)"
     ],
     "language": "python",
     "metadata": {},
     "outputs": []
    },
    {
     "cell_type": "heading",
     "level": 3,
     "metadata": {},
     "source": [
      "10-fold crossvalidation"
     ]
    },
    {
     "cell_type": "code",
     "collapsed": false,
     "input": [
      "from sklearn import cross_validation\n",
      "model = tree.DecisionTreeClassifier(min_samples_leaf=100)\n",
      "spam = SpamData()\n",
      "scores = cross_validation.cross_val_score(model, spam.data, spam.target, cv=10)\n",
      "print \"Accuracy: %0.2f (+/- %0.2f)\" % (scores.mean(), scores.std() / 2)"
     ],
     "language": "python",
     "metadata": {},
     "outputs": []
    },
    {
     "cell_type": "code",
     "collapsed": false,
     "input": [],
     "language": "python",
     "metadata": {},
     "outputs": []
    }
   ],
   "metadata": {}
  }
 ]
}