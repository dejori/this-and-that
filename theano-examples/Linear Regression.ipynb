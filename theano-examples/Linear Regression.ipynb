{
 "metadata": {
  "name": "",
  "signature": "sha256:ec66f58d0a7ae876d80e7a7d55de1e79f3fda9321eb9a21eca35ded7238ffc6a"
 },
 "nbformat": 3,
 "nbformat_minor": 0,
 "worksheets": [
  {
   "cells": [
    {
     "cell_type": "code",
     "collapsed": false,
     "input": [
      "import theano\n",
      "from theano import tensor as T\n",
      "import numpy as np\n",
      "import time\n",
      "from matplotlib import gridspec\n",
      "from mpl_toolkits.mplot3d import Axes3D\n",
      "from matplotlib import cm\n",
      "from IPython import display"
     ],
     "language": "python",
     "metadata": {},
     "outputs": [],
     "prompt_number": 1
    },
    {
     "cell_type": "markdown",
     "metadata": {},
     "source": [
      "# Linear Regression\n",
      "\n",
      "Lets learn the $w$ of the linear function $\\hat{y} = b + w \\cdot x $ based on data points randomly drawn from $y = 3 + 2x + \\varepsilon $\n",
      "\n",
      "We use:\n",
      "* mean-square-error (mse) as the cost function $c = \\frac{1}{n} \\sum_{n} {\\left (  \\hat{y} - y \\right )}^2 $ \n",
      "* the build-in [`Tensor.grad` function](http://deeplearning.net/software/theano/library/gradient.html) to get the gradients with respect to $c$\n",
      "\n",
      "and update $w$ and $b$ in each iteration to minimize the cost function"
     ]
    },
    {
     "cell_type": "heading",
     "level": 3,
     "metadata": {},
     "source": [
      "Create artificial data"
     ]
    },
    {
     "cell_type": "code",
     "collapsed": false,
     "input": [
      "def create_data(number_of_samples = 100, error = 0.33):\n",
      "    # lets create sample data based on trY = 3 + 2*trX + error\n",
      "    trX = np.linspace(-1, 1, number_of_samples+1)\n",
      "    trY = 3 + 2 * trX + np.random.randn(*trX.shape) * error\n",
      "    return trX, trY"
     ],
     "language": "python",
     "metadata": {},
     "outputs": [],
     "prompt_number": 2
    },
    {
     "cell_type": "heading",
     "level": 3,
     "metadata": {},
     "source": [
      "Calculate search space"
     ]
    },
    {
     "cell_type": "code",
     "collapsed": false,
     "input": [
      "def search_space(trX, trY, b_range=(0,5), w_range=(0,5)):\n",
      "    x_expl = T.vector(\"x_expl\")\n",
      "    y_expl = T.vector(\"y_expl\")\n",
      "\n",
      "    def model(x_expl, w_expl, b_expl):\n",
      "        return x_expl * w_expl + b_expl\n",
      "\n",
      "    w_expl = theano.shared(np.asarray(0., dtype=theano.config.floatX))\n",
      "    b_expl = theano.shared(np.asarray(0., dtype=theano.config.floatX))\n",
      "\n",
      "    y_hat_expl = model(x_expl, w_expl, b_expl)\n",
      "    \n",
      "    cost = T.mean(T.sqr(y_hat_expl - y_expl))\n",
      "    \n",
      "    train = theano.function(inputs=[x_expl, y_expl], outputs=cost, allow_input_downcast=True)\n",
      "    \n",
      "    ws_expl = np.arange(w_range[0],w_range[1],0.1, np.float32)\n",
      "    bs_expl = np.arange(b_range[0],b_range[1],0.1,np.float32)\n",
      "    C = np.zeros([len(ws_expl),len(bs_expl)])\n",
      "    for i, w_i in enumerate(ws_expl):\n",
      "        for j, b_i in enumerate(bs_expl):\n",
      "            w_expl.set_value(w_i)\n",
      "            b_expl.set_value(b_i)\n",
      "            \n",
      "            w_expl.get_value()\n",
      "            b_expl.get_value()\n",
      "            c = train(trX, trY)\n",
      "            C[i,j] = c\n",
      "    return C, ws_expl, bs_expl\n",
      "\n",
      "def find_index(array,value):\n",
      "    idx = (np.abs(array-value)).argmin()\n",
      "    return idx"
     ],
     "language": "python",
     "metadata": {},
     "outputs": [],
     "prompt_number": 41
    },
    {
     "cell_type": "heading",
     "level": 3,
     "metadata": {},
     "source": [
      "Learning $w$ and $b$"
     ]
    },
    {
     "cell_type": "code",
     "collapsed": false,
     "input": [
      "def train(trX, trY, number_of_iterations=10, learning_rate = 0.1):\n",
      "    x = T.vector(\"x\")\n",
      "    y = T.vector(\"y\")\n",
      "\n",
      "    def model(x, w, b):\n",
      "        return x * w + b\n",
      "\n",
      "    w = theano.shared(np.asarray(0., dtype=theano.config.floatX))\n",
      "    b = theano.shared(np.asarray(0., dtype=theano.config.floatX))\n",
      "\n",
      "    y_hat = model(x, w, b)\n",
      "\n",
      "    cost = T.mean(T.sqr(y_hat - y))\n",
      "    gw, gb  = T.grad(cost=cost, wrt=[w, b])\n",
      "    updates = [(w, w - gw * learning_rate), (b, b - gb * learning_rate)]\n",
      "\n",
      "    train = theano.function(inputs=[x, y], outputs=cost, updates=updates, allow_input_downcast=True)\n",
      "\n",
      "    errors = []\n",
      "    ws=[]\n",
      "    bs=[]\n",
      "    for i in range(number_of_iterations):\n",
      "        e = train(trX, trY)\n",
      "        errors.append(e)\n",
      "        ws.append(w.get_value())\n",
      "        bs.append(b.get_value())\n",
      "    return errors, ws, bs"
     ],
     "language": "python",
     "metadata": {},
     "outputs": [],
     "prompt_number": 4
    },
    {
     "cell_type": "heading",
     "level": 3,
     "metadata": {},
     "source": [
      "Plotting progress"
     ]
    },
    {
     "cell_type": "code",
     "collapsed": false,
     "input": [
      "def plot(trX, trY, errors, ws, bs, c_space, bs_expl, ws_expl):\n",
      "    fig = plt.figure(figsize=(12, 8)) \n",
      "    gs = gridspec.GridSpec(2, 2, height_ratios=[2, 1]) \n",
      "\n",
      "    #mse plot\n",
      "    plt.subplot(gs[1,:])\n",
      "    plt.axis([0, len(ws)-1, 0, errors[0]])\n",
      "\n",
      "    plt.subplot(gs[0,0])\n",
      "    plt.scatter(x=trX, y=trY)\n",
      "    \n",
      "    #search space contour\n",
      "    plt.subplot(gs[0,1])\n",
      "    ax = plt.contourf(c_space, cmap=plt.cm.jet, linestyles='solid')\n",
      "    plt.xlabel('w')\n",
      "    plt.ylabel('b')\n",
      "    \n",
      "    for i in range(len(ws)-1):\n",
      "        plt.subplot(gs[0,0])\n",
      "        plt.plot(trX, trX*ws[i]+bs[i], ':', color='r')\n",
      "        plt.title('iteration %d  w=%0.2f b=%0.2f' % ((i+1), ws[i], bs[i]))\n",
      "        display.clear_output(wait=True)\n",
      "        display.display(plt.gcf())\n",
      "        \n",
      "        #mse plot\n",
      "        plt.subplot(gs[1,:])\n",
      "        plt.scatter(x=i, y=errors[i], color='k')\n",
      "        plt.title('mse=%0.2f' % (errors[i]))\n",
      "        \n",
      "        #search space contour\n",
      "        plt.subplot(gs[0,1])\n",
      "        b_index = find_index(bs_expl, bs[i])\n",
      "        w_index = find_index(bs_expl, bs[i])\n",
      "        plt.scatter(x=w_index, y=b_index, marker='+', color='r')\n",
      "        \n",
      "        time.sleep(0.5)\n",
      "    \n",
      "    i+=1\n",
      "    display.clear_output(wait=True)\n",
      "    plt.subplot(gs[0,0])\n",
      "    plt.plot(trX, trX*ws[i]+bs[i], '-', color='r')\n",
      "    plt.title('iteration %d  w=%0.2f b=%0.2f' % ((i+1), ws[i], bs[i]))\n",
      "    \n",
      "    #mse plot\n",
      "    plt.subplot(gs[1,:])\n",
      "    plt.scatter(x=i, y=errors[i], color='r')\n",
      "    plt.title('mse=%0.2f' % (errors[i]))\n",
      "    \n",
      "    #search space contour\n",
      "    plt.subplot(gs[0,1])\n",
      "    b_index = find_index(bs_expl, bs[i])\n",
      "    w_index = find_index(bs_expl, bs[i])\n",
      "    plt.scatter(x=w_index, y=b_index, color='r')\n",
      "    \n",
      "    plt.show()"
     ],
     "language": "python",
     "metadata": {},
     "outputs": [],
     "prompt_number": 89
    },
    {
     "cell_type": "heading",
     "level": 3,
     "metadata": {},
     "source": [
      "Running it all together"
     ]
    },
    {
     "cell_type": "code",
     "collapsed": false,
     "input": [
      "trX, trY = create_data(number_of_samples = 200)\n",
      "c_space, ws_expl, bs_expl = search_space(trX, trY)"
     ],
     "language": "python",
     "metadata": {},
     "outputs": [],
     "prompt_number": 90
    },
    {
     "cell_type": "code",
     "collapsed": false,
     "input": [
      "errors, ws, bs = train(trX, trY, number_of_iterations=20, learning_rate = 0.1)\n",
      "plot(trX, trY, errors, ws, bs, c_space, ws_expl, bs_expl)"
     ],
     "language": "python",
     "metadata": {},
     "outputs": [
      {
       "metadata": {},
       "output_type": "display_data",
       "png": "[encoded data removed]",
       "text": [
        "<matplotlib.figure.Figure at 0x114ad1d50>"
       ]
      }
     ],
     "prompt_number": 91
    },
    {
     "cell_type": "code",
     "collapsed": false,
     "input": [],
     "language": "python",
     "metadata": {},
     "outputs": [],
     "prompt_number": 79
    },
    {
     "cell_type": "code",
     "collapsed": false,
     "input": [],
     "language": "python",
     "metadata": {},
     "outputs": []
    }
   ],
   "metadata": {}
  }
 ]
}