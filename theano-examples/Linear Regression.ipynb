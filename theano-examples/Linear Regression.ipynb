{
 "metadata": {
  "name": "",
  "signature": "sha256:22d731d4e6ea67fb47f91591c5e7ed7de95d1d3d881eaf5b5df5e870b783737c"
 },
 "nbformat": 3,
 "nbformat_minor": 0,
 "worksheets": [
  {
   "cells": [
    {
     "cell_type": "markdown",
     "metadata": {},
     "source": [
      "# Linear Regression\n",
      "\n",
      "Lets learn the $w$ of the linear function $\\hat{y} = w \\cdot x $ based on data points randomly drawn from $y = 2x + \\varepsilon $\n",
      "\n",
      "We use:\n",
      "* mean-square-error as the cost function $c = \\frac{1}{n} \\sum_{n} {\\left (  \\hat{y} - y \\right )}^2 $ \n",
      "* the build-in [`Tensor.grad` function](http://deeplearning.net/software/theano/library/gradient.html) to get the gradient with respect to $c$\n",
      "\n",
      "and update $w$ in each iteration to minimize the cost function"
     ]
    },
    {
     "cell_type": "heading",
     "level": 3,
     "metadata": {},
     "source": [
      "Let's fit the function"
     ]
    },
    {
     "cell_type": "code",
     "collapsed": false,
     "input": [
      "import theano\n",
      "from theano import tensor as T\n",
      "import numpy as np\n",
      "import pandas as ps \n",
      "import time\n",
      "from IPython import display\n",
      "\n",
      "# lets create sample data based on trY = w*trX + error\n",
      "trw = 20\n",
      "number_of_samples = 100\n",
      "error = 0.33\n",
      "trX = np.linspace(-1, 1, number_of_samples+1)\n",
      "trY = trw * trX + np.random.randn(*trX.shape) * error\n",
      "\n",
      "\n",
      "learning_rate = 0.001\n",
      "number_of_iterations = 20\n",
      "\n",
      "x = T.scalar('x')\n",
      "y = T.scalar('y')\n",
      "\n",
      "def model(x, w):\n",
      "    return x * w\n",
      "\n",
      "w = theano.shared(np.asarray(0., dtype=theano.config.floatX))\n",
      "y_hat = model(x, w)\n",
      "\n",
      "cost = T.mean(T.sqr(y_hat - y))\n",
      "gradient = T.grad(cost=cost, wrt=w)\n",
      "updates = [[w, w - gradient * learning_rate]]\n",
      "\n",
      "train = theano.function(inputs=[x, y], outputs=cost, updates=updates, allow_input_downcast=True)\n",
      "\n",
      "error = []\n",
      "ws=[]\n",
      "for i in range(number_of_iterations):\n",
      "    iteration_error = 0\n",
      "    for x_in, y_in in zip(trX, trY):\n",
      "        e = train(x_in, y_in)\n",
      "        iteration_error += e\n",
      "    iteration_error /= len(trX)\n",
      "    error.append(iteration_error)\n",
      "    ws.append(w.get_value())"
     ],
     "language": "python",
     "metadata": {},
     "outputs": [],
     "prompt_number": 35
    },
    {
     "cell_type": "heading",
     "level": 3,
     "metadata": {},
     "source": [
      "Lets plot everything we've got"
     ]
    },
    {
     "cell_type": "code",
     "collapsed": false,
     "input": [
      "plt.subplot(2, 1, 2)\n",
      "plt.axis([0, number_of_iterations, 0, error[0]])\n",
      "\n",
      "plt.subplot(2, 1, 1)\n",
      "plt.scatter(x=trX, y=trY)\n",
      "\n",
      "for i in range(number_of_iterations-1):\n",
      "    plt.subplot(2, 1, 1)\n",
      "    plt.plot(trX, trX*ws[i], ':', color='r')\n",
      "    plt.title('iteration %d  w=%0.2f mse=%0.2f' % ((i+1), ws[i], error[i]))\n",
      "    display.clear_output(wait=True)\n",
      "    display.display(plt.gcf())\n",
      "    \n",
      "    plt.subplot(2, 1, 2)\n",
      "    plt.scatter(x=i, y=error[i], color='k')\n",
      "    time.sleep(0.5)\n",
      "i+=1\n",
      "display.clear_output(wait=True)\n",
      "plt.subplot(2, 1, 1)\n",
      "plt.plot(trX, trX*ws[i], '-', color='r')\n",
      "plt.title('iteration %d  w=%0.2f mse=%0.2f' % ((i+1), ws[i], error[i]))\n",
      "\n",
      "plt.subplot(2, 1, 2)\n",
      "plt.axis([0, number_of_iterations, 0, error[0]])\n",
      "plt.scatter(x=i, y=error[i], color='k')\n",
      "plt.show()"
     ],
     "language": "python",
     "metadata": {},
     "outputs": [
      {
       "metadata": {},
       "output_type": "display_data",
       "png": "[encoded data removed]",
       "text": [
        "<matplotlib.figure.Figure at 0x27bcbd50>"
       ]
      }
     ],
     "prompt_number": 57
    },
    {
     "cell_type": "code",
     "collapsed": false,
     "input": [],
     "language": "python",
     "metadata": {},
     "outputs": [],
     "prompt_number": 37
    }
   ],
   "metadata": {}
  }
 ]
}