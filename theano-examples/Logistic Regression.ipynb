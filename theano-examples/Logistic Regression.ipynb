{
 "metadata": {
  "name": "",
  "signature": "sha256:c9495c44573e3f65fa8b52817bc7cb4adeeb28b6c8d808e928ca26ae6d04ecb8"
 },
 "nbformat": 3,
 "nbformat_minor": 0,
 "worksheets": [
  {
   "cells": [
    {
     "cell_type": "code",
     "collapsed": false,
     "input": [
      "import theano\n",
      "from theano import tensor as T\n",
      "import math\n",
      "import numpy as np\n",
      "import time\n",
      "from matplotlib import gridspec\n",
      "from mpl_toolkits.mplot3d import Axes3D\n",
      "from matplotlib import cm\n",
      "from IPython import display"
     ],
     "language": "python",
     "metadata": {},
     "outputs": [],
     "prompt_number": 3
    },
    {
     "cell_type": "markdown",
     "metadata": {},
     "source": [
      "### Logistic Regression"
     ]
    },
    {
     "cell_type": "heading",
     "level": 3,
     "metadata": {},
     "source": [
      "Create artificial data"
     ]
    },
    {
     "cell_type": "code",
     "collapsed": false,
     "input": [
      "def logistic(x):\n",
      "    return 1.0 / (1.0 + np.exp(-x))"
     ],
     "language": "python",
     "metadata": {},
     "outputs": [],
     "prompt_number": 4
    },
    {
     "cell_type": "code",
     "collapsed": false,
     "input": [
      "def create_data(number_of_samples = 100, w=3, b=2, error = 0.33):\n",
      "    trX = np.linspace(-5, 5, number_of_samples+1)\n",
      "    trY = logistic(b + w*trX + np.random.randn(*trX.shape) * error)\n",
      "    return trX, trY"
     ],
     "language": "python",
     "metadata": {},
     "outputs": [],
     "prompt_number": 115
    },
    {
     "cell_type": "code",
     "collapsed": false,
     "input": [
      "trX, trY = create_data(b=1, error=0)\n",
      "trY_cat = (trY > 0.5)+0"
     ],
     "language": "python",
     "metadata": {},
     "outputs": [],
     "prompt_number": 120
    },
    {
     "cell_type": "code",
     "collapsed": false,
     "input": [
      "plt.scatter(x=trX, y=trY)"
     ],
     "language": "python",
     "metadata": {},
     "outputs": [
      {
       "metadata": {},
       "output_type": "pyout",
       "prompt_number": 121,
       "text": [
        "<matplotlib.collections.PathCollection at 0x10ca4c0d0>"
       ]
      },
      {
       "metadata": {},
       "output_type": "display_data",
       "png": "[encoded data removed]",
       "text": [
        "<matplotlib.figure.Figure at 0x10cdde3d0>"
       ]
      }
     ],
     "prompt_number": 121
    },
    {
     "cell_type": "heading",
     "level": 3,
     "metadata": {},
     "source": [
      "Learning $w$ and $b$"
     ]
    },
    {
     "cell_type": "code",
     "collapsed": false,
     "input": [
      "def train(trX, trY, number_of_iterations=10, learning_rate = 0.1):\n",
      "    x = T.vector(\"x\")\n",
      "    y = T.vector(\"y\")#, dtype='int32')\n",
      "    \n",
      "    \n",
      "    def model(x, w, b):\n",
      "        return 1 / (1 + T.exp(-T.dot(x, w)-b))\n",
      "\n",
      "    w = theano.shared(np.asarray(0., dtype=theano.config.floatX), 'w')\n",
      "    b = theano.shared(np.asarray(0., dtype=theano.config.floatX), 'b')\n",
      "    \n",
      "    y_hat = model(x, w, b)\n",
      "    prediction = (y_hat > 0.5)\n",
      "    \n",
      "    # http://deeplearning.net/software/theano/library/tensor/nnet/nnet.html#tensor.nnet.binary_crossentropy\n",
      "    xent = -(y * T.log(y_hat) + (1-y) * T.log(1-y_hat)) # Cross-entropy loss function\n",
      "    cost = xent.mean() #+ 0.01 * (w ** 2).sum()\n",
      "    \n",
      "    gw, gb = T.grad(cost=cost, wrt=[w,b])\n",
      "    updates = [(w, w - gw * learning_rate), (b, b - gb * learning_rate)]\n",
      "\n",
      "    train = theano.function(inputs=[x, y], outputs=[prediction, xent, y_hat], updates=updates, allow_input_downcast=True)\n",
      "\n",
      "    errors = []\n",
      "    ws=[]\n",
      "    bs=[]\n",
      "    for i in range(number_of_iterations):\n",
      "        prediction, xent, y_hat = train(trX, trY)\n",
      "        ws.append(w.get_value())\n",
      "        bs.append(b.get_value())\n",
      "    return errors, ws, bs"
     ],
     "language": "python",
     "metadata": {},
     "outputs": [],
     "prompt_number": 182
    },
    {
     "cell_type": "code",
     "collapsed": false,
     "input": [
      "errors, ws, bs = train(trX, trY_cat, number_of_iterations=100, learning_rate = 1.2)"
     ],
     "language": "python",
     "metadata": {},
     "outputs": [],
     "prompt_number": 183
    },
    {
     "cell_type": "code",
     "collapsed": false,
     "input": [
      "plt.scatter(x=trX, y=trY)\n",
      "for i, w in enumerate(ws):\n",
      "    plt.scatter(x=trX, y=logistic(w*trX+bs[i]),marker='.', color='r')\n",
      "    display.clear_output(wait=True)\n",
      "    display.display(plt.gcf())\n",
      "    plt.title('iteration %d  w=%0.2f b=%0.2f' % ((i+1), ws[i], bs[i]))\n",
      "    time.sleep(0.5)\n",
      "display.clear_output(wait=True)\n",
      "plt.show()"
     ],
     "language": "python",
     "metadata": {},
     "outputs": [
      {
       "metadata": {},
       "output_type": "display_data",
       "png": "[encoded data removed]",
       "text": [
        "<matplotlib.figure.Figure at 0x10d3d1590>"
       ]
      }
     ],
     "prompt_number": 184
    },
    {
     "cell_type": "code",
     "collapsed": false,
     "input": [],
     "language": "python",
     "metadata": {},
     "outputs": []
    }
   ],
   "metadata": {}
  }
 ]
}